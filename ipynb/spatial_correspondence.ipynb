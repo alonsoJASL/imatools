{
 "cells": [
  {
   "cell_type": "code",
   "execution_count": 1,
   "metadata": {},
   "outputs": [],
   "source": [
    "import sys\n",
    "import os\n",
    "IMATOOLS_DIR = os.getcwd()+'/..'\n",
    "sys.path.insert(1, IMATOOLS_DIR)"
   ]
  },
  {
   "cell_type": "code",
   "execution_count": 2,
   "metadata": {},
   "outputs": [
    {
     "name": "stdout",
     "output_type": "stream",
     "text": [
      "macOS\n"
     ]
    }
   ],
   "source": [
    "from imatools.common import vtktools as vtku\n",
    "from imatools.common import ioutils as iou\n",
    "\n",
    "print(iou.chooseplatform())"
   ]
  },
  {
   "cell_type": "code",
   "execution_count": 3,
   "metadata": {},
   "outputs": [],
   "source": [
    "\n",
    "# Locations of hard drive based on platform\n",
    "dirdic={'macOS'   : '/Volumes/sandisk', \n",
    "        'Linux'   : '/media/jsl19/sandisk' , \n",
    "        'Windows' : 'D:/'}\n",
    "\n",
    "p2f = iou.fullfile(dirdic[iou.chooseplatform()], '09-dnav_vs_inav/umc/local')\n",
    "N = os.listdir(p2f)\n",
    "xnav = lambda x : 'LGE_' + x + 'NAV'\n"
   ]
  },
  {
   "cell_type": "markdown",
   "metadata": {},
   "source": [
    "# Project iNAV values on dNAV mesh"
   ]
  },
  {
   "cell_type": "code",
   "execution_count": 5,
   "metadata": {},
   "outputs": [],
   "source": [
    "n = 1  # 0..22 (23 cases)\n",
    "case_path = iou.fullfile(p2f, str(N[n]))\n",
    "inav = iou.fullfile(case_path, xnav('i'), 'OUTPUT')\n",
    "dnav = iou.fullfile(case_path, xnav('d'), 'OUTPUT')\n",
    "\n",
    "dpath = iou.searchFileByType(dnav, 'Normalised', 'vtk')[0]\n",
    "ipath = iou.searchFileByType(inav, 'Normalised', 'vtk')[0]\n",
    "\n",
    "msh_d = vtku.readVtk(dpath) # source\n",
    "msh_i = vtku.readVtk(ipath) # target\n",
    "\n",
    "msh_i_on_d = vtku.projectCellData(msh_source=msh_d, msh_target=msh_i)\n",
    "\n",
    "vtku.writeVtk(msh_i_on_d, dnav, \"Normalised_iNav_on_dNav\")\n",
    "        "
   ]
  },
  {
   "cell_type": "markdown",
   "metadata": {},
   "source": [
    "# Compare meshes and projections \n",
    "We compare meshes\n",
    "\n",
    "+ `msh_d = ` dNAV , and \n",
    "+ `msh_i_on_d = ` iNAV \n",
    "\n",
    "Both have been loaded from the `Normalised` version, so thresholds are simple, e.g `1.2, 1.3`, etc\n"
   ]
  },
  {
   "cell_type": "code",
   "execution_count": null,
   "metadata": {},
   "outputs": [],
   "source": [
    "## create thresholded masks of each mesh\n",
    "import vtk \n",
    "\n",
    "print(case_path)\n",
    "\n",
    "d_thres = 1.2 \n",
    "iod_thres = 1.15 # try different thresholds \n",
    "\n",
    "omsh = vtk.vtkPolyData()\n",
    "omsh.DeepCopy(msh_d)\n",
    "o_scalar = vtk.vtkFloatArray()\n",
    "o_scalar.SetNumberOfComponents(1)\n",
    "\n",
    "iod_scalar = msh_i_on_d.GetCellData().GetScalars()\n",
    "d_scalar = msh_d.GetCellData().GetScalars()\n",
    "\n",
    "for ix in range(msh_d.GetNumberOfCells()) : \n",
    "    value_assigned = 0\n",
    "\n",
    "    if (d_scalar.GetTuple1(ix) == 0) : \n",
    "        value_assigned = -1\n",
    "\n",
    "    else :  \n",
    "        if (d_scalar.GetTuple1(ix) >= d_thres) : \n",
    "            value_assigned += 1\n",
    "\n",
    "        if (iod_scalar.GetTuple1(ix) >= iod_thres) : \n",
    "            value_assigned += 2\n",
    "    \n",
    "    o_scalar.InsertNextTuple1(value_assigned)\n",
    "\n",
    "omsh.GetCellData().SetScalars(o_scalar)\n",
    "vtku.writeVtk(omsh, case_path, \"overlap\")\n"
   ]
  },
  {
   "cell_type": "code",
   "execution_count": 6,
   "metadata": {},
   "outputs": [
    {
     "name": "stdout",
     "output_type": "stream",
     "text": [
      "{'jaccard': 0.4544549076421586, 'precision': 0.6279244338796447, 'recall': 0.6219330855018588, 'accuracy': 0.757652548167813}\n",
      "D: 0.32589908001115137, IOD: 0.3209329907096264\n"
     ]
    }
   ],
   "source": [
    "d_thres = 1.2\n",
    "iod_thres = 1.15 # try different thresholds\n",
    "\n",
    "omsh, Counts = vtku.fibrosisOverlapCell(msh_d, msh_i_on_d, d_thres, iod_thres, name0='dnav', name1='inav') \n",
    "\n",
    "fib_d = vtku.fibrorisScore(msh_d, d_thres)\n",
    "fib_iod = vtku.fibrorisScore(msh_i_on_d, iod_thres)\n",
    "\n",
    "tp = Counts['overlap']\n",
    "tn = Counts['none']\n",
    "fp = Counts['inav']\n",
    "fn = Counts['dnav']\n",
    "\n",
    "perf = iou.performanceMetrics(tp, tn, fp, fn)\n",
    "print(perf)\n",
    "print(\"D: {}, IOD: {}\".format(fib_d, fib_iod))"
   ]
  },
  {
   "cell_type": "markdown",
   "metadata": {},
   "source": [
    "# Project cell data\n",
    "Full function definition (for debugging)"
   ]
  },
  {
   "cell_type": "code",
   "execution_count": null,
   "metadata": {},
   "outputs": [],
   "source": [
    "import vtk \n",
    "import numpy as np\n",
    "\n",
    "n = 1  # 0..22 (23 cases)\n",
    "case_path = iou.fullfile(p2f, str(N[n]))\n",
    "inav = iou.fullfile(case_path, xnav('i'), 'OUTPUT')\n",
    "dnav = iou.fullfile(case_path, xnav('d'), 'OUTPUT')\n",
    "\n",
    "\n",
    "dpath = iou.searchFileByType(dnav, 'Normalised', 'vtk')[0]\n",
    "ipath = iou.searchFileByType(inav, 'Normalised', 'vtk')[0]\n",
    "\n",
    "iou.cout(\"SOURCE: {}\".format(dpath))\n",
    "iou.cout(\"TARGET: {}\".format(ipath))\n",
    "\n",
    "msh_source = vtku.readVtk(dpath)  # source: dNAV\n",
    "msh_target = vtku.readVtk(ipath)  # target: iNAV\n",
    "\n",
    "omsh = vtk.vtkPolyData()\n",
    "omsh.DeepCopy(msh_source)\n",
    "\n",
    "target_pl = vtk.vtkCellLocator()\n",
    "target_pl.SetDataSet(msh_target)\n",
    "target_pl.AutomaticOn()\n",
    "target_pl.BuildLocator()\n",
    "\n",
    "target_scalar = msh_target.GetCellData().GetScalars()\n",
    "o_scalar = vtk.vtkFloatArray()\n",
    "o_scalar.SetNumberOfComponents(1)\n",
    "\n",
    "default_value = 0\n",
    "cog = vtku.getCentreOfGravity(msh_source)\n",
    "for ix in range(msh_source.GetNumberOfCells()):\n",
    "    pt = cog[ix, :]\n",
    "    closest_pt = np.zeros((3, 1))\n",
    "    c_id = np.int8()\n",
    "    subid = np.int8()\n",
    "    dist2 = np.float32()\n",
    "    id_on_target = vtk.reference(c_id)\n",
    "    Subid = vtk.reference(subid)\n",
    "    Dist2 = vtk.reference(dist2)\n",
    "    # target_pl.FindCell(pt)\n",
    "    target_pl.FindClosestPoint(pt, closest_pt, id_on_target, Subid, Dist2)\n",
    "    if (id_on_target > 0) : \n",
    "        mapped_val = target_scalar.GetTuple1(id_on_target) \n",
    "    else: \n",
    "        mapped_val = default_value\n",
    "\n",
    "    o_scalar.InsertNextTuple1(mapped_val)\n",
    "\n",
    "omsh.GetCellData().SetScalars(o_scalar)\n",
    "\n",
    "vtku.writeVtk(omsh, case_path, \"iod_test\")"
   ]
  }
 ],
 "metadata": {
  "kernelspec": {
   "display_name": "Python 3.8.13 ('imatools')",
   "language": "python",
   "name": "python3"
  },
  "language_info": {
   "codemirror_mode": {
    "name": "ipython",
    "version": 3
   },
   "file_extension": ".py",
   "mimetype": "text/x-python",
   "name": "python",
   "nbconvert_exporter": "python",
   "pygments_lexer": "ipython3",
   "version": "3.8.13"
  },
  "orig_nbformat": 4,
  "vscode": {
   "interpreter": {
    "hash": "d269f9cdd2e06e56f3b53688bbf2655cca88fd34c49022fdd852160d3de00689"
   }
  }
 },
 "nbformat": 4,
 "nbformat_minor": 2
}
