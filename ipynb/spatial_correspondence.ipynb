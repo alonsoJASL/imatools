{
 "cells": [
  {
   "cell_type": "code",
   "execution_count": 1,
   "metadata": {},
   "outputs": [],
   "source": [
    "import sys\n",
    "import os\n",
    "IMATOOLS_DIR = os.getcwd()+'/..'\n",
    "sys.path.insert(1, IMATOOLS_DIR)"
   ]
  },
  {
   "cell_type": "code",
   "execution_count": 6,
   "metadata": {},
   "outputs": [
    {
     "name": "stdout",
     "output_type": "stream",
     "text": [
      "macOS\n"
     ]
    }
   ],
   "source": [
    "from imatools.common import vtktools as vtku\n",
    "from imatools.common import ioutils as iou\n",
    "\n",
    "print(iou.chooseplatform())"
   ]
  },
  {
   "cell_type": "code",
   "execution_count": 3,
   "metadata": {},
   "outputs": [],
   "source": [
    "\n",
    "# Locations of hard drive based on platform\n",
    "dirdic={'macOS'   : '/Volumes/sandisk', \n",
    "        'Linux'   : '/media/jsl19/sandisk' , \n",
    "        'Windows' : 'D:/'}\n",
    "\n",
    "p2f = iou.fullfile(dirdic[iou.chooseplatform()], '09-dnav_vs_inav/umc/local')\n",
    "N = os.listdir(p2f)\n",
    "xnav = lambda x : 'LGE_' + x + 'NAV'\n"
   ]
  },
  {
   "cell_type": "markdown",
   "metadata": {},
   "source": [
    "# Project iNAV values on dNAV mesh"
   ]
  },
  {
   "cell_type": "code",
   "execution_count": 4,
   "metadata": {},
   "outputs": [],
   "source": [
    "n = 1  # 0..22 (23 cases)\n",
    "case_path = iou.fullfile(p2f, str(N[n]))\n",
    "inav = iou.fullfile(case_path, xnav('i'), 'OUTPUT')\n",
    "dnav = iou.fullfile(case_path, xnav('d'), 'OUTPUT')\n",
    "\n",
    "dpath = iou.searchFileByType(dnav, 'Normalised', 'vtk')[0]\n",
    "ipath = iou.searchFileByType(inav, 'Normalised', 'vtk')[0]\n",
    "\n",
    "msh_d = vtku.readVtk(dpath) # source\n",
    "msh_i = vtku.readVtk(ipath) # target\n",
    "\n",
    "msh_i_on_d = vtku.projectCellData(msh_source=msh_d, msh_target=msh_i)\n",
    "\n",
    "vtku.writeVtk(msh_i_on_d, dnav, \"Normalised_iNav_on_dNav\")\n",
    "        "
   ]
  },
  {
   "cell_type": "markdown",
   "metadata": {},
   "source": [
    "# Compare meshes and projections \n",
    "We compare meshes\n",
    "\n",
    "+ `msh_d = ` dNAV , and \n",
    "+ `msh_i_on_d = ` iNAV \n",
    "\n",
    "Both have been loaded from the `Normalised` version, so thresholds are simple, e.g `1.2, 1.3`, etc\n"
   ]
  },
  {
   "cell_type": "code",
   "execution_count": 7,
   "metadata": {},
   "outputs": [
    {
     "name": "stdout",
     "output_type": "stream",
     "text": [
      "/Volumes/sandisk/09-dnav_vs_inav/umc/local/5\n"
     ]
    },
    {
     "ename": "NameError",
     "evalue": "name 'vktu' is not defined",
     "output_type": "error",
     "traceback": [
      "\u001b[0;31m---------------------------------------------------------------------------\u001b[0m",
      "\u001b[0;31mNameError\u001b[0m                                 Traceback (most recent call last)",
      "\u001b[1;32m/Users/jsolislemus/dev/python/imatools/ipynb/spatial_correspondence.ipynb Cell 7\u001b[0m in \u001b[0;36m<cell line: 33>\u001b[0;34m()\u001b[0m\n\u001b[1;32m     <a href='vscode-notebook-cell:/Users/jsolislemus/dev/python/imatools/ipynb/spatial_correspondence.ipynb#W6sZmlsZQ%3D%3D?line=29'>30</a>\u001b[0m     o_scalar\u001b[39m.\u001b[39mInsertNextTuple1(value_assigned)\n\u001b[1;32m     <a href='vscode-notebook-cell:/Users/jsolislemus/dev/python/imatools/ipynb/spatial_correspondence.ipynb#W6sZmlsZQ%3D%3D?line=31'>32</a>\u001b[0m omsh\u001b[39m.\u001b[39mGetCellData()\u001b[39m.\u001b[39mSetScalars(o_scalar)\n\u001b[0;32m---> <a href='vscode-notebook-cell:/Users/jsolislemus/dev/python/imatools/ipynb/spatial_correspondence.ipynb#W6sZmlsZQ%3D%3D?line=32'>33</a>\u001b[0m vktu\u001b[39m.\u001b[39mwriteVtk(omsh, case_path, \u001b[39m\"\u001b[39m\u001b[39moverlap\u001b[39m\u001b[39m\"\u001b[39m)\n",
      "\u001b[0;31mNameError\u001b[0m: name 'vktu' is not defined"
     ]
    }
   ],
   "source": [
    "## create thresholded masks of each mesh\n",
    "import vtk \n",
    "\n",
    "print(case_path)\n",
    "\n",
    "d_thres = 1.2 \n",
    "iod_thres = 1.15 # try different thresholds \n",
    "\n",
    "omsh = vtk.vtkPolyData()\n",
    "omsh.DeepCopy(msh_d)\n",
    "o_scalar = vtk.vtkFloatArray()\n",
    "o_scalar.SetNumberOfComponents(1)\n",
    "\n",
    "iod_scalar = msh_i_on_d.GetCellData().GetScalars()\n",
    "d_scalar = msh_d.GetCellData().GetScalars()\n",
    "\n",
    "for ix in range(msh_d.GetNumberOfCells()) : \n",
    "    value_assigned = 0\n",
    "\n",
    "    if (d_scalar.GetTuple1(ix) == 0) : \n",
    "        value_assigned = -1\n",
    "\n",
    "    else :  \n",
    "        if (d_scalar.GetTuple1(ix) >= d_thres) : \n",
    "            value_assigned += 1\n",
    "\n",
    "        if (iod_scalar.GetTuple1(ix) >= iod_thres) : \n",
    "            value_assigned += 2\n",
    "    \n",
    "    o_scalar.InsertNextTuple1(value_assigned)\n",
    "\n",
    "omsh.GetCellData().SetScalars(o_scalar)\n",
    "vtku.writeVtk(omsh, case_path, \"overlap\")\n"
   ]
  },
  {
   "cell_type": "code",
   "execution_count": null,
   "metadata": {},
   "outputs": [
    {
     "name": "stdout",
     "output_type": "stream",
     "text": [
      "{'jaccard': 0.2368011323425336, 'precision': 0.38572087304027053, 'recall': 0.38016967126193, 'accuracy': 0.3557688478234896}\n",
      "D: 0.32589908001115137, IOD: 0.3209329907096264\n",
      "<built-in method values of dict object at 0x7f425c8fb4c0>\n"
     ]
    }
   ],
   "source": [
    "d_thres = 1.2\n",
    "iod_thres = 1.15 # try different thresholds\n",
    "\n",
    "omsh, Counts = vtku.fibrosisOverlapCell(msh_d, msh_i_on_d, d_thres, iod_thres, name0='dnav', name1='inav') \n",
    "\n",
    "fib_d = vtku.fibrorisScore(msh_d, d_thres)\n",
    "fib_iod = vtku.fibrorisScore(msh_i_on_d, iod_thres)\n",
    "\n",
    "tp = Counts['overlap']\n",
    "tn = Counts['none']\n",
    "fp = Counts['inav']\n",
    "fn = Counts['dnav']\n",
    "\n",
    "perf = iou.performanceMetrics(tp, tn, fp, fn)\n",
    "print(perf)\n",
    "print(\"D: {}, IOD: {}\".format(fib_d, fib_iod))"
   ]
  }
 ],
 "metadata": {
  "kernelspec": {
   "display_name": "Python 3.8.13 ('imatools')",
   "language": "python",
   "name": "python3"
  },
  "language_info": {
   "codemirror_mode": {
    "name": "ipython",
    "version": 3
   },
   "file_extension": ".py",
   "mimetype": "text/x-python",
   "name": "python",
   "nbconvert_exporter": "python",
   "pygments_lexer": "ipython3",
   "version": "3.8.13"
  },
  "orig_nbformat": 4,
  "vscode": {
   "interpreter": {
    "hash": "d269f9cdd2e06e56f3b53688bbf2655cca88fd34c49022fdd852160d3de00689"
   }
  }
 },
 "nbformat": 4,
 "nbformat_minor": 2
}
