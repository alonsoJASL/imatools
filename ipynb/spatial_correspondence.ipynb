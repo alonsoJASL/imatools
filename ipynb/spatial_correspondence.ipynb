{
 "cells": [
  {
   "cell_type": "code",
   "execution_count": 6,
   "metadata": {},
   "outputs": [],
   "source": [
    "import sys\n",
    "import os\n",
    "IMATOOLS_DIR = os.getcwd()+'/..'\n",
    "sys.path.insert(1, IMATOOLS_DIR)\n",
    "\n"
   ]
  },
  {
   "cell_type": "code",
   "execution_count": 7,
   "metadata": {},
   "outputs": [
    {
     "name": "stdout",
     "output_type": "stream",
     "text": [
      "macOS\n"
     ]
    }
   ],
   "source": [
    "import imatools.vtktools as vtktools\n",
    "import imatools.ioutils as iou\n",
    "\n",
    "print(iou.chooseplatform())"
   ]
  },
  {
   "cell_type": "code",
   "execution_count": 8,
   "metadata": {},
   "outputs": [],
   "source": [
    "\n",
    "# Locations of hard drive based on platform\n",
    "dirdic={'macOS'   : '/Volumes/sandisk', \n",
    "        'Linux'   : '/media/jsl19/sandisk' , \n",
    "        'Windows' : 'D:/'}\n",
    "\n",
    "p2f = iou.fullfile(dirdic[iou.chooseplatform()], '09-dnav_vs_inav/umc/local')\n",
    "N = os.listdir(p2f)\n",
    "xnav = lambda x : 'LGE_' + x + 'NAV'\n"
   ]
  },
  {
   "cell_type": "markdown",
   "metadata": {},
   "source": [
    "# Project iNAV values on dNAV mesh"
   ]
  },
  {
   "cell_type": "code",
   "execution_count": 9,
   "metadata": {},
   "outputs": [],
   "source": [
    "n = 1  # 0..22 (23 cases)\n",
    "case_path = iou.fullfile(p2f, str(N[n]))\n",
    "inav = iou.fullfile(case_path, xnav('i'), 'OUTPUT')\n",
    "dnav = iou.fullfile(case_path, xnav('d'), 'OUTPUT')\n",
    "\n",
    "dpath = iou.searchFileByType(dnav, 'Normalised', 'vtk')[0]\n",
    "ipath = iou.searchFileByType(inav, 'Normalised', 'vtk')[0]\n",
    "\n",
    "msh_d = vtktools.readVtk(dpath) # source\n",
    "msh_i = vtktools.readVtk(ipath) # target\n",
    "\n",
    "msh_i_on_d = vtktools.projectCellData(msh_source=msh_d, msh_target=msh_i)\n",
    "\n",
    "vtktools.writeVtk(msh_i_on_d, dnav, \"Normalised_iNav_on_dNav\")\n",
    "        "
   ]
  },
  {
   "cell_type": "markdown",
   "metadata": {},
   "source": [
    "# Compare meshes and projections \n",
    "We compare meshes\n",
    "\n",
    "+ `msh_d = ` dNAV , and \n",
    "+ `msh_i_on_d = ` iNAV \n",
    "\n",
    "Both have been loaded from the `Normalised` version, so thresholds are simple, e.g `1.2, 1.3`, etc\n"
   ]
  },
  {
   "cell_type": "code",
   "execution_count": 10,
   "metadata": {},
   "outputs": [
    {
     "name": "stdout",
     "output_type": "stream",
     "text": [
      "/Volumes/sandisk/09-dnav_vs_inav/umc/local/5\n"
     ]
    }
   ],
   "source": [
    "## create thresholded masks of each mesh\n",
    "import vtk \n",
    "\n",
    "print(case_path)\n",
    "\n",
    "d_thres = 1.2 \n",
    "iod_thres = 1.15 # try different thresholds \n",
    "\n",
    "omsh = vtk.vtkPolyData()\n",
    "omsh.DeepCopy(msh_d)\n",
    "o_scalar = vtk.vtkFloatArray()\n",
    "o_scalar.SetNumberOfComponents(1)\n",
    "\n",
    "iod_scalar = msh_i_on_d.GetCellData().GetScalars()\n",
    "d_scalar = msh_d.GetCellData().GetScalars()\n",
    "\n",
    "for ix in range(msh_d.GetNumberOfCells()) : \n",
    "    value_assigned = 0\n",
    "\n",
    "    if (d_scalar.GetTuple1(ix) == 0) : \n",
    "        value_assigned = -1\n",
    "\n",
    "    else :  \n",
    "        if (d_scalar.GetTuple1(ix) >= d_thres) : \n",
    "            value_assigned += 1\n",
    "\n",
    "        if (iod_scalar.GetTuple1(ix) >= iod_thres) : \n",
    "            value_assigned += 2\n",
    "    \n",
    "    o_scalar.InsertNextTuple1(value_assigned)\n",
    "\n",
    "omsh.GetCellData().SetScalars(o_scalar)\n",
    "vtktools.writeVtk(omsh, case_path, \"overlap\")\n"
   ]
  },
  {
   "cell_type": "code",
   "execution_count": 13,
   "metadata": {},
   "outputs": [
    {
     "name": "stdout",
     "output_type": "stream",
     "text": [
      "{'jaccard': 0.2368011323425336, 'precision': 0.38572087304027053, 'recall': 0.38016967126193, 'accuracy': 0.3557688478234896}\n"
     ]
    }
   ],
   "source": [
    "d_thres = 1.2\n",
    "iod_thres = 1.2  # try different thresholds\n",
    "\n",
    "omsh, Counts = vtktools.fibrosisOverlapCell(msh_d, msh_i_on_d, d_thres, iod_thres, name0='dnav', name1='inav') \n",
    "\n",
    "tp = Counts['overlap']\n",
    "tn = Counts['none']\n",
    "fp = Counts['inav']\n",
    "fn = Counts['dnav']\n",
    "\n",
    "perf = iou.performanceMetrics(tp, tn, fp, fn)\n",
    "print(perf)\n"
   ]
  }
 ],
 "metadata": {
  "kernelspec": {
   "display_name": "Python 3.8.13 ('imatools')",
   "language": "python",
   "name": "python3"
  },
  "language_info": {
   "codemirror_mode": {
    "name": "ipython",
    "version": 3
   },
   "file_extension": ".py",
   "mimetype": "text/x-python",
   "name": "python",
   "nbconvert_exporter": "python",
   "pygments_lexer": "ipython3",
   "version": "3.8.13"
  },
  "orig_nbformat": 4,
  "vscode": {
   "interpreter": {
    "hash": "d269f9cdd2e06e56f3b53688bbf2655cca88fd34c49022fdd852160d3de00689"
   }
  }
 },
 "nbformat": 4,
 "nbformat_minor": 2
}
