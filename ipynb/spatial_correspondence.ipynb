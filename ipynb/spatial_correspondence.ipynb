{
 "cells": [
  {
   "cell_type": "code",
   "execution_count": 1,
   "metadata": {},
   "outputs": [],
   "source": [
    "import sys\n",
    "import os\n",
    "IMATOOLS_DIR = os.getcwd()+'/..'\n",
    "sys.path.insert(1, IMATOOLS_DIR)\n"
   ]
  },
  {
   "cell_type": "code",
   "execution_count": 2,
   "metadata": {},
   "outputs": [],
   "source": [
    "import imatools.vtktools as vtktools\n",
    "import imatools.ioutils as iou\n",
    "import platform as pltf\n",
    "\n",
    "# Locations of hard drive based on platform\n",
    "dirdic={'MacOS'   : '/Volumes/sandisk', \n",
    "        'Linux'   : '/media/jsl19/sandisk' , \n",
    "        'Windows' : 'D:/'}\n",
    "\n",
    "p2f = iou.fullfile(dirdic[pltf.system()], '09-dnav_vs_inav/umc/local')\n",
    "N = os.listdir(p2f)\n",
    "xnav = lambda x : 'LGE_' + x + 'NAV'\n"
   ]
  },
  {
   "cell_type": "code",
   "execution_count": 3,
   "metadata": {},
   "outputs": [
    {
     "data": {
      "text/plain": [
       "1"
      ]
     },
     "execution_count": 3,
     "metadata": {},
     "output_type": "execute_result"
    }
   ],
   "source": [
    "import vtk \n",
    "n = 1  # 0..22 (23 cases)\n",
    "inav = iou.fullfile(p2f, str(N[n]), xnav('i'), 'OUTPUT')\n",
    "dnav = iou.fullfile(p2f, str(N[n]), xnav('d'), 'OUTPUT')\n",
    "\n",
    "dpath = iou.searchFileByType(dnav, 'IIR_MaxScar', 'vtk')[0]\n",
    "ipath = iou.searchFileByType(inav, 'IIR_MaxScar', 'vtk')[0]\n",
    "\n",
    "msh_d = vtktools.readVtk(dpath) # source\n",
    "msh_i = vtktools.readVtk(ipath) # target\n",
    "\n",
    "omsh = vtk.vtkPolyData()\n",
    "omsh.DeepCopy(msh_d)\n",
    "\n",
    "target_pl = vtk.vtkPointLocator()\n",
    "target_pl.SetDataSet(msh_i)\n",
    "target_pl.AutomaticOn()\n",
    "target_pl.BuildLocator()\n",
    "\n",
    "target_scalar = msh_i.GetCellData().GetScalars()\n",
    "o_scalar = vtk.vtkFloatArray()\n",
    "o_scalar.SetNumberOfComponents(1)\n",
    "\n",
    "default_value=0\n",
    "for ix in range(msh_d.GetNumberOfPoints()) :\n",
    "    pt = msh_d.GetPoint(ix)\n",
    "    id_on_target = target_pl.FindClosestPoint(pt)\n",
    "\n",
    "    mapped_val = target_scalar.GetTuple1(id_on_target) if (id_on_target > 0) else default_value\n",
    "    o_scalar.InsertNextTuple1(mapped_val)\n",
    "\n",
    "omsh.GetPointData().SetScalars(o_scalar)\n",
    "        "
   ]
  },
  {
   "cell_type": "code",
   "execution_count": 4,
   "metadata": {},
   "outputs": [
    {
     "ename": "TypeError",
     "evalue": "Cannot interpret '3' as a data type",
     "output_type": "error",
     "traceback": [
      "\u001b[0;31m---------------------------------------------------------------------------\u001b[0m",
      "\u001b[0;31mTypeError\u001b[0m                                 Traceback (most recent call last)",
      "\u001b[1;32m/home/jsl19/dev/python/imatools/ipynb/spatial_correspondence.ipynb Cell 4\u001b[0m in \u001b[0;36m<cell line: 3>\u001b[0;34m()\u001b[0m\n\u001b[1;32m      <a href='vscode-notebook-cell:/home/jsl19/dev/python/imatools/ipynb/spatial_correspondence.ipynb#W4sZmlsZQ%3D%3D?line=0'>1</a>\u001b[0m \u001b[39mimport\u001b[39;00m \u001b[39mnumpy\u001b[39;00m \u001b[39mas\u001b[39;00m \u001b[39mnp\u001b[39;00m \n\u001b[0;32m----> <a href='vscode-notebook-cell:/home/jsl19/dev/python/imatools/ipynb/spatial_correspondence.ipynb#W4sZmlsZQ%3D%3D?line=2'>3</a>\u001b[0m cog \u001b[39m=\u001b[39m vtktools\u001b[39m.\u001b[39;49mgetCentreOfGravity(msh_d)\n\u001b[1;32m      <a href='vscode-notebook-cell:/home/jsl19/dev/python/imatools/ipynb/spatial_correspondence.ipynb#W4sZmlsZQ%3D%3D?line=4'>5</a>\u001b[0m \u001b[39mprint\u001b[39m(cog)\n",
      "File \u001b[0;32m~/dev/python/imatools/ipynb/../imatools/vtktools.py:39\u001b[0m, in \u001b[0;36mgetCentreOfGravity\u001b[0;34m(msh)\u001b[0m\n\u001b[1;32m     37\u001b[0m \u001b[39mdef\u001b[39;00m \u001b[39mgetCentreOfGravity\u001b[39m(msh) : \n\u001b[1;32m     38\u001b[0m     pts, el \u001b[39m=\u001b[39m extractPointsAndElemsFromVtk(msh)\n\u001b[0;32m---> 39\u001b[0m     cog \u001b[39m=\u001b[39m np\u001b[39m.\u001b[39;49mzeros(\u001b[39mlen\u001b[39;49m(el), \u001b[39m3\u001b[39;49m)\n\u001b[1;32m     40\u001b[0m     \u001b[39mfor\u001b[39;00m ix \u001b[39min\u001b[39;00m \u001b[39mrange\u001b[39m(\u001b[39mlen\u001b[39m(el)): \n\u001b[1;32m     41\u001b[0m         ex \u001b[39m=\u001b[39m el[ix] \n",
      "\u001b[0;31mTypeError\u001b[0m: Cannot interpret '3' as a data type"
     ]
    }
   ],
   "source": [
    "import numpy as np \n",
    "\n",
    "cog = vtktools.getCentreOfGravity(msh_d)\n",
    "\n",
    "print(cog)"
   ]
  }
 ],
 "metadata": {
  "kernelspec": {
   "display_name": "Python 3.8.13 ('imatools')",
   "language": "python",
   "name": "python3"
  },
  "language_info": {
   "codemirror_mode": {
    "name": "ipython",
    "version": 3
   },
   "file_extension": ".py",
   "mimetype": "text/x-python",
   "name": "python",
   "nbconvert_exporter": "python",
   "pygments_lexer": "ipython3",
   "version": "3.8.13"
  },
  "orig_nbformat": 4,
  "vscode": {
   "interpreter": {
    "hash": "7ef3cfad9850278225e497b94f7d476aa408699f40230bdd18bf3034bae757d5"
   }
  }
 },
 "nbformat": 4,
 "nbformat_minor": 2
}
