{
 "cells": [
  {
   "cell_type": "code",
   "execution_count": 1,
   "metadata": {},
   "outputs": [],
   "source": [
    "import os\n",
    "import sys\n",
    "import numpy as np\n",
    "\n",
    "IMATOOLS_DIR = os.getcwd()+'/..'\n",
    "sys.path.insert(1, IMATOOLS_DIR)\n",
    "\n",
    "from imatools.common import vtktools as vtku\n",
    "from imatools.common import ioutils as iou\n",
    "\n",
    "def calc_cog(pts, el):\n",
    "    return [np.mean(pts[ee], 0) for ee in el]\n",
    "\n",
    "\n",
    "def norm2(a): return np.linalg.norm(a)\n",
    "def norm_vec(a): return a/norm2(a)\n",
    "\n",
    "\n",
    "def remove_from_dirlist(dir_list, name_to_rm):\n",
    "    if name_to_rm in dir_list:\n",
    "        dir_list.remove(name_to_rm)\n",
    "\n",
    "    return dir_list\n",
    "\n",
    "def perc_above(arr, th) : \n",
    "    return np.sum(arr>th) / len(arr)\n",
    "\n",
    "def perc_below(arr, th) : \n",
    "    return np.sum(arr<th) / len(arr)"
   ]
  },
  {
   "cell_type": "code",
   "execution_count": 2,
   "metadata": {},
   "outputs": [
    {
     "name": "stdout",
     "output_type": "stream",
     "text": [
      "['M1', 'M2']\n"
     ]
    }
   ],
   "source": [
    "import pandas as pd\n",
    "\n",
    "# Locations of hard drive based on platform\n",
    "dirdic = {'macOS': '/Volumes/sandisk',\n",
    "          'Linux': '/media/jsl19/sandisk',\n",
    "          'Windows': 'D:/'}\n",
    "\n",
    "tex_dic = {'macOS': '/Users/jsolislemus/Documents/TEX',\n",
    "           'Linux': '/home/jsl19/Documents/tex'}\n",
    "\n",
    "base_dir = iou.fullfile(dirdic[iou.chooseplatform()], '01_atrialfibres/06_Reproducibility/05_UserProjects')\n",
    "comp_dir = iou.fullfile(base_dir, '011_comparisons')\n",
    "\n",
    "ld = remove_from_dirlist(os.listdir(iou.fullfile(comp_dir,'C0')), 'COMPARISONS')\n",
    "ld = remove_from_dirlist(ld, 'MAPPING')\n",
    "\n",
    "CX = ['C' + str(n) for n in np.linspace(0,49,num=50, dtype=int)]\n",
    "\n",
    "print(ld)"
   ]
  },
  {
   "cell_type": "markdown",
   "metadata": {},
   "source": [
    "# Comparisons\n",
    "Array of `inter/intra`\n",
    "\n",
    "Array of `auto/manual/mixed`"
   ]
  },
  {
   "cell_type": "code",
   "execution_count": 17,
   "metadata": {},
   "outputs": [],
   "source": [
    "df_comp = pd.read_csv(iou.fullfile(comp_dir, 'comparisons_path.csv'))\n",
    "mode = df_comp['mode']\n",
    "mode = mode[np.linspace(0,98,num=50, dtype=int)]\n",
    "\n",
    "processing_raw = df_comp['processing'].tolist()\n",
    "processing_raw = [processing_raw[ix] + processing_raw[ix+1] for ix in range(50)]\n",
    "\n",
    "a='automatic'\n",
    "m='manual'\n",
    "\n",
    "processing = [p.replace(a+a, a) for p in processing_raw]\n",
    "processing = [p.replace(m+m, m) for p in processing]\n",
    "processing = [p.replace(a+m, 'mixed') for p in processing]\n",
    "processing = [p.replace(m+a, 'mixed') for p in processing]"
   ]
  },
  {
   "cell_type": "code",
   "execution_count": 31,
   "metadata": {},
   "outputs": [
    {
     "data": {
      "text/plain": [
       "0.0"
      ]
     },
     "execution_count": 31,
     "metadata": {},
     "output_type": "execute_result"
    }
   ],
   "source": [
    "import scipy\n",
    "def total_activation_time(lat) : \n",
    "    return np.max(lat)-np.min(lat)\n",
    "\n",
    "def mean_conduction_velocity(gradlat) : \n",
    "    return np.mean(1/gradlat)\n",
    "\n",
    "comparison_list = [c.replace('/Volumes', '/media/jsl19') for c in df_comp['comparison_path'].tolist()]\n",
    "cx = 0 # go in even numbers! \n",
    "\n",
    "comp_a = comparison_list[cx]\n",
    "comp_b = comparison_list[cx+1]\n",
    "\n",
    "fun = {\n",
    "    'lat' : total_activation_time,\n",
    "    'gradlat' : mean_conduction_velocity\n",
    "}\n",
    "\n",
    "files_and_mapping = {\n",
    "    'lat' : ('LAT_RSPV_X.dat', 'fibre_X_pts.csv'), \n",
    "    'gradlat': ('lat_X.gradmag.dat', 'fibre_X_pts.csv'), \n",
    "    'ps' : ('PSNodeSmooth.dat', 'input_pts.csv'), \n",
    "    'f_endo' : ('fibre_X_endo.lon', 'fibre_X_endo_elem.csv'),\n",
    "    'f_epi' : ('fibre_X_epi.lon', 'fibre_X_epi_elem.csv')\n",
    "}\n",
    "\n",
    "dx = 'gradlat'\n",
    "mx = 'l'\n",
    "\n",
    "fname = files_and_mapping[dx][0].replace('X', mx)\n",
    "mname = files_and_mapping[dx][1].replace('X', mx)\n",
    "\n",
    "f_a = np.loadtxt(iou.fullfile(comp_a, fname))\n",
    "f_b = np.loadtxt(iou.fullfile(comp_b, fname))\n",
    "# fun[dx](f_a) - fun[dx](f_b)\n",
    "tst = scipy.stats.ks_2samp(1/f_a, 1/f_b,alternative='two-sided')\n",
    "\n",
    "tst.pvalue"
   ]
  },
  {
   "cell_type": "code",
   "execution_count": 39,
   "metadata": {},
   "outputs": [
    {
     "name": "stdout",
     "output_type": "stream",
     "text": [
      "scalar\n"
     ]
    },
    {
     "name": "stderr",
     "output_type": "stream",
     "text": [
      "/Users/jsolislemus/anaconda3/anaconda3/envs/imatools/lib/python3.8/site-packages/numpy/lib/function_base.py:2691: RuntimeWarning: invalid value encountered in true_divide\n",
      "  c /= stddev[:, None]\n",
      "/Users/jsolislemus/anaconda3/anaconda3/envs/imatools/lib/python3.8/site-packages/numpy/lib/function_base.py:2692: RuntimeWarning: invalid value encountered in true_divide\n",
      "  c /= stddev[None, :]\n",
      "/Users/jsolislemus/anaconda3/anaconda3/envs/imatools/lib/python3.8/site-packages/numpy/lib/function_base.py:2691: RuntimeWarning: invalid value encountered in true_divide\n",
      "  c /= stddev[:, None]\n",
      "/Users/jsolislemus/anaconda3/anaconda3/envs/imatools/lib/python3.8/site-packages/numpy/lib/function_base.py:2692: RuntimeWarning: invalid value encountered in true_divide\n",
      "  c /= stddev[None, :]\n"
     ]
    }
   ],
   "source": [
    "import seaborn as sns\n",
    "\n",
    "debug = False\n",
    "\n",
    "CX = ['C' + str(n) for n in np.linspace(0,49,num=50, dtype=int)]\n",
    "FVX = ['f_endo', \n",
    "    'f_epi']\n",
    "FSX = ['gradlat',\n",
    "    'lat',\n",
    "    'ps']\n",
    "\n",
    "files_dic = {\n",
    "    'scalar' : FSX, \n",
    "    'vector' : FVX\n",
    "}\n",
    "\n",
    "var_dic = {\n",
    "    'scalar' : 'diff_abs', \n",
    "    'vector' : 'abs_dot_product'\n",
    "}\n",
    "\n",
    "fibres_list = ['1', 'l']\n",
    "\n",
    "field = 'scalar'\n",
    "\n",
    "print(field)\n",
    "\n",
    "odic = dict()\n",
    "endo_fibres = np.empty((1,1))\n",
    "epi_fibres = np.empty((1,1))\n",
    "for fx in range(len(files_dic[field])) : \n",
    "    mean_var = np.zeros(50, dtype=float)\n",
    "    std_var  = np.zeros(50, dtype=float)\n",
    "    prc75_var = np.zeros(50, dtype=float)\n",
    "    corr_var = np.zeros(50, dtype=float)\n",
    "\n",
    "    for fibre in fibres_list : \n",
    "        file_name = files_dic[field][fx] + '_' + fibre \n",
    "\n",
    "        for cx in range(len(CX)) :  \n",
    "            test_path = iou.fullfile(comp_dir, CX[cx], 'COMPARISONS', file_name + '.csv') \n",
    "            df = pd.read_csv(test_path, index_col=False)\n",
    "\n",
    "            if field == 'scalar' : \n",
    "                mean_var[cx] = np.mean(df[var_dic[field]])\n",
    "                std_var[cx]  = np.std(df[var_dic[field]]) \n",
    "                prc75_var[cx]  = np.percentile(df[var_dic[field]], 75) \n",
    "                if files_dic[field][fx] == 'ps' : \n",
    "                    CORR_MAT = np.corrcoef(df['ps_0'], df['ps_1'])\n",
    "                    corr_var[cx]  =  CORR_MAT[0,1]\n",
    "            else : # field == 'vector\n",
    "                if 'endo' in file_name : \n",
    "                    endo_fibres = np.concatenate((endo_fibres, df[var_dic[field]]))\n",
    "                else :\n",
    "                    epi_fibres = np.concatenate((epi_fibres, df[var_dic[field]]))\n",
    "\n",
    "        \n",
    "        if field == 'scalar' : \n",
    "            odic[files_dic[field][fx] + '_mean'] = mean_var\n",
    "            odic[files_dic[field][fx] + '_std'] = std_var\n",
    "            odic[files_dic[field][fx] + '_prc75'] = prc75_var\n",
    "            if files_dic[field][fx] == 'ps':\n",
    "                odic[files_dic[field][fx] + '_corr2'] = corr_var\n",
    "    \n",
    "odic['mode'] = mode\n",
    "odic['processing'] = processing\n",
    "\n",
    "o_df_inter_intra = pd.DataFrame(odic)"
   ]
  },
  {
   "cell_type": "code",
   "execution_count": 17,
   "metadata": {},
   "outputs": [
    {
     "name": "stdout",
     "output_type": "stream",
     "text": [
      "f_endo_1\n",
      "f_endo_l\n",
      "f_epi_1\n",
      "f_epi_l\n"
     ]
    }
   ],
   "source": [
    "import seaborn as sns\n",
    "\n",
    "debug = False\n",
    "\n",
    "CX = ['C' + str(n) for n in np.linspace(0, 49, num=50, dtype=int)]\n",
    "FVX = ['f_endo',\n",
    "       'f_epi']\n",
    "FSX = ['gradlat',\n",
    "       'lat',\n",
    "       'ps']\n",
    "\n",
    "files_dic = {\n",
    "    'scalar': FSX,\n",
    "    'vector': FVX\n",
    "}\n",
    "\n",
    "var_dic = {\n",
    "    'scalar': 'diff_abs',\n",
    "    'vector': 'abs_dot_product'\n",
    "}\n",
    "\n",
    "fibres_list = ['1', 'l']\n",
    "\n",
    "field_list = ['scalar', 'vector']\n",
    "\n",
    "field = 'vector'\n",
    "\n",
    "for fx in range(len(files_dic[field])):\n",
    "    for fibre in fibres_list:\n",
    "        file_name = files_dic[field][fx] + '_' + fibre\n",
    "        print(file_name)\n",
    "        for cx in range(len(CX)):\n",
    "            num = 1 if cx==0 or cx==30 else 2\n",
    "            comp_type = 'inter' if cx<30 else 'intra'\n",
    "            \n",
    "            test_path = iou.fullfile(comp_dir, CX[cx], 'COMPARISONS', file_name + '.csv')\n",
    "            opath = iou.fullfile(comp_dir, 'fibres_comp_'+files_dic[field][fx][2:] + '_' + fibre + '_' + comp_type+'.csv')\n",
    "            os.system('tail --lines=+{} {} | awk -F\\',\\'  \\'{{print $1\\\",\\\"$4}}\\' >> {}'.format(num, test_path, opath))\n",
    "\n"
   ]
  },
  {
   "cell_type": "code",
   "execution_count": 40,
   "metadata": {},
   "outputs": [
    {
     "name": "stderr",
     "output_type": "stream",
     "text": [
      "/var/folders/4g/sz_zl6x1255fc86zws80bsbh0000gn/T/ipykernel_13489/2914668221.py:8: RuntimeWarning: divide by zero encountered in true_divide\n",
      "  meas_1 = 1 / np.concatenate((a_1, b_1))\n",
      "/Users/jsolislemus/anaconda3/anaconda3/envs/imatools/lib/python3.8/site-packages/numpy/core/_methods.py:230: RuntimeWarning: invalid value encountered in subtract\n",
      "  x = asanyarray(arr - arrmean)\n"
     ]
    }
   ],
   "source": [
    "def compare_atlas_differences(pa_1, pa_l, pb_1, pb_l, reciprocal=False) : \n",
    "    a_1 = np.loadtxt(pa_1)\n",
    "    a_l = np.loadtxt(pa_l)\n",
    "    b_1 = np.loadtxt(pb_1)\n",
    "    b_l = np.loadtxt(pb_l)\n",
    "\n",
    "    if reciprocal :     \n",
    "        meas_1 = 1 / np.concatenate((a_1, b_1))\n",
    "        meas_l = 1 / np.concatenate((a_l, b_l))\n",
    "    else : \n",
    "        meas_1 = np.concatenate((a_1, b_1))\n",
    "        meas_l = np.concatenate((a_l, b_l))\n",
    "    \n",
    "    compy = np.abs(meas_1-meas_l)\n",
    "    \n",
    "    mean_var = np.mean(compy)\n",
    "    std_var = np.std(compy)\n",
    "    prc75_var = np.percentile(compy, 75)\n",
    "    \n",
    "    return mean_var, std_var, prc75_var\n",
    "\n",
    "\n",
    "myl = ['LAT_RSPV_X.dat', \n",
    "    'lat_X.gradmag.dat']\n",
    "\n",
    "FSX = ['gradlat',\n",
    "    'lat']\n",
    "\n",
    "'gradmag' in myl[1]\n",
    "odic = dict()\n",
    "mode_bis = ['atlas'] * 50\n",
    "\n",
    "for ix in range(len(myl)) : \n",
    "\n",
    "    mean_var = np.zeros(50, dtype=float)\n",
    "    std_var = np.zeros(50, dtype=float)\n",
    "    prc75_var = np.zeros(50, dtype=float)\n",
    "    for cx in range(len(CX)) : \n",
    "        m = ['M'+str(2*cx+1), 'M'+str(2*cx+2)]\n",
    "\n",
    "        pathA_1 = iou.fullfile(comp_dir, CX[cx], m[0], myl[ix].replace('X', '1'))\n",
    "        pathA_l = iou.fullfile(comp_dir, CX[cx], m[0], myl[ix].replace('X', 'l'))\n",
    "        pathB_1 = iou.fullfile(comp_dir, CX[cx], m[1], myl[ix].replace('X', '1'))\n",
    "        pathB_l = iou.fullfile(comp_dir, CX[cx], m[1], myl[ix].replace('X', 'l'))\n",
    "\n",
    "        mv, stv, p75 = compare_atlas_differences(pathA_1, pathA_l, pathB_1, pathB_l, ('gradmag' in myl[ix]))\n",
    "        \n",
    "        mean_var[cx] = mv\n",
    "        std_var[cx] = stv\n",
    "        prc75_var[cx] = p75\n",
    "    \n",
    "    odic[FSX[ix] + '_mean'] = mean_var\n",
    "    odic[FSX[ix] + '_std'] = std_var\n",
    "    odic[FSX[ix] + '_prc75'] = prc75_var\n",
    "\n",
    "odic['mode'] = mode_bis\n",
    "odic['processing'] = processing\n",
    "\n",
    "o_df_atlas = pd.DataFrame(odic)"
   ]
  },
  {
   "cell_type": "code",
   "execution_count": 33,
   "metadata": {},
   "outputs": [
    {
     "name": "stderr",
     "output_type": "stream",
     "text": [
      "/var/folders/4g/sz_zl6x1255fc86zws80bsbh0000gn/T/ipykernel_18855/1663174770.py:8: FutureWarning: Dropping of nuisance columns in DataFrame reductions (with 'numeric_only=None') is deprecated; in a future version this will raise TypeError.  Select only valid columns before calling the reduction.\n",
      "  o_df_atlas.median()\n"
     ]
    },
    {
     "data": {
      "text/plain": [
       "gradlat_mean      11.817771\n",
       "gradlat_std        7.669366\n",
       "gradlat_prc75     17.934013\n",
       "lat_mean         202.911933\n",
       "lat_std          267.256638\n",
       "lat_prc75        285.011526\n",
       "dtype: float64"
      ]
     },
     "execution_count": 33,
     "metadata": {},
     "output_type": "execute_result"
    }
   ],
   "source": [
    "mode_bis = ['atlas'] * 50\n",
    "\n",
    "odic['mode'] = mode_bis\n",
    "odic['processing'] = processing\n",
    "\n",
    "o_df_atlas = pd.DataFrame(odic)\n",
    "\n",
    "o_df_atlas.median()\n",
    "\n",
    "# o_df = pd.concat([o_df_inter_intra, o_df_atlas])\n",
    "# o_df.to_csv(iou.fullfile(comp_dir, 'measurements.csv'))"
   ]
  },
  {
   "cell_type": "code",
   "execution_count": 44,
   "metadata": {},
   "outputs": [
    {
     "data": {
      "text/html": [
       "<div>\n",
       "<style scoped>\n",
       "    .dataframe tbody tr th:only-of-type {\n",
       "        vertical-align: middle;\n",
       "    }\n",
       "\n",
       "    .dataframe tbody tr th {\n",
       "        vertical-align: top;\n",
       "    }\n",
       "\n",
       "    .dataframe thead th {\n",
       "        text-align: right;\n",
       "    }\n",
       "</style>\n",
       "<table border=\"1\" class=\"dataframe\">\n",
       "  <thead>\n",
       "    <tr style=\"text-align: right;\">\n",
       "      <th></th>\n",
       "      <th>gradlat_mean</th>\n",
       "      <th>gradlat_std</th>\n",
       "      <th>gradlat_prc75</th>\n",
       "      <th>lat_mean</th>\n",
       "      <th>lat_std</th>\n",
       "      <th>lat_prc75</th>\n",
       "      <th>ps_mean</th>\n",
       "      <th>ps_std</th>\n",
       "      <th>ps_prc75</th>\n",
       "      <th>ps_corr2</th>\n",
       "      <th>mode</th>\n",
       "      <th>processing</th>\n",
       "    </tr>\n",
       "  </thead>\n",
       "  <tbody>\n",
       "    <tr>\n",
       "      <th>0</th>\n",
       "      <td>246.433830</td>\n",
       "      <td>311.178283</td>\n",
       "      <td>349.436695</td>\n",
       "      <td>10.341166</td>\n",
       "      <td>7.353976</td>\n",
       "      <td>14.917000</td>\n",
       "      <td>0.069957</td>\n",
       "      <td>0.185248</td>\n",
       "      <td>0.045761</td>\n",
       "      <td>0.020221</td>\n",
       "      <td>inter</td>\n",
       "      <td>mixed</td>\n",
       "    </tr>\n",
       "    <tr>\n",
       "      <th>2</th>\n",
       "      <td>80.754831</td>\n",
       "      <td>230.880411</td>\n",
       "      <td>90.487169</td>\n",
       "      <td>3.212442</td>\n",
       "      <td>1.703581</td>\n",
       "      <td>4.925900</td>\n",
       "      <td>0.015075</td>\n",
       "      <td>0.059736</td>\n",
       "      <td>0.002283</td>\n",
       "      <td>0.318511</td>\n",
       "      <td>inter</td>\n",
       "      <td>automatic</td>\n",
       "    </tr>\n",
       "    <tr>\n",
       "      <th>4</th>\n",
       "      <td>63.791317</td>\n",
       "      <td>233.479807</td>\n",
       "      <td>52.738436</td>\n",
       "      <td>2.994254</td>\n",
       "      <td>0.951629</td>\n",
       "      <td>3.411000</td>\n",
       "      <td>0.004460</td>\n",
       "      <td>0.018005</td>\n",
       "      <td>0.000195</td>\n",
       "      <td>0.507592</td>\n",
       "      <td>inter</td>\n",
       "      <td>automatic</td>\n",
       "    </tr>\n",
       "    <tr>\n",
       "      <th>6</th>\n",
       "      <td>167.435703</td>\n",
       "      <td>346.474851</td>\n",
       "      <td>218.319851</td>\n",
       "      <td>12.968331</td>\n",
       "      <td>6.170732</td>\n",
       "      <td>16.963600</td>\n",
       "      <td>0.048219</td>\n",
       "      <td>0.166473</td>\n",
       "      <td>0.027792</td>\n",
       "      <td>-0.004568</td>\n",
       "      <td>inter</td>\n",
       "      <td>automatic</td>\n",
       "    </tr>\n",
       "    <tr>\n",
       "      <th>8</th>\n",
       "      <td>176.261259</td>\n",
       "      <td>324.561586</td>\n",
       "      <td>236.467205</td>\n",
       "      <td>7.378815</td>\n",
       "      <td>4.405439</td>\n",
       "      <td>10.518725</td>\n",
       "      <td>0.034644</td>\n",
       "      <td>0.071689</td>\n",
       "      <td>0.038911</td>\n",
       "      <td>0.083253</td>\n",
       "      <td>inter</td>\n",
       "      <td>automatic</td>\n",
       "    </tr>\n",
       "    <tr>\n",
       "      <th>...</th>\n",
       "      <td>...</td>\n",
       "      <td>...</td>\n",
       "      <td>...</td>\n",
       "      <td>...</td>\n",
       "      <td>...</td>\n",
       "      <td>...</td>\n",
       "      <td>...</td>\n",
       "      <td>...</td>\n",
       "      <td>...</td>\n",
       "      <td>...</td>\n",
       "      <td>...</td>\n",
       "      <td>...</td>\n",
       "    </tr>\n",
       "    <tr>\n",
       "      <th>45</th>\n",
       "      <td>14.371918</td>\n",
       "      <td>9.130584</td>\n",
       "      <td>21.311000</td>\n",
       "      <td>201.669478</td>\n",
       "      <td>268.909776</td>\n",
       "      <td>280.996384</td>\n",
       "      <td>NaN</td>\n",
       "      <td>NaN</td>\n",
       "      <td>NaN</td>\n",
       "      <td>NaN</td>\n",
       "      <td>atlas</td>\n",
       "      <td>mixed</td>\n",
       "    </tr>\n",
       "    <tr>\n",
       "      <th>46</th>\n",
       "      <td>11.150464</td>\n",
       "      <td>6.317262</td>\n",
       "      <td>15.708700</td>\n",
       "      <td>204.719258</td>\n",
       "      <td>317.793756</td>\n",
       "      <td>284.826427</td>\n",
       "      <td>NaN</td>\n",
       "      <td>NaN</td>\n",
       "      <td>NaN</td>\n",
       "      <td>NaN</td>\n",
       "      <td>atlas</td>\n",
       "      <td>automatic</td>\n",
       "    </tr>\n",
       "    <tr>\n",
       "      <th>47</th>\n",
       "      <td>14.947234</td>\n",
       "      <td>9.981242</td>\n",
       "      <td>22.725000</td>\n",
       "      <td>205.828992</td>\n",
       "      <td>246.956476</td>\n",
       "      <td>294.003833</td>\n",
       "      <td>NaN</td>\n",
       "      <td>NaN</td>\n",
       "      <td>NaN</td>\n",
       "      <td>NaN</td>\n",
       "      <td>atlas</td>\n",
       "      <td>automatic</td>\n",
       "    </tr>\n",
       "    <tr>\n",
       "      <th>48</th>\n",
       "      <td>10.837050</td>\n",
       "      <td>6.132233</td>\n",
       "      <td>15.324000</td>\n",
       "      <td>197.269467</td>\n",
       "      <td>266.124288</td>\n",
       "      <td>272.467368</td>\n",
       "      <td>NaN</td>\n",
       "      <td>NaN</td>\n",
       "      <td>NaN</td>\n",
       "      <td>NaN</td>\n",
       "      <td>atlas</td>\n",
       "      <td>automatic</td>\n",
       "    </tr>\n",
       "    <tr>\n",
       "      <th>49</th>\n",
       "      <td>8.545276</td>\n",
       "      <td>6.623999</td>\n",
       "      <td>12.578300</td>\n",
       "      <td>196.847424</td>\n",
       "      <td>282.365058</td>\n",
       "      <td>275.012697</td>\n",
       "      <td>NaN</td>\n",
       "      <td>NaN</td>\n",
       "      <td>NaN</td>\n",
       "      <td>NaN</td>\n",
       "      <td>atlas</td>\n",
       "      <td>mixed</td>\n",
       "    </tr>\n",
       "  </tbody>\n",
       "</table>\n",
       "<p>100 rows × 12 columns</p>\n",
       "</div>"
      ],
      "text/plain": [
       "    gradlat_mean  gradlat_std  gradlat_prc75    lat_mean     lat_std  \\\n",
       "0     246.433830   311.178283     349.436695   10.341166    7.353976   \n",
       "2      80.754831   230.880411      90.487169    3.212442    1.703581   \n",
       "4      63.791317   233.479807      52.738436    2.994254    0.951629   \n",
       "6     167.435703   346.474851     218.319851   12.968331    6.170732   \n",
       "8     176.261259   324.561586     236.467205    7.378815    4.405439   \n",
       "..           ...          ...            ...         ...         ...   \n",
       "45     14.371918     9.130584      21.311000  201.669478  268.909776   \n",
       "46     11.150464     6.317262      15.708700  204.719258  317.793756   \n",
       "47     14.947234     9.981242      22.725000  205.828992  246.956476   \n",
       "48     10.837050     6.132233      15.324000  197.269467  266.124288   \n",
       "49      8.545276     6.623999      12.578300  196.847424  282.365058   \n",
       "\n",
       "     lat_prc75   ps_mean    ps_std  ps_prc75  ps_corr2   mode processing  \n",
       "0    14.917000  0.069957  0.185248  0.045761  0.020221  inter      mixed  \n",
       "2     4.925900  0.015075  0.059736  0.002283  0.318511  inter  automatic  \n",
       "4     3.411000  0.004460  0.018005  0.000195  0.507592  inter  automatic  \n",
       "6    16.963600  0.048219  0.166473  0.027792 -0.004568  inter  automatic  \n",
       "8    10.518725  0.034644  0.071689  0.038911  0.083253  inter  automatic  \n",
       "..         ...       ...       ...       ...       ...    ...        ...  \n",
       "45  280.996384       NaN       NaN       NaN       NaN  atlas      mixed  \n",
       "46  284.826427       NaN       NaN       NaN       NaN  atlas  automatic  \n",
       "47  294.003833       NaN       NaN       NaN       NaN  atlas  automatic  \n",
       "48  272.467368       NaN       NaN       NaN       NaN  atlas  automatic  \n",
       "49  275.012697       NaN       NaN       NaN       NaN  atlas      mixed  \n",
       "\n",
       "[100 rows x 12 columns]"
      ]
     },
     "execution_count": 44,
     "metadata": {},
     "output_type": "execute_result"
    }
   ],
   "source": [
    "odf = pd.concat([o_df_inter_intra, o_df_atlas])\n",
    "\n"
   ]
  },
  {
   "cell_type": "code",
   "execution_count": 51,
   "metadata": {},
   "outputs": [
    {
     "name": "stderr",
     "output_type": "stream",
     "text": [
      "/var/folders/4g/sz_zl6x1255fc86zws80bsbh0000gn/T/ipykernel_13489/1066700515.py:10: FutureWarning: Dropping of nuisance columns in DataFrame reductions (with 'numeric_only=None') is deprecated; in a future version this will raise TypeError.  Select only valid columns before calling the reduction.\n",
      "  o_df_inter_intra.median()\n"
     ]
    },
    {
     "data": {
      "text/plain": [
       "gradlat_mean     124.422665\n",
       "gradlat_std      270.194254\n",
       "gradlat_prc75    154.576061\n",
       "lat_mean           4.183547\n",
       "lat_std            2.554298\n",
       "lat_prc75          6.099500\n",
       "ps_mean            0.029662\n",
       "ps_std             0.092428\n",
       "ps_prc75           0.009825\n",
       "ps_corr2           0.223463\n",
       "dtype: float64"
      ]
     },
     "execution_count": 51,
     "metadata": {},
     "output_type": "execute_result"
    }
   ],
   "source": [
    "# ddi = {\n",
    "#     'local_cv' : o_df_inter_intra['gradlat_mean']/np.mean(o_df_inter_intra['gradlat_mean']),\n",
    "#     'lat' : o_df_inter_intra['lat_mean']/np.mean(o_df_inter_intra['lat_mean']),\n",
    "#     'mode' : o_df_inter_intra['mode'], \n",
    "#     'processing' : o_df_inter_intra['processing']\n",
    "#     }\n",
    "\n",
    "# pd.DataFrame(ddi)\n",
    "\n",
    "o_df_inter_intra.median()"
   ]
  },
  {
   "cell_type": "code",
   "execution_count": 42,
   "metadata": {},
   "outputs": [
    {
     "name": "stdout",
     "output_type": "stream",
     "text": [
      "ps_corr2\n",
      "RanksumsResult(statistic=0.6793662204867574, pvalue=0.49690584756476797)\n",
      "RanksumsResult(statistic=0.28867513459481287, pvalue=0.7728299926844475)\n",
      "RanksumsResult(statistic=-0.07715167498104596, pvalue=0.9385028847784713)\n"
     ]
    }
   ],
   "source": [
    "import scipy \n",
    "\n",
    "df_mixed = o_df_inter_intra[o_df_inter_intra['processing']=='mixed']\n",
    "df_automatic = o_df_inter_intra[o_df_inter_intra['processing']=='automatic']\n",
    "df_manual = o_df_inter_intra[o_df_inter_intra['processing']=='manual']\n",
    "\n",
    "measure = ['gradlat_mean', 'ps_corr2']\n",
    "m = measure[1]\n",
    "print(m)\n",
    "\n",
    "inter_mixed = df_mixed[m][df_mixed['mode']=='inter'] \n",
    "intra_mixed = df_mixed[m][df_mixed['mode']=='intra'] \n",
    "inter_automatic = df_automatic[m][df_automatic['mode']=='inter'] \n",
    "intra_automatic = df_automatic[m][df_automatic['mode']=='intra'] \n",
    "inter_manual = df_manual[m][df_manual['mode']=='inter'] \n",
    "intra_manual = df_manual[m][df_manual['mode']=='intra'] \n",
    "\n",
    "print(scipy.stats.ranksums(inter_mixed, intra_mixed, nan_policy='omit'))\n",
    "print(scipy.stats.ranksums(inter_automatic, intra_automatic, nan_policy='omit'))\n",
    "print(scipy.stats.ranksums(inter_manual, intra_manual, nan_policy='omit'))"
   ]
  },
  {
   "cell_type": "code",
   "execution_count": 49,
   "metadata": {},
   "outputs": [
    {
     "name": "stderr",
     "output_type": "stream",
     "text": [
      "The PostScript backend does not support transparency; partially transparent artists will be rendered opaque.\n"
     ]
    },
    {
     "data": {
      "image/png": "[encoded data removed]",
      "text/plain": [
       "<Figure size 1500x500 with 2 Axes>"
      ]
     },
     "metadata": {},
     "output_type": "display_data"
    }
   ],
   "source": [
    "import matplotlib.pyplot as plt\n",
    "import seaborn as sns\n",
    "\n",
    "#  o_df = pd.read_csv(iou.fullfile(comp_dir, 'measurements.csv'), index_col=False)\n",
    "\n",
    "fig, ax = plt.subplots(1, 2)\n",
    "fig.set_figheight(5)\n",
    "fig.set_figwidth(15)\n",
    "sns.set_palette('Pastel1')\n",
    "sns.boxplot(ax=ax[0],  data=odf, x='processing', y='gradlat_mean', hue='mode')\n",
    "sns.boxplot(ax=ax[1],  data=odf, x='processing', y='ps_corr2', hue='mode')\n",
    "\n",
    "ax[0].set_xlabel('Processing')\n",
    "ax[1].set_xlabel('Processing')\n",
    "ax[0].set_xticklabels(['Mixed', 'Automatic', 'Manual'])\n",
    "ax[1].set_xticklabels(['Mixed', 'Automatic', 'Manual'])\n",
    "ax[0].set_ylabel('local CV')\n",
    "ax[1].set_ylabel('PS correlation')\n",
    "ax[0].set_title('Local Conduction Velocity Comparison')\n",
    "ax[1].set_title('PS Correlation Comparison')\n",
    "\n",
    "plt.savefig(iou.fullfile(comp_dir, 'sim_res.eps'))"
   ]
  },
  {
   "cell_type": "code",
   "execution_count": 48,
   "metadata": {},
   "outputs": [
    {
     "name": "stderr",
     "output_type": "stream",
     "text": [
      "The PostScript backend does not support transparency; partially transparent artists will be rendered opaque.\n"
     ]
    },
    {
     "data": {
      "image/png": "[encoded data removed]",
      "text/plain": [
       "<Figure size 2000x500 with 3 Axes>"
      ]
     },
     "metadata": {},
     "output_type": "display_data"
    }
   ],
   "source": [
    "import matplotlib.pyplot as plt\n",
    "import seaborn as sns\n",
    "\n",
    "#  o_df = pd.read_csv(iou.fullfile(comp_dir, 'measurements.csv'), index_col=False)\n",
    "\n",
    "fig, ax = plt.subplots(1, 3)\n",
    "fig.set_figheight(5)\n",
    "fig.set_figwidth(20)\n",
    "sns.set_palette('Pastel1')\n",
    "sns.boxplot(ax=ax[0],  data=odf, x='processing', y='gradlat_mean', hue='mode')\n",
    "sns.boxplot(ax=ax[1],  data=odf, x='processing', y='lat_mean', hue='mode')\n",
    "sns.boxplot(ax=ax[2],  data=odf, x='processing', y='ps_corr2', hue='mode')\n",
    "\n",
    "ax[0].set_xlabel('Processing')\n",
    "ax[0].set_xticklabels(['Mixed', 'Automatic', 'Manual'])\n",
    "ax[0].set_ylabel('local CV')\n",
    "ax[0].set_title('Local Conduction Velocity Comparison')\n",
    "ax[1].set_xlabel('Processing')\n",
    "ax[1].set_xticklabels(['Mixed', 'Automatic', 'Manual'])\n",
    "ax[1].set_ylabel('Local Activation Time')\n",
    "ax[1].set_title('Local Activation Time Comparison')\n",
    "ax[2].set_xlabel('Processing')\n",
    "ax[2].set_xticklabels(['Mixed', 'Automatic', 'Manual'])\n",
    "ax[2].set_ylabel('PS correlation')\n",
    "ax[2].set_title('PS Correlation Comparison')\n",
    "\n",
    "plt.savefig(iou.fullfile(comp_dir, 'sim_res_with_lat.eps'))"
   ]
  },
  {
   "cell_type": "code",
   "execution_count": 3,
   "metadata": {},
   "outputs": [],
   "source": [
    "import random \n",
    "n = 13652470  # number of records in filefibre\n",
    "fibre\n",
    "s = 1000000  # desired sample size\n",
    "skipr = lambda nn,ss : sorted(random.sample(range(nn), nn-ss))\n",
    "\n",
    "fraction_sample = 0.1\n",
    "# compare fibres \n",
    "df_1_endo = pd.read_csv(iou.fullfile(comp_dir, 'fibres_comp_endo_1.csv')).assign(fibre='1').assign(layer='endo').sample(frac=fraction_sample)\n",
    "df_l_endo = pd.read_csv(iou.fullfile(comp_dir, 'fibres_comp_endo_l.csv')).assign(fibre='l').assign(layer='endo').sample(frac=fraction_sample)\n",
    "df_1_epi = pd.read_csv(iou.fullfile(comp_dir, 'fibres_comp_epi_1.csv')).assign(fibre='1').assign(layer='epi').sample(frac=fraction_sample)\n",
    "df_l_epi = pd.read_csv(iou.fullfile(comp_dir, 'fibres_comp_epi_l.csv')).assign(fibre='l').assign(layer='epi').sample(frac=fraction_sample)\n",
    "\n"
   ]
  },
  {
   "cell_type": "code",
   "execution_count": 4,
   "metadata": {},
   "outputs": [],
   "source": [
    "fraction_sample = 0.1\n",
    "# compare fibres \n",
    "\n",
    "df_1_endo_inter = pd.read_csv(iou.fullfile(comp_dir, 'fibres_comp_endo_1_inter.csv')).assign(fibre='1', layer='endo', comp='inter').sample(frac=fraction_sample)\n",
    "df_l_endo_inter = pd.read_csv(iou.fullfile(comp_dir, 'fibres_comp_endo_l_inter.csv')).assign(fibre='l', layer='endo', comp='inter').sample(frac=fraction_sample)\n",
    "df_1_epi_inter = pd.read_csv(iou.fullfile(comp_dir, 'fibres_comp_epi_1_inter.csv')).assign(fibre='1', layer='epi', comp='inter').sample(frac=fraction_sample)\n",
    "df_l_epi_inter = pd.read_csv(iou.fullfile(comp_dir, 'fibres_comp_epi_l_inter.csv')).assign(fibre='l', layer='epi', comp='inter').sample(frac=fraction_sample)\n",
    "\n",
    "df_1_endo_intra = pd.read_csv(iou.fullfile(comp_dir, 'fibres_comp_endo_1_intra.csv')).assign(fibre='1', layer='endo', comp='intra').sample(frac=fraction_sample)\n",
    "df_l_endo_intra = pd.read_csv(iou.fullfile(comp_dir, 'fibres_comp_endo_l_intra.csv')).assign(fibre='l', layer='endo', comp='intra').sample(frac=fraction_sample)\n",
    "df_1_epi_intra = pd.read_csv(iou.fullfile(comp_dir, 'fibres_comp_epi_1_intra.csv')).assign(fibre='1', layer='epi', comp='intra').sample(frac=fraction_sample)\n",
    "df_l_epi_intra = pd.read_csv(iou.fullfile(comp_dir, 'fibres_comp_epi_l_intra.csv')).assign(fibre='l', layer='epi', comp='intra').sample(frac=fraction_sample)\n",
    "\n",
    "DF_inter = pd.concat([df_1_endo_inter,df_l_endo_inter,df_1_epi_inter,df_l_epi_inter]).reset_index()\n",
    "DF_intra = pd.concat([df_1_endo_intra,df_l_endo_intra,df_1_epi_intra,df_l_epi_intra]).reset_index()\n",
    "\n"
   ]
  },
  {
   "cell_type": "code",
   "execution_count": 13,
   "metadata": {},
   "outputs": [
    {
     "data": {
      "text/html": [
       "<div>\n",
       "<style scoped>\n",
       "    .dataframe tbody tr th:only-of-type {\n",
       "        vertical-align: middle;\n",
       "    }\n",
       "\n",
       "    .dataframe tbody tr th {\n",
       "        vertical-align: top;\n",
       "    }\n",
       "\n",
       "    .dataframe thead th {\n",
       "        text-align: right;\n",
       "    }\n",
       "</style>\n",
       "<table border=\"1\" class=\"dataframe\">\n",
       "  <thead>\n",
       "    <tr style=\"text-align: right;\">\n",
       "      <th></th>\n",
       "      <th>index</th>\n",
       "      <th>region</th>\n",
       "      <th>abs_dot_product</th>\n",
       "      <th>fibre</th>\n",
       "      <th>layer</th>\n",
       "      <th>comp</th>\n",
       "    </tr>\n",
       "  </thead>\n",
       "  <tbody>\n",
       "    <tr>\n",
       "      <th>0</th>\n",
       "      <td>5347811</td>\n",
       "      <td>21</td>\n",
       "      <td>0.964210</td>\n",
       "      <td>1</td>\n",
       "      <td>endo</td>\n",
       "      <td>intra</td>\n",
       "    </tr>\n",
       "    <tr>\n",
       "      <th>1</th>\n",
       "      <td>2573541</td>\n",
       "      <td>25</td>\n",
       "      <td>0.839450</td>\n",
       "      <td>1</td>\n",
       "      <td>endo</td>\n",
       "      <td>intra</td>\n",
       "    </tr>\n",
       "    <tr>\n",
       "      <th>2</th>\n",
       "      <td>1373132</td>\n",
       "      <td>11</td>\n",
       "      <td>0.574285</td>\n",
       "      <td>1</td>\n",
       "      <td>endo</td>\n",
       "      <td>intra</td>\n",
       "    </tr>\n",
       "    <tr>\n",
       "      <th>3</th>\n",
       "      <td>4707014</td>\n",
       "      <td>11</td>\n",
       "      <td>0.801349</td>\n",
       "      <td>1</td>\n",
       "      <td>endo</td>\n",
       "      <td>intra</td>\n",
       "    </tr>\n",
       "    <tr>\n",
       "      <th>4</th>\n",
       "      <td>667865</td>\n",
       "      <td>11</td>\n",
       "      <td>0.540116</td>\n",
       "      <td>1</td>\n",
       "      <td>endo</td>\n",
       "      <td>intra</td>\n",
       "    </tr>\n",
       "    <tr>\n",
       "      <th>...</th>\n",
       "      <td>...</td>\n",
       "      <td>...</td>\n",
       "      <td>...</td>\n",
       "      <td>...</td>\n",
       "      <td>...</td>\n",
       "      <td>...</td>\n",
       "    </tr>\n",
       "    <tr>\n",
       "      <th>2245855</th>\n",
       "      <td>2739211</td>\n",
       "      <td>12</td>\n",
       "      <td>0.999721</td>\n",
       "      <td>l</td>\n",
       "      <td>epi</td>\n",
       "      <td>intra</td>\n",
       "    </tr>\n",
       "    <tr>\n",
       "      <th>2245856</th>\n",
       "      <td>3495589</td>\n",
       "      <td>12</td>\n",
       "      <td>0.995258</td>\n",
       "      <td>l</td>\n",
       "      <td>epi</td>\n",
       "      <td>intra</td>\n",
       "    </tr>\n",
       "    <tr>\n",
       "      <th>2245857</th>\n",
       "      <td>3245039</td>\n",
       "      <td>12</td>\n",
       "      <td>0.999511</td>\n",
       "      <td>l</td>\n",
       "      <td>epi</td>\n",
       "      <td>intra</td>\n",
       "    </tr>\n",
       "    <tr>\n",
       "      <th>2245858</th>\n",
       "      <td>2851622</td>\n",
       "      <td>12</td>\n",
       "      <td>0.987001</td>\n",
       "      <td>l</td>\n",
       "      <td>epi</td>\n",
       "      <td>intra</td>\n",
       "    </tr>\n",
       "    <tr>\n",
       "      <th>2245859</th>\n",
       "      <td>1126276</td>\n",
       "      <td>14</td>\n",
       "      <td>0.999939</td>\n",
       "      <td>l</td>\n",
       "      <td>epi</td>\n",
       "      <td>intra</td>\n",
       "    </tr>\n",
       "  </tbody>\n",
       "</table>\n",
       "<p>2245860 rows × 6 columns</p>\n",
       "</div>"
      ],
      "text/plain": [
       "           index  region  abs_dot_product fibre layer   comp\n",
       "0        5347811      21         0.964210     1  endo  intra\n",
       "1        2573541      25         0.839450     1  endo  intra\n",
       "2        1373132      11         0.574285     1  endo  intra\n",
       "3        4707014      11         0.801349     1  endo  intra\n",
       "4         667865      11         0.540116     1  endo  intra\n",
       "...          ...     ...              ...   ...   ...    ...\n",
       "2245855  2739211      12         0.999721     l   epi  intra\n",
       "2245856  3495589      12         0.995258     l   epi  intra\n",
       "2245857  3245039      12         0.999511     l   epi  intra\n",
       "2245858  2851622      12         0.987001     l   epi  intra\n",
       "2245859  1126276      14         0.999939     l   epi  intra\n",
       "\n",
       "[2245860 rows x 6 columns]"
      ]
     },
     "execution_count": 13,
     "metadata": {},
     "output_type": "execute_result"
    }
   ],
   "source": [
    "DF_intra\n",
    "# np.cos(np.deg2rad(40))"
   ]
  },
  {
   "cell_type": "code",
   "execution_count": 16,
   "metadata": {},
   "outputs": [
    {
     "name": "stderr",
     "output_type": "stream",
     "text": [
      "The PostScript backend does not support transparency; partially transparent artists will be rendered opaque.\n"
     ]
    },
    {
     "data": {
      "image/png": "[encoded data removed]",
      "text/plain": [
       "<Figure size 1500x500 with 2 Axes>"
      ]
     },
     "metadata": {},
     "output_type": "display_data"
    }
   ],
   "source": [
    "import matplotlib.pyplot as plt\n",
    "import seaborn as sns\n",
    "\n",
    "theta=40\n",
    "xc=np.cos(np.deg2rad(theta))\n",
    "\n",
    "fig, ax = plt.subplots(1, 2)\n",
    "fig.set_figheight(5)\n",
    "fig.set_figwidth(15)\n",
    "sns.set_palette('Pastel1')\n",
    "ax[0].axvline(x=xc, linestyle=':', color='k')\n",
    "sns.histplot(ax=ax[0], data=DF_inter, x='abs_dot_product', hue='layer', bins=25, stat='percent', multiple='dodge')\n",
    "ax[1].axvline(x=xc, linestyle=':', color='k')\n",
    "sns.histplot(ax=ax[1], data=DF_intra, x='abs_dot_product', hue='layer', bins=25, stat='percent', multiple='dodge')\n",
    "\n",
    "ax[0].set_ylim(bottom=0, top=35)\n",
    "ax[1].set_ylim(bottom=0, top=35)\n",
    "ax[0].set_xlabel('Absolute Dot Product (inter)')\n",
    "ax[1].set_xlabel('Absolute Dot Product (intra)')\n",
    "ax[0].set_title('(a) Percentage of fibre agreement (INTER)')\n",
    "ax[1].set_title('(b) Percentage of fibre agreement (INTRA)')\n",
    "\n",
    "plt.savefig(iou.fullfile(comp_dir, 'fibres_comp.eps'))\n"
   ]
  },
  {
   "cell_type": "code",
   "execution_count": 11,
   "metadata": {},
   "outputs": [
    {
     "name": "stdout",
     "output_type": "stream",
     "text": [
      "THRES: 0.766044443118978\n",
      "INTER: 0.7647112430997309\n",
      "INTRA: 0.8406944333128512\n"
     ]
    }
   ],
   "source": [
    "\n",
    "th=np.cos(np.deg2rad(40))\n",
    "print('THRES: {}'.format(th))\n",
    "print('INTER: {}'.format(np.sum(DF_inter['abs_dot_product']>th)/len(DF_inter)))\n",
    "print('INTRA: {}'.format(np.sum(DF_intra['abs_dot_product']>th)/len(DF_intra)))"
   ]
  },
  {
   "cell_type": "code",
   "execution_count": 60,
   "metadata": {},
   "outputs": [
    {
     "name": "stdout",
     "output_type": "stream",
     "text": [
      "2730496\n",
      "2730456\n"
     ]
    }
   ],
   "source": [
    "\n",
    "DF_endo = pd.concat([df_1_endo, df_l_endo]).reset_index()\n",
    "DF_epi = pd.concat([df_1_epi, df_l_epi]).reset_index()\n",
    "# \n",
    "# DF = pd.concat([df_1_endo, df_l_endo, df_1_epi, df_l_epi]).reset_index()\n",
    "\n",
    "print(len(DF_endo))\n",
    "print(len(DF_epi))\n"
   ]
  },
  {
   "cell_type": "code",
   "execution_count": 71,
   "metadata": {},
   "outputs": [
    {
     "name": "stderr",
     "output_type": "stream",
     "text": [
      "The PostScript backend does not support transparency; partially transparent artists will be rendered opaque.\n"
     ]
    },
    {
     "data": {
      "image/png": "[encoded data removed]",
      "text/plain": [
       "<Figure size 1500x500 with 2 Axes>"
      ]
     },
     "metadata": {},
     "output_type": "display_data"
    }
   ],
   "source": [
    "import matplotlib.pyplot as plt\n",
    "import seaborn as sns\n",
    "\n",
    "fig, ax = plt.subplots(1, 2)\n",
    "fig.set_figheight(5)\n",
    "fig.set_figwidth(15)\n",
    "sns.set_palette('Pastel1')\n",
    "sns.histplot(ax=ax[0], data=DF_endo, x='abs_dot_product', hue='fibre', bins=30, stat='percent', multiple='dodge')\n",
    "sns.histplot(ax=ax[1], data=DF_epi, x='abs_dot_product', hue='fibre', bins=30, stat='percent', multiple='dodge')\n",
    "\n",
    "ax[0].set_xlabel('Absolute Dot Product (Endo)')\n",
    "ax[1].set_xlabel('Absolute Dot Product (Epi)')\n",
    "ax[0].set_title('Percentage of fibre agreement')\n",
    "ax[1].set_title('Percentage of fibre agreement')\n",
    "\n",
    "plt.savefig(iou.fullfile(comp_dir, 'fibres_comp.eps'))"
   ]
  },
  {
   "cell_type": "code",
   "execution_count": 4,
   "metadata": {},
   "outputs": [],
   "source": [
    "DF = pd.concat([df_1_endo, df_l_endo, df_1_epi, df_l_epi]).reset_index()\n"
   ]
  },
  {
   "cell_type": "code",
   "execution_count": 11,
   "metadata": {},
   "outputs": [
    {
     "data": {
      "text/plain": [
       "0.7305738999353959"
      ]
     },
     "execution_count": 11,
     "metadata": {},
     "output_type": "execute_result"
    }
   ],
   "source": [
    "th = 0.86\n",
    "\n",
    "print(np.rad2deg(np.arccos(th)))\n",
    "print(np.sum(DF['abs_dot_product']>th)/len(DF))"
   ]
  },
  {
   "cell_type": "code",
   "execution_count": 10,
   "metadata": {},
   "outputs": [
    {
     "data": {
      "text/plain": [
       "30.68341710897582"
      ]
     },
     "execution_count": 10,
     "metadata": {},
     "output_type": "execute_result"
    }
   ],
   "source": []
  }
 ],
 "metadata": {
  "kernelspec": {
   "display_name": "Python 3.8.13 ('imatools')",
   "language": "python",
   "name": "python3"
  },
  "language_info": {
   "codemirror_mode": {
    "name": "ipython",
    "version": 3
   },
   "file_extension": ".py",
   "mimetype": "text/x-python",
   "name": "python",
   "nbconvert_exporter": "python",
   "pygments_lexer": "ipython3",
   "version": "3.8.13"
  },
  "orig_nbformat": 4,
  "vscode": {
   "interpreter": {
    "hash": "7ef3cfad9850278225e497b94f7d476aa408699f40230bdd18bf3034bae757d5"
   }
  }
 },
 "nbformat": 4,
 "nbformat_minor": 2
}
