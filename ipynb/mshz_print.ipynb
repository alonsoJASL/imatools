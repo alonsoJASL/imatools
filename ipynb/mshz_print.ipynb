{
 "cells": [
  {
   "cell_type": "code",
   "execution_count": null,
   "metadata": {},
   "outputs": [],
   "source": [
    "import os, sys \n",
    "IMATOOLS_DIR = os.getcwd()+'/..'\n",
    "sys.path.insert(1, IMATOOLS_DIR)\n",
    "from imatools.common import ioutils as iou\n",
    "\n",
    "def mshz_cmd(png_file, msh_file, dat_file, mshz_state='') : \n",
    "    cmd  = 'meshalyzer '\n",
    "    cmd += '--PNGfile=' + png_file + ' ' \n",
    "    cmd += msh_file + ' '\n",
    "    cmd += dat_file + ' ' \n",
    "    cmd += mshz_state \n",
    "\n",
    "    return cmd\n"
   ]
  },
  {
   "cell_type": "code",
   "execution_count": null,
   "metadata": {},
   "outputs": [],
   "source": [
    "import numpy as np \n",
    "\n",
    "# Locations of hard drive based on platform\n",
    "dirdic = {'macOS': '/Volumes/sandisk',\n",
    "          'Linux': '/media/jsl19/sandisk',\n",
    "          'Windows': 'D:/'}\n",
    "\n",
    "p2f = iou.fullfile(dirdic[iou.chooseplatform()], '01_atrialfibres/06_Reproducibility/05_UserProjects')\n",
    "\n",
    "square_dir  = '007_simulations'\n",
    "sims_dir = '008_simulation_results'\n",
    "output_dir = '009_simulation_images'\n",
    "\n",
    "N=np.linspace(1,100,num=100, dtype=int)\n",
    "\n",
    "in_N = ['M' + iou.num2padstr(n) for n in N]\n",
    "si_N = ['M' + str(n) for n in N]\n"
   ]
  },
  {
   "cell_type": "code",
   "execution_count": null,
   "metadata": {},
   "outputs": [],
   "source": [
    "list_files = ['LAT_RSPV_1', 'LAT_RSPV_l', 'PSNode', 'PSNodeSmooth']\n",
    "\n",
    "for ix in range(len(si_N)) :\n",
    "    sdir = si_N[ix]\n",
    "    sdir_2d = in_N[ix]\n",
    "\n",
    "    print(sdir) \n",
    "\n",
    "    # mesh \n",
    "    msh = iou.fullfile(p2f, sims_dir, sdir, 'Monolayer') \n",
    "    msh_2d = iou.fullfile(p2f, square_dir, sdir_2d, 'Labelled_Coords_2D_Rescaling_v3_C')\n",
    "\n",
    "    # dat \n",
    "    dat_list = [iou.fullfile(p2f, sims_dir, sdir, l+'.dat') for l in list_files] \n",
    "\n",
    "    # png \n",
    "    png_list = [iou.fullfile(p2f, output_dir , l ,'3D', sdir) for l in list_files]\n",
    "    png_list_2d = [iou.fullfile(p2f, output_dir , l ,'2D', sdir) for l in list_files]\n",
    "\n",
    "    for x in range(len(list_files)) : \n",
    "        mshz_state_file = iou.fullfile(p2f, list_files[x]+'.mshz')\n",
    "        # print(mshz_cmd(png_list[x], msh, dat_list[x], mshz_state=mshz_state_file))\n",
    "        os.system(mshz_cmd(png_list[x], msh, dat_list[x], mshz_state=mshz_state_file))\n",
    "        # print(mshz_cmd(png_list_2d[x] + '_2D', msh_2d, dat_list[x], mshz_state=mshz_state_file))\n",
    "        os.system(mshz_cmd(png_list_2d[x] + '_2D', msh_2d, dat_list[x], mshz_state=mshz_state_file))\n",
    "\n",
    "\n"
   ]
  },
  {
   "cell_type": "code",
   "execution_count": null,
   "metadata": {},
   "outputs": [],
   "source": [
    "import numpy as np\n",
    "\n",
    "list_files = ['LAT_RSPV_1', 'LAT_RSPV_l', 'PSNode', 'PSNodeSmooth']\n",
    "\n",
    "lat_l = np.zeros((len(si_N), 2))\n",
    "lat_1 = np.zeros((len(si_N), 2))\n",
    "psn = np.zeros((len(si_N), 2))\n",
    "psns = np.zeros((len(si_N), 2))\n",
    "\n",
    "for ix in range(len(si_N)) : \n",
    "    # ix =0 \n",
    "    print(si_N[ix])\n",
    "    sdir = si_N[ix]\n",
    "    sdir_2d = in_N[ix]\n",
    "    dat_list = [iou.fullfile(p2f, sims_dir, sdir, l+'.dat') for l in list_files] \n",
    "\n",
    "    l = np.loadtxt(dat_list[0])\n",
    "    lat_1[ix, :] = [np.min(l), np.max(l)]\n",
    "\n",
    "    l = np.loadtxt(dat_list[1])\n",
    "    lat_l[ix, :] = [np.min(l), np.max(l)]\n",
    "\n",
    "    l = np.loadtxt(dat_list[2])\n",
    "    psn[ix, :] = [np.min(l), np.max(l)]\n",
    "\n",
    "    l = np.loadtxt(dat_list[3])\n",
    "    psns[ix, :] = [np.min(l), np.max(l)]\n",
    "\n",
    "iou.cout('LAT_RSPV_1 - min: {} max: {}'.format(np.min(lat_1), np.max(lat_1)))\n",
    "iou.cout('LAT_RSPV_l - min: {} max: {}'.format(np.min(lat_l), np.max(lat_l)))\n",
    "iou.cout('PSNode - min: {} max: {}'.format(np.min(psn), np.max(psn)))\n",
    "iou.cout('PSNodeSmooth - min: {} max: {}'.format(np.min(psns), np.max(psns)))"
   ]
  },
  {
   "cell_type": "code",
   "execution_count": null,
   "metadata": {},
   "outputs": [],
   "source": []
  },
  {
   "cell_type": "code",
   "execution_count": null,
   "metadata": {},
   "outputs": [],
   "source": [
    "import pandas as pd \n",
    "\n",
    "df = pd.DataFrame(columns=['ID', 'original_path', 'simulation_path', 'user', 'patient', 'mode', 'processing']) \n",
    "\n",
    "for ix in range (len(in_N)) : \n",
    "    sdir_2d = in_N[ix]\n",
    "    txt_file = iou.fullfile(p2f, square_dir, sdir_2d, 'README.txt')\n",
    "\n",
    "    case_info = pd.read_csv(txt_file,index_col=0, header=None, skipinitialspace=True).T\n",
    "    case_info\n",
    "\n",
    "    df = pd.concat([df, case_info])\n",
    "\n",
    "new_col = ['$AFIB_REPROD/008_simulation_results/' + n for n in si_N]\n",
    "df.insert(loc=int(3), column='result_path', value=new_col)\n",
    "\n",
    "out_file = iou.fullfile(p2f, 'simulations_paths.csv')\n",
    "df.to_csv(out_file, index=False)"
   ]
  },
  {
   "cell_type": "code",
   "execution_count": null,
   "metadata": {},
   "outputs": [],
   "source": []
  }
 ],
 "metadata": {
  "kernelspec": {
   "display_name": "Python 3.8.13 ('imatools')",
   "language": "python",
   "name": "python3"
  },
  "language_info": {
   "codemirror_mode": {
    "name": "ipython",
    "version": 3
   },
   "file_extension": ".py",
   "mimetype": "text/x-python",
   "name": "python",
   "nbconvert_exporter": "python",
   "pygments_lexer": "ipython3",
   "version": "3.8.13"
  },
  "orig_nbformat": 4,
  "vscode": {
   "interpreter": {
    "hash": "d269f9cdd2e06e56f3b53688bbf2655cca88fd34c49022fdd852160d3de00689"
   }
  }
 },
 "nbformat": 4,
 "nbformat_minor": 2
}
