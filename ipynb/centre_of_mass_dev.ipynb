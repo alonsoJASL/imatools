{
 "cells": [
  {
   "cell_type": "code",
   "execution_count": null,
   "metadata": {},
   "outputs": [],
   "source": [
    "import os, sys \n",
    "import numpy as np \n",
    "import json \n",
    "\n",
    "IMATOOLS_DIR = os.getcwd()+'/..'\n",
    "sys.path.insert(1, IMATOOLS_DIR)\n",
    "\n",
    "from imatools.common import ioutils as iou\n",
    "from imatools.common import vtktools as vtku "
   ]
  },
  {
   "cell_type": "code",
   "execution_count": null,
   "metadata": {},
   "outputs": [],
   "source": [
    "BASE_DIR = '/media/jsl19/sandisk/09-dnav_vs_inav/kcl/irum/iNav_registration_issue'\n",
    "CASES = os.listdir(BASE_DIR)\n",
    "SDIR = 'CEMRG'\n",
    "nav = lambda x : '{}Nav'.format(x)\n",
    "\n",
    "def load_json(fpath) : \n",
    "    data = json.load(open(fpath, 'r'))\n",
    "    for k in data.keys() : \n",
    "        data[k] = np.array(data[k])\n",
    "    \n",
    "    return data\n",
    "    \n",
    "def adjust_origin(array, orgn) : \n",
    "    return array - orgn"
   ]
  },
  {
   "cell_type": "code",
   "execution_count": null,
   "metadata": {},
   "outputs": [],
   "source": [
    "cx = 0\n",
    "x = 'i' # or 'd'\n",
    "c = CASES[cx]\n",
    "\n",
    "p2f = iou.fullfile(BASE_DIR, c, SDIR, nav(x))\n",
    "files = [f for f in os.listdir(p2f) if \".json\" in f]\n",
    "\n",
    "print(files)\n"
   ]
  },
  {
   "cell_type": "code",
   "execution_count": null,
   "metadata": {},
   "outputs": [],
   "source": [
    "jf = files[2]\n",
    "\n",
    "data_pveins_old = load_json(iou.fullfile(p2f, files[2]))\n",
    "data_pveins = load_json(iou.fullfile(p2f, files[1]))\n",
    "data_segvtk = load_json(iou.fullfile(p2f, files[0]))\n",
    "\n",
    "centroid_pveins = data_pveins['centroid'] + data_pveins['origin']\n",
    "centroid_pveins_old = data_pveins_old['centroid'] + data_pveins_old['origin']\n",
    "centroid_segvtk = data_segvtk['centroid']\n",
    "\n",
    "print('centroid_pveins_old')\n",
    "print(centroid_pveins_old)\n",
    "\n",
    "print('centroid_pveins')\n",
    "print(centroid_pveins)\n",
    "\n",
    "print('centroid_segvtk')\n",
    "print(centroid_segvtk)\n"
   ]
  },
  {
   "cell_type": "code",
   "execution_count": null,
   "metadata": {},
   "outputs": [],
   "source": [
    "data_pveins_new = load_json(iou.fullfile(p2f, files[1]))\n",
    "centroid_pveins_new = data_pveins_new['centroid'] + data_pveins_new['origin']\n",
    "\n",
    "print('centroid_pveins_new')\n",
    "print(centroid_pveins_new)\n"
   ]
  }
 ],
 "metadata": {
  "kernelspec": {
   "display_name": "Python 3.8.13 ('imatools')",
   "language": "python",
   "name": "python3"
  },
  "language_info": {
   "codemirror_mode": {
    "name": "ipython",
    "version": 3
   },
   "file_extension": ".py",
   "mimetype": "text/x-python",
   "name": "python",
   "nbconvert_exporter": "python",
   "pygments_lexer": "ipython3",
   "version": "3.8.13"
  },
  "orig_nbformat": 4,
  "vscode": {
   "interpreter": {
    "hash": "7ef3cfad9850278225e497b94f7d476aa408699f40230bdd18bf3034bae757d5"
   }
  }
 },
 "nbformat": 4,
 "nbformat_minor": 2
}
