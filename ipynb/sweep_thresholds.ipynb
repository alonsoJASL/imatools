{
 "cells": [
  {
   "cell_type": "code",
   "execution_count": null,
   "metadata": {},
   "outputs": [],
   "source": [
    "import sys\n",
    "import os\n",
    "IMATOOLS_DIR = os.getcwd()+'/..'\n",
    "sys.path.insert(1, IMATOOLS_DIR)"
   ]
  },
  {
   "cell_type": "code",
   "execution_count": 7,
   "metadata": {},
   "outputs": [],
   "source": [
    "import numpy as np\n",
    "import pandas as pd\n",
    "\n",
    "import imatools.vtktools as vtktools\n",
    "import imatools.ioutils as io\n",
    "\n",
    "\n",
    "def get_sweep_results(sweep_file) : \n",
    "    with open(sweep_file, encoding='utf-8') as f:\n",
    "        discard = f.readline()\n",
    "        mean_bp = float(f.readline().strip())\n",
    "        sdev_bp = float(f.readline().strip())\n",
    "        discard = f.readline()\n",
    "\n",
    "        lines = f.readlines()\n",
    "\n",
    "        return mean_bp, sdev_bp, lines \n"
   ]
  },
  {
   "cell_type": "code",
   "execution_count": 10,
   "metadata": {},
   "outputs": [
    {
     "name": "stdout",
     "output_type": "stream",
     "text": [
      "78.9256\n",
      "11.174\n",
      "['V=0.7, SCORE=62.7396\\n', 'V=0.71, SCORE=62.082\\n', 'V=0.72, SCORE=62.082\\n', 'V=0.73, SCORE=61.3812\\n', 'V=0.74, SCORE=60.7704\\n', 'V=0.75, SCORE=59.9985\\n', 'V=0.76, SCORE=59.9985\\n', 'V=0.77, SCORE=59.2697\\n', 'V=0.78, SCORE=58.5296\\n', 'V=0.79, SCORE=57.7689\\n', 'V=0.8, SCORE=56.9614\\n', 'V=0.81, SCORE=56.9614\\n', 'V=0.82, SCORE=56.167\\n', 'V=0.83, SCORE=55.3351\\n', 'V=0.84, SCORE=54.4376\\n', 'V=0.85, SCORE=53.5083\\n', 'V=0.86, SCORE=53.5083\\n', 'V=0.87, SCORE=52.5697\\n', 'V=0.88, SCORE=51.5823\\n', 'V=0.89, SCORE=50.5874\\n', 'V=0.9, SCORE=49.5663\\n', 'V=0.91, SCORE=49.5663\\n', 'V=0.92, SCORE=48.5882\\n', 'V=0.93, SCORE=47.5671\\n', 'V=0.94, SCORE=46.4486\\n', 'V=0.95, SCORE=46.4486\\n', 'V=0.96, SCORE=45.2307\\n', 'V=0.97, SCORE=43.9867\\n', 'V=0.98, SCORE=42.6414\\n', 'V=0.99, SCORE=41.2025\\n', 'V=1, SCORE=41.2025\\n', 'V=1.01, SCORE=39.5968\\n', 'V=1.02, SCORE=38.0398\\n', 'V=1.03, SCORE=36.4248\\n', 'V=1.04, SCORE=34.7947\\n', 'V=1.05, SCORE=34.7947\\n', 'V=1.06, SCORE=32.9923\\n', 'V=1.07, SCORE=31.1806\\n', 'V=1.08, SCORE=29.2339\\n', 'V=1.09, SCORE=27.3771\\n', 'V=1.1, SCORE=27.3771\\n', 'V=1.11, SCORE=25.4305\\n', 'V=1.12, SCORE=23.5231\\n', 'V=1.13, SCORE=21.6533\\n', 'V=1.14, SCORE=21.6533\\n', 'V=1.15, SCORE=19.9633\\n', 'V=1.16, SCORE=18.2058\\n', 'V=1.17, SCORE=16.5327\\n', 'V=1.18, SCORE=14.9476\\n', 'V=1.19, SCORE=14.9476\\n', 'V=1.2, SCORE=13.4862\\n', 'V=1.21, SCORE=12.2403\\n', 'V=1.22, SCORE=10.9812\\n', 'V=1.23, SCORE=9.82707\\n', 'V=1.24, SCORE=9.82707\\n', 'V=1.25, SCORE=8.8378\\n', 'V=1.26, SCORE=7.95159\\n', 'V=1.27, SCORE=7.14968\\n', 'V=1.28, SCORE=6.44521\\n', 'V=1.29, SCORE=6.44521\\n', 'V=1.3, SCORE=5.8138\\n', 'V=1.31, SCORE=5.15429\\n', 'V=1.32, SCORE=4.63156\\n', 'V=1.33, SCORE=4.63156\\n', 'V=1.34, SCORE=4.22311\\n', 'V=1.35, SCORE=3.79967\\n', 'V=1.36, SCORE=3.40622\\n', 'V=1.37, SCORE=3.06709\\n', 'V=1.38, SCORE=3.06709\\n', 'V=1.39, SCORE=2.78418\\n', 'V=1.4, SCORE=2.47129\\n', 'V=1.41, SCORE=2.23896\\n', 'V=1.42, SCORE=2.01975\\n', 'V=1.43, SCORE=2.01975\\n', 'V=1.44, SCORE=1.81927\\n', 'V=1.45, SCORE=1.65252\\n', 'V=1.46, SCORE=1.49889\\n', 'V=1.47, SCORE=1.36024\\n', 'V=1.48, SCORE=1.36024\\n', 'V=1.49, SCORE=1.22909\\n', 'V=1.5, SCORE=1.14103\\n', 'V=1.51, SCORE=1.02674\\n', 'V=1.52, SCORE=1.02674\\n', 'V=1.53, SCORE=0.955539\\n', 'V=1.54, SCORE=0.854365\\n', 'V=1.55, SCORE=0.792536\\n', 'V=1.56, SCORE=0.71197\\n', 'V=1.57, SCORE=0.71197\\n', 'V=1.58, SCORE=0.616417\\n', 'V=1.59, SCORE=0.526483\\n', 'V=1.6, SCORE=0.459034\\n']\n"
     ]
    }
   ],
   "source": [
    "\n",
    "DIR = '/Volumes/sandisk/09-dnav_vs_inav/umc'\n",
    "subdirs = ['local', 'docker']\n",
    "N = np.sort([10, 11, 12, 13, 14, 15, 16, 17, 18, 19, 2, 20, 21, 22, 23, 24, 25, 26, 5, 6, 7, 8, 9])\n",
    "sd=0\n",
    "n=1\n",
    "resfolder = io.fullfile(DIR, 'results_'+subdirs[sd])\n",
    "\n",
    "df = pd.read_csv(io.fullfile(resfolder, 'stats.csv'))\n",
    "\n",
    "fname = '/Volumes/sandisk/09-dnav_vs_inav/umc/local/2/LGE_iNAV/OUTPUT_SWEEP/IIR_MaxScar-single-voxel_prodStats.txt'\n",
    "a, b, c = get_sweep_results(fname)\n",
    "\n",
    "print(a) \n",
    "print(b)\n",
    "print(c)\n"
   ]
  }
 ],
 "metadata": {
  "kernelspec": {
   "display_name": "Python 3.8.13 ('imatools')",
   "language": "python",
   "name": "python3"
  },
  "language_info": {
   "codemirror_mode": {
    "name": "ipython",
    "version": 3
   },
   "file_extension": ".py",
   "mimetype": "text/x-python",
   "name": "python",
   "nbconvert_exporter": "python",
   "pygments_lexer": "ipython3",
   "version": "3.8.13"
  },
  "orig_nbformat": 4,
  "vscode": {
   "interpreter": {
    "hash": "d269f9cdd2e06e56f3b53688bbf2655cca88fd34c49022fdd852160d3de00689"
   }
  }
 },
 "nbformat": 4,
 "nbformat_minor": 2
}
