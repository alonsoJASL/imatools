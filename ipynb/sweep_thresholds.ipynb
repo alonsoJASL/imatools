{
 "cells": [
  {
   "cell_type": "code",
   "execution_count": null,
   "metadata": {},
   "outputs": [],
   "source": [
    "import sys\n",
    "import os\n",
    "IMATOOLS_DIR = os.getcwd()+'/..'\n",
    "sys.path.insert(1, IMATOOLS_DIR)"
   ]
  },
  {
   "cell_type": "code",
   "execution_count": null,
   "metadata": {},
   "outputs": [],
   "source": [
    "import numpy as np\n",
    "import pandas as pd\n",
    "\n",
    "from imatools.common import vtktools as vtku\n",
    "from imatools.common import ioutils as iou\n",
    "\n",
    "\n",
    "def get_sweep_results(sweep_file) : \n",
    "    with open(sweep_file, encoding='utf-8') as f:\n",
    "        discard = f.readline()\n",
    "        mean_bp = float(f.readline().strip())\n",
    "        sdev_bp = float(f.readline().strip())\n",
    "        discard = f.readline()\n",
    "\n",
    "        lines = f.readlines()\n",
    "\n",
    "        return mean_bp, sdev_bp, lines \n"
   ]
  },
  {
   "cell_type": "code",
   "execution_count": null,
   "metadata": {},
   "outputs": [],
   "source": [
    "\n",
    "# DIR = '/Volumes/sandisk/09-dnav_vs_inav/umc'\n",
    "DIR = '/media/jsl19/sandisk/09-dnav_vs_inav/umc'\n",
    "subdirs = ['local', 'docker']\n",
    "N = np.sort([10, 11, 12, 13, 14, 15, 16, 17, 18, 19, 2, 20, 21, 22, 23, 24, 25, 26, 5, 6, 7, 8, 9])\n",
    "sd=0\n",
    "\n",
    "resfolder = iou.fullfile(DIR, 'results_'+subdirs[sd])\n",
    "df = pd.read_csv(iou.fullfile(resfolder, 'stats.csv'))\n",
    "\n",
    "\n",
    "df[' MEAN_BP']"
   ]
  },
  {
   "cell_type": "code",
   "execution_count": null,
   "metadata": {},
   "outputs": [],
   "source": [
    "import matplotlib as mpl\n",
    "import matplotlib.pyplot as plt\n",
    "import seaborn as sns\n",
    "\n",
    "sns.scatterplot(x=df['CASE'], y=df[' MEAN_BP'], hue=df[' LGE_TYPE'], size=df[' SDEV_BP'])\n"
   ]
  },
  {
   "cell_type": "code",
   "execution_count": null,
   "metadata": {},
   "outputs": [],
   "source": [
    "sns.scatterplot(x=df['CASE'], y=df[' FIB_SCORE '], hue=df[' LGE_TYPE'])\n"
   ]
  }
 ],
 "metadata": {
  "kernelspec": {
   "display_name": "Python 3.8.13 ('imatools')",
   "language": "python",
   "name": "python3"
  },
  "language_info": {
   "codemirror_mode": {
    "name": "ipython",
    "version": 3
   },
   "file_extension": ".py",
   "mimetype": "text/x-python",
   "name": "python",
   "nbconvert_exporter": "python",
   "pygments_lexer": "ipython3",
   "version": "3.8.13"
  },
  "orig_nbformat": 4,
  "vscode": {
   "interpreter": {
    "hash": "d269f9cdd2e06e56f3b53688bbf2655cca88fd34c49022fdd852160d3de00689"
   }
  }
 },
 "nbformat": 4,
 "nbformat_minor": 2
}
