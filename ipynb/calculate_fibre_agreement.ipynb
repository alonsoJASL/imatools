{
 "cells": [
  {
   "cell_type": "code",
   "execution_count": 1,
   "metadata": {},
   "outputs": [],
   "source": [
    "import os, sys \n",
    "import numpy as np \n",
    "\n",
    "IMATOOLS_DIR = os.getcwd()+'/..'\n",
    "sys.path.insert(1, IMATOOLS_DIR)\n",
    "\n",
    "from imatools.common import ioutils as iou\n",
    "from imatools.common import vtktools as vtku \n",
    "\n",
    "def calc_cog(pts, el):\n",
    "    return [np.mean(pts[ee], 0) for ee in el]\n",
    "\n",
    "norm2 = lambda a : np.linalg.norm(a)\n",
    "norm_vec = lambda a : a/norm2(a)\n",
    "\n",
    "\n",
    "def extract_from_dataframe(dframe, window, bdir=None):\n",
    "    _dir = dframe.result_path[window]\n",
    "    _user = dframe.user[window].tolist()\n",
    "    _patient = dframe.patient[window].tolist()\n",
    "    _mode = dframe['mode'][window].tolist()\n",
    "    _original_dir = dframe.original_path[window]\n",
    "    _sim_dir = dframe.simulation_path[window]\n",
    "\n",
    "    if (bdir is not None):\n",
    "        _dir = [px.replace('$AFIB_REPROD', bdir) for px in _dir]\n",
    "        _original_dir = [px.replace('$AFIB_REPROD', bdir)\n",
    "                         for px in _original_dir]\n",
    "        _sim_dir = [px.replace('$AFIB_REPROD', bdir) for px in _sim_dir]\n",
    "    else:\n",
    "       _dir = _dir.tolist()\n",
    "       _sim_dir = _sim_dir.tolist()\n",
    "       _original_dir = _original_dir.tolist()\n",
    "\n",
    "    return _dir, _user, _patient, _mode, _original_dir, _sim_dir\n",
    "\n",
    "LABEL_STR = ['FULL', 'LA', 'LSPV', 'LIPV', 'RSPV', 'RIPV', 'LAA']\n",
    "LABEL_LIST = [0, 1, 11, 13, 15, 17, 19]"
   ]
  },
  {
   "cell_type": "code",
   "execution_count": 2,
   "metadata": {},
   "outputs": [],
   "source": [
    "# Locations of hard drive based on platform\n",
    "dirdic = {'macOS': '/Volumes/sandisk',\n",
    "          'Linux': '/media/jsl19/sandisk',\n",
    "          'Windows': 'D:/'}\n",
    "\n",
    "tex_dic = {'macOS' : '/Users/jsolislemus/Documents/TEX', \n",
    "            'Linux' : '/home/jsl19/Documents/tex'}\n",
    "\n",
    "base_dir = iou.fullfile(dirdic[iou.chooseplatform()], '01_atrialfibres/06_Reproducibility/05_UserProjects')\n",
    "sims_dir = iou.fullfile(base_dir, '008_simulation_results')\n",
    "out_dir = iou.fullfile(base_dir, '009_simulation_images', 'Fibre_Agreement')\n",
    "\n",
    "tex_dir = iou.fullfile(tex_dic[iou.chooseplatform()], 'tex.cinbio.reproducibility/scripts/py')\n",
    "\n",
    "N = ['M' + str(n) for n in np.linspace(1,100,num=100, dtype=int)]"
   ]
  },
  {
   "cell_type": "markdown",
   "metadata": {},
   "source": [
    "Loading `simulation_paths.csv`, which contains the original paths and the result paths of everything. This is useful for comparisons."
   ]
  },
  {
   "cell_type": "code",
   "execution_count": 3,
   "metadata": {},
   "outputs": [
    {
     "data": {
      "text/html": [
       "<div>\n",
       "<style scoped>\n",
       "    .dataframe tbody tr th:only-of-type {\n",
       "        vertical-align: middle;\n",
       "    }\n",
       "\n",
       "    .dataframe tbody tr th {\n",
       "        vertical-align: top;\n",
       "    }\n",
       "\n",
       "    .dataframe thead th {\n",
       "        text-align: right;\n",
       "    }\n",
       "</style>\n",
       "<table border=\"1\" class=\"dataframe\">\n",
       "  <thead>\n",
       "    <tr style=\"text-align: right;\">\n",
       "      <th></th>\n",
       "      <th>ID</th>\n",
       "      <th>original_path</th>\n",
       "      <th>simulation_path</th>\n",
       "      <th>result_path</th>\n",
       "      <th>user</th>\n",
       "      <th>patient</th>\n",
       "      <th>mode</th>\n",
       "      <th>processing</th>\n",
       "    </tr>\n",
       "  </thead>\n",
       "  <tbody>\n",
       "    <tr>\n",
       "      <th>0</th>\n",
       "      <td>M001</td>\n",
       "      <td>$AFIB_REPROD/002_charlie/03_completed/PATIENT_...</td>\n",
       "      <td>$AFIB_REPROD/007_simulations/M001</td>\n",
       "      <td>$AFIB_REPROD/008_simulation_results/M1</td>\n",
       "      <td>002_charlie</td>\n",
       "      <td>PATIENT_1877870</td>\n",
       "      <td>inter</td>\n",
       "      <td>manual</td>\n",
       "    </tr>\n",
       "    <tr>\n",
       "      <th>1</th>\n",
       "      <td>M002</td>\n",
       "      <td>$AFIB_REPROD/003_rosie/03_completed/PATIENT_18...</td>\n",
       "      <td>$AFIB_REPROD/007_simulations/M002</td>\n",
       "      <td>$AFIB_REPROD/008_simulation_results/M2</td>\n",
       "      <td>003_rosie</td>\n",
       "      <td>PATIENT_1877870</td>\n",
       "      <td>inter</td>\n",
       "      <td>automatic</td>\n",
       "    </tr>\n",
       "    <tr>\n",
       "      <th>2</th>\n",
       "      <td>M003</td>\n",
       "      <td>$AFIB_REPROD/002_charlie/03_completed/PATIENT_...</td>\n",
       "      <td>$AFIB_REPROD/007_simulations/M003</td>\n",
       "      <td>$AFIB_REPROD/008_simulation_results/M3</td>\n",
       "      <td>002_charlie</td>\n",
       "      <td>PATIENT_2540680</td>\n",
       "      <td>inter</td>\n",
       "      <td>automatic</td>\n",
       "    </tr>\n",
       "    <tr>\n",
       "      <th>3</th>\n",
       "      <td>M004</td>\n",
       "      <td>$AFIB_REPROD/004_jose/03_completed/PATIENT_254...</td>\n",
       "      <td>$AFIB_REPROD/007_simulations/M004</td>\n",
       "      <td>$AFIB_REPROD/008_simulation_results/M4</td>\n",
       "      <td>004_jose</td>\n",
       "      <td>PATIENT_2540680</td>\n",
       "      <td>inter</td>\n",
       "      <td>automatic</td>\n",
       "    </tr>\n",
       "    <tr>\n",
       "      <th>4</th>\n",
       "      <td>M005</td>\n",
       "      <td>$AFIB_REPROD/002_charlie/03_completed/PATIENT_...</td>\n",
       "      <td>$AFIB_REPROD/007_simulations/M005</td>\n",
       "      <td>$AFIB_REPROD/008_simulation_results/M5</td>\n",
       "      <td>002_charlie</td>\n",
       "      <td>PATIENT_3506490</td>\n",
       "      <td>inter</td>\n",
       "      <td>automatic</td>\n",
       "    </tr>\n",
       "    <tr>\n",
       "      <th>...</th>\n",
       "      <td>...</td>\n",
       "      <td>...</td>\n",
       "      <td>...</td>\n",
       "      <td>...</td>\n",
       "      <td>...</td>\n",
       "      <td>...</td>\n",
       "      <td>...</td>\n",
       "      <td>...</td>\n",
       "    </tr>\n",
       "    <tr>\n",
       "      <th>95</th>\n",
       "      <td>M096</td>\n",
       "      <td>$AFIB_REPROD/004_jose/03_completed/PATIENT_681...</td>\n",
       "      <td>$AFIB_REPROD/007_simulations/M096</td>\n",
       "      <td>$AFIB_REPROD/008_simulation_results/M96</td>\n",
       "      <td>004_jose</td>\n",
       "      <td>PATIENT_6816821</td>\n",
       "      <td>intra</td>\n",
       "      <td>automatic</td>\n",
       "    </tr>\n",
       "    <tr>\n",
       "      <th>96</th>\n",
       "      <td>M097</td>\n",
       "      <td>$AFIB_REPROD/004_jose/03_completed/PATIENT_148...</td>\n",
       "      <td>$AFIB_REPROD/007_simulations/M097</td>\n",
       "      <td>$AFIB_REPROD/008_simulation_results/M97</td>\n",
       "      <td>004_jose</td>\n",
       "      <td>PATIENT_1485560</td>\n",
       "      <td>intra</td>\n",
       "      <td>automatic</td>\n",
       "    </tr>\n",
       "    <tr>\n",
       "      <th>97</th>\n",
       "      <td>M098</td>\n",
       "      <td>$AFIB_REPROD/004_jose/03_completed/PATIENT_148...</td>\n",
       "      <td>$AFIB_REPROD/007_simulations/M098</td>\n",
       "      <td>$AFIB_REPROD/008_simulation_results/M98</td>\n",
       "      <td>004_jose</td>\n",
       "      <td>PATIENT_1485561</td>\n",
       "      <td>intra</td>\n",
       "      <td>automatic</td>\n",
       "    </tr>\n",
       "    <tr>\n",
       "      <th>98</th>\n",
       "      <td>M099</td>\n",
       "      <td>$AFIB_REPROD/004_jose/03_completed/PATIENT_132...</td>\n",
       "      <td>$AFIB_REPROD/007_simulations/M099</td>\n",
       "      <td>$AFIB_REPROD/008_simulation_results/M99</td>\n",
       "      <td>004_jose</td>\n",
       "      <td>PATIENT_1321410</td>\n",
       "      <td>intra</td>\n",
       "      <td>automatic</td>\n",
       "    </tr>\n",
       "    <tr>\n",
       "      <th>99</th>\n",
       "      <td>M100</td>\n",
       "      <td>$AFIB_REPROD/004_jose/03_completed/PATIENT_132...</td>\n",
       "      <td>$AFIB_REPROD/007_simulations/M100</td>\n",
       "      <td>$AFIB_REPROD/008_simulation_results/M100</td>\n",
       "      <td>004_jose</td>\n",
       "      <td>PATIENT_1321411</td>\n",
       "      <td>intra</td>\n",
       "      <td>automatic</td>\n",
       "    </tr>\n",
       "  </tbody>\n",
       "</table>\n",
       "<p>100 rows × 8 columns</p>\n",
       "</div>"
      ],
      "text/plain": [
       "      ID                                      original_path  \\\n",
       "0   M001  $AFIB_REPROD/002_charlie/03_completed/PATIENT_...   \n",
       "1   M002  $AFIB_REPROD/003_rosie/03_completed/PATIENT_18...   \n",
       "2   M003  $AFIB_REPROD/002_charlie/03_completed/PATIENT_...   \n",
       "3   M004  $AFIB_REPROD/004_jose/03_completed/PATIENT_254...   \n",
       "4   M005  $AFIB_REPROD/002_charlie/03_completed/PATIENT_...   \n",
       "..   ...                                                ...   \n",
       "95  M096  $AFIB_REPROD/004_jose/03_completed/PATIENT_681...   \n",
       "96  M097  $AFIB_REPROD/004_jose/03_completed/PATIENT_148...   \n",
       "97  M098  $AFIB_REPROD/004_jose/03_completed/PATIENT_148...   \n",
       "98  M099  $AFIB_REPROD/004_jose/03_completed/PATIENT_132...   \n",
       "99  M100  $AFIB_REPROD/004_jose/03_completed/PATIENT_132...   \n",
       "\n",
       "                      simulation_path  \\\n",
       "0   $AFIB_REPROD/007_simulations/M001   \n",
       "1   $AFIB_REPROD/007_simulations/M002   \n",
       "2   $AFIB_REPROD/007_simulations/M003   \n",
       "3   $AFIB_REPROD/007_simulations/M004   \n",
       "4   $AFIB_REPROD/007_simulations/M005   \n",
       "..                                ...   \n",
       "95  $AFIB_REPROD/007_simulations/M096   \n",
       "96  $AFIB_REPROD/007_simulations/M097   \n",
       "97  $AFIB_REPROD/007_simulations/M098   \n",
       "98  $AFIB_REPROD/007_simulations/M099   \n",
       "99  $AFIB_REPROD/007_simulations/M100   \n",
       "\n",
       "                                 result_path         user          patient  \\\n",
       "0     $AFIB_REPROD/008_simulation_results/M1  002_charlie  PATIENT_1877870   \n",
       "1     $AFIB_REPROD/008_simulation_results/M2    003_rosie  PATIENT_1877870   \n",
       "2     $AFIB_REPROD/008_simulation_results/M3  002_charlie  PATIENT_2540680   \n",
       "3     $AFIB_REPROD/008_simulation_results/M4     004_jose  PATIENT_2540680   \n",
       "4     $AFIB_REPROD/008_simulation_results/M5  002_charlie  PATIENT_3506490   \n",
       "..                                       ...          ...              ...   \n",
       "95   $AFIB_REPROD/008_simulation_results/M96     004_jose  PATIENT_6816821   \n",
       "96   $AFIB_REPROD/008_simulation_results/M97     004_jose  PATIENT_1485560   \n",
       "97   $AFIB_REPROD/008_simulation_results/M98     004_jose  PATIENT_1485561   \n",
       "98   $AFIB_REPROD/008_simulation_results/M99     004_jose  PATIENT_1321410   \n",
       "99  $AFIB_REPROD/008_simulation_results/M100     004_jose  PATIENT_1321411   \n",
       "\n",
       "     mode processing  \n",
       "0   inter     manual  \n",
       "1   inter  automatic  \n",
       "2   inter  automatic  \n",
       "3   inter  automatic  \n",
       "4   inter  automatic  \n",
       "..    ...        ...  \n",
       "95  intra  automatic  \n",
       "96  intra  automatic  \n",
       "97  intra  automatic  \n",
       "98  intra  automatic  \n",
       "99  intra  automatic  \n",
       "\n",
       "[100 rows x 8 columns]"
      ]
     },
     "execution_count": 3,
     "metadata": {},
     "output_type": "execute_result"
    }
   ],
   "source": [
    "import pandas as pd \n",
    "\n",
    "df = pd.read_csv(iou.fullfile(base_dir, 'simulations_paths.csv'))\n",
    "num_pairs = int(len(df)/2)\n",
    "\n",
    "df"
   ]
  },
  {
   "cell_type": "markdown",
   "metadata": {},
   "source": [
    "Extract relevant information from the dataframe"
   ]
  },
  {
   "cell_type": "code",
   "execution_count": 18,
   "metadata": {},
   "outputs": [],
   "source": [
    "import vtk \n",
    "\n",
    "win_a = np.linspace(0,98,num=50,dtype=int)\n",
    "win_b = np.linspace(1,99,num=50,dtype=int)\n",
    "\n",
    "dir_a, user_a, patient_a, mode_a, odir_a, _ = extract_from_dataframe(df, window=win_a, bdir=base_dir)\n",
    "dir_b, user_b, patient_b, mode_b, odir_b, _ = extract_from_dataframe(df, window=win_b, bdir=base_dir)\n",
    "\n",
    "fibre_file = 'l' \n",
    "mname = 'Bilayer_' + fibre_file\n",
    "\n"
   ]
  },
  {
   "cell_type": "markdown",
   "metadata": {},
   "source": [
    "# Sanity checks on fibre files\n",
    "Checking that meshes and fibre fields are the same, even though they have been processed in three different occasions: \n",
    "+ **Model Rep study (OG)** by users (`cemrg/uac:v1.1`).\n",
    "+ **Batch processed (007)** by JASL (`cemrg/uac:v2.0`)\n",
    "+ **Batch processed (008)** by CR (same build as `cemrg/uac:v3.0-alpha`). Simulations were run here.\n",
    "\n",
    "> **EDIT:** It seems that 007 was created with a newer version of cemrg/uac, closer to `v3.0-alpha`"
   ]
  },
  {
   "cell_type": "code",
   "execution_count": 19,
   "metadata": {},
   "outputs": [
    {
     "name": "stdout",
     "output_type": "stream",
     "text": [
      "[INFO] Number of elements: 688369\n",
      "[INFO] Number of elements: 688369\n",
      "Pts: 2.1135667421462063e-08\n",
      "Elems: 0.0\n"
     ]
    }
   ],
   "source": [
    "import numpy as np \n",
    "\n",
    "l2_norm = lambda a : np.linalg.norm(a, axis=1)\n",
    "\n",
    "ix = 0 # select index to compare \n",
    "\n",
    "res_dir, _, _, _, og_dir, sim_dir = extract_from_dataframe(dframe=df, window=[ix], bdir=base_dir)\n",
    "res_dir = res_dir[0]\n",
    "og_dir = og_dir[0]\n",
    "sim_dir = sim_dir[0]\n",
    "\n",
    "res_fibre = 'Bilayer_1'\n",
    "og_fibre = 'Bilayer'\n",
    "sim_fibre = 'FF1_Bilayer'\n",
    "\n",
    "exts = {'points': '.pts', 'elements': '.elem', 'fibres' : '.lon'}\n",
    "\n",
    "pts_res, el_res, _ = iou.loadCarpMesh(res_fibre, res_dir)\n",
    "pts_og, el_og, _ = iou.loadCarpMesh(og_fibre, og_dir)\n",
    "\n",
    "print('Pts: {}'.format(np.mean(l2_norm(pts_res-pts_og))))\n",
    "print('Elems: {}'.format(np.mean(l2_norm(np.array(el_res)-np.array(el_og)))))\n"
   ]
  },
  {
   "cell_type": "code",
   "execution_count": 20,
   "metadata": {},
   "outputs": [
    {
     "name": "stdout",
     "output_type": "stream",
     "text": [
      "Comparison 008 vs OG : 0.9738682077383437\n",
      "Comparison 008 vs 007: 5.9573014159555046e-05\n"
     ]
    }
   ],
   "source": [
    "\n",
    "fib_res = np.loadtxt(iou.fullfile(res_dir, res_fibre+exts['fibres']))\n",
    "fib_og = np.loadtxt(iou.fullfile(og_dir, og_fibre+exts['fibres']))\n",
    "fib_sim = np.loadtxt(iou.fullfile(sim_dir, sim_fibre+exts['fibres']))\n",
    "\n",
    "print('Comparison 008 vs OG : {}'.format(np.mean(l2_norm(fib_res - fib_og))))\n",
    "print('Comparison 008 vs 007: {}'.format(np.mean(l2_norm(fib_res - fib_sim))))\n"
   ]
  },
  {
   "cell_type": "code",
   "execution_count": 21,
   "metadata": {},
   "outputs": [
    {
     "data": {
      "text/plain": [
       "0.0014527092300786351"
      ]
     },
     "execution_count": 21,
     "metadata": {},
     "output_type": "execute_result"
    },
    {
     "data": {
      "image/png": "[encoded data removed]",
      "text/plain": [
       "<Figure size 640x480 with 2 Axes>"
      ]
     },
     "metadata": {},
     "output_type": "display_data"
    }
   ],
   "source": [
    "import matplotlib as mpl\n",
    "import matplotlib.pyplot as plt\n",
    "import seaborn as sns\n",
    "\n",
    "adot_res_vs_og = np.abs(np.sum(fib_res*fib_og, axis=1))\n",
    "adot_res_vs_sim = np.abs(np.sum(fib_res*fib_sim, axis=1))\n",
    "\n",
    "fig, axes = plt.subplots(1,2)\n",
    "axes[0].set_title('Fibres OG vs 008')\n",
    "axes[1].set_title('Fibres 007 vs 008')\n",
    "\n",
    "sns.boxplot(ax=axes[0], x=adot_res_vs_og)\n",
    "sns.stripplot(ax=axes[1], x=adot_res_vs_sim)\n",
    "\n",
    "100*np.sum(adot_res_vs_sim<0.99999)/len(adot_res_vs_sim)"
   ]
  },
  {
   "cell_type": "markdown",
   "metadata": {},
   "source": [
    "\n"
   ]
  },
  {
   "cell_type": "code",
   "execution_count": null,
   "metadata": {},
   "outputs": [],
   "source": [
    "cases = [9, 20, 35, 71, 80]\n",
    "test_008, _, _, test_mode, test_OG, test_007 = extract_from_dataframe(dframe=df, window=cases, bdir=base_dir)\n",
    "\n",
    "run_in_os = False\n",
    "\n",
    "print(df.iloc[cases]['ID'])\n",
    "\n",
    "for ix in range(len(test_OG)) : \n",
    "    print('cp -r {} {}'.format(test_OG[ix], iou.fullfile(base_dir, '010_consistency_tests', 'M'+str(cases[ix]+1)))) \n",
    "    if run_in_os : \n",
    "        os.system('cp -r {} {}'.format(test_OG[ix], iou.fullfile(base_dir, '010_consistency_tests', 'M'+str(cases[ix]+1)))) \n"
   ]
  },
  {
   "cell_type": "markdown",
   "metadata": {},
   "source": [
    "# Consistency tests\n",
    "Start here to load and set variables. \n",
    "\n"
   ]
  },
  {
   "cell_type": "code",
   "execution_count": 9,
   "metadata": {},
   "outputs": [
    {
     "name": "stdout",
     "output_type": "stream",
     "text": [
      "[INFO] Number of elements: 710430\n",
      "[INFO] Number of elements: 710430\n",
      "[007 vs 010] Pts: 2.19092453906399e-08, El: 0.0\n",
      "[INFO] Number of elements: 710430\n",
      "[008 vs 010] Pts: 2.19092453906399e-08, El: 0.0\n"
     ]
    }
   ],
   "source": [
    "cases = [9, 20, 35, 71, 80]\n",
    "test_008, _, _, _, _, test_007 = extract_from_dataframe(\n",
    "    dframe=df, window=cases, bdir=base_dir)\n",
    "\n",
    "test_010 = [l.replace('008_simulation_results', '010_consistency_tests') for l in test_008]\n",
    "\n",
    "fibre_name_010 = 'Bilayer'\n",
    "fibre_name_007 = 'FF1_Bilayer'\n",
    "fibre_name_008 = 'Bilayer_1'\n",
    "\n",
    "cx = 0\n",
    "\n",
    "# print(iou.fullfile(test_010[cx], fibre_name_010))\n",
    "\n",
    "pts007, el007, _ = iou.loadCarpMesh(fibre_name_007, test_007[cx])\n",
    "pts010, el010, _ = iou.loadCarpMesh(fibre_name_010, test_010[cx])\n",
    "\n",
    "pts_mean_l2,el_mean_l2,c = iou.compareCarpMesh(pts1=pts007, el1=el007, pts2=pts010, el2=el010)\n",
    "\n",
    "print('[007 vs 010] Pts: {}, El: {}'.format(pts_mean_l2, el_mean_l2))\n",
    "\n",
    "pts008, el008, _ = iou.loadCarpMesh(fibre_name_008, test_008[cx])\n",
    "\n",
    "pts_mean_l2,el_mean_l2,c = iou.compareCarpMesh(pts1=pts008, el1=el008, pts2=pts010, el2=el010)\n",
    "print('[008 vs 010] Pts: {}, El: {}'.format(pts_mean_l2, el_mean_l2))"
   ]
  },
  {
   "cell_type": "markdown",
   "metadata": {},
   "source": [
    "Continue here to load the fibre files and calculate the absolute value of the dot product between the files"
   ]
  },
  {
   "cell_type": "code",
   "execution_count": 12,
   "metadata": {},
   "outputs": [
    {
     "name": "stdout",
     "output_type": "stream",
     "text": [
      "[7vs10] Fibres with abs_dot higher than [0.9]: 374407 / 710430\n",
      "[8vs10] Fibres with abs_dot higher than [0.9]: 374408 / 710430\n"
     ]
    },
    {
     "data": {
      "image/png": "[encoded data removed]",
      "text/plain": [
       "<Figure size 640x480 with 2 Axes>"
      ]
     },
     "metadata": {},
     "output_type": "display_data"
    }
   ],
   "source": [
    "import matplotlib as mpl\n",
    "import matplotlib.pyplot as plt\n",
    "import seaborn as sns\n",
    "\n",
    "exts = {'points': '.pts', 'elements': '.elem', 'fibres' : '.lon'}\n",
    "\n",
    "fib007 = np.loadtxt(iou.fullfile(test_007[cx], fibre_name_007 + exts['fibres']))\n",
    "fib008 = np.loadtxt(iou.fullfile(test_008[cx], fibre_name_008 + exts['fibres']))\n",
    "fib010 = np.loadtxt(iou.fullfile(test_010[cx], fibre_name_010 + exts['fibres']))\n",
    "\n",
    "adot_7_vs_10 = np.abs(iou.dot_prod_vec(fib007, fib010))\n",
    "adot_8_vs_10 = np.abs(iou.dot_prod_vec(fib008, fib010))\n",
    "\n"
   ]
  },
  {
   "cell_type": "code",
   "execution_count": 16,
   "metadata": {},
   "outputs": [
    {
     "name": "stdout",
     "output_type": "stream",
     "text": [
      "[7vs10] Fibres with abs_dot higher than [0.75]: 433839 / 710430\n",
      "[8vs10] Fibres with abs_dot higher than [0.75]: 433836 / 710430\n"
     ]
    },
    {
     "data": {
      "image/png": "[encoded data removed]",
      "text/plain": [
       "<Figure size 640x480 with 2 Axes>"
      ]
     },
     "metadata": {},
     "output_type": "display_data"
    }
   ],
   "source": [
    "\n",
    "fig, axes = plt.subplots(1,2)\n",
    "axes[0].set_title('Fibres 007 vs 010')\n",
    "axes[1].set_title('Fibres 008 vs 010')\n",
    "sns.boxplot(ax=axes[0], x=adot_7_vs_10)\n",
    "sns.boxplot(ax=axes[1], x=adot_8_vs_10)\n",
    "\n",
    "th=0.75\n",
    "print('[7vs10] Fibres with abs_dot higher than [{}]: {} / {}'.format(th, np.sum(adot_7_vs_10 > th), len(adot_7_vs_10)))\n",
    "print('[8vs10] Fibres with abs_dot higher than [{}]: {} / {}'.format(th, np.sum(adot_8_vs_10 > th), len(adot_8_vs_10)))\n"
   ]
  },
  {
   "cell_type": "markdown",
   "metadata": {},
   "source": [
    "# FIBRE AGREEMENT COMPARISONS\n",
    "This recreates the comparisons between fibre fields for the comparisons \n",
    "+ Inter - User A vs User B\n",
    "+ Intra - Patient A vs Patient A"
   ]
  },
  {
   "cell_type": "code",
   "execution_count": null,
   "metadata": {},
   "outputs": [],
   "source": [
    "\n",
    "ix=1\n",
    "\n",
    "u0 = user_a[ix] \n",
    "u1 = user_b[ix]\n",
    "p0 = patient_a[ix] \n",
    "p1 = patient_b[ix]\n",
    "\n",
    "iou.cout('{}: U0[{}] vs U1[{}]'.format(ix, u0, u1), typeMsg='PROCESSING')\n",
    "\n",
    "patient = p0 if(mode_a[ix] == 'inter') else p0[0:-2]\n",
    "\n",
    "mesh_a = vtku.readVtk(iou.fullfile(dir_a[ix], mname + '.vtk'))\n",
    "mesh_b = vtku.readVtk(iou.fullfile(dir_b[ix], mname + '.vtk'))\n",
    "\n",
    "fib_a = np.loadtxt(iou.fullfile(dir_a[ix], mname + '.lon'))\n",
    "fib_b = np.loadtxt(iou.fullfile(dir_b[ix], mname + '.lon'))\n",
    "\n",
    "\n",
    "\n",
    "# fib_comparison = vtku.compare_fibres(msh_a=mesh_a, msh_b=mesh_b, f_a=fib_a, f_b=fib_b)"
   ]
  },
  {
   "cell_type": "code",
   "execution_count": null,
   "metadata": {},
   "outputs": [],
   "source": [
    "for ix in range(1) : \n",
    "    u0 = user_a[ix] \n",
    "    u1 = user_b[ix]\n",
    "    p0 = patient_a[ix] \n",
    "    p1 = patient_b[ix]\n",
    "    iou.cout('{}: U0[{}] vs U1[{}]'.format(ix, u0, u1), typeMsg='PROCESSING')\n",
    "\n",
    "    patient = p0 if(mode_a[ix] == 'inter') else p0[0:-2]\n",
    "    \n",
    "    path_left = dir_a[ix]\n",
    "    tot_left = iou.getTotal(iou.fullfile(path_left, mname+'.pts'))\n",
    "\n",
    "    path_right = dir_b[ix]\n",
    "    tot_right = iou.getTotal(iou.fullfile(path_right, mname + '.pts'))\n",
    "\n",
    "    path0=path_left \n",
    "    path1=path_right \n",
    "    if tot_left < tot_right : \n",
    "        path0=path_right\n",
    "        path1=path_left\n",
    "    \n",
    "    pts1, el1, region1 = iou.loadCarpMesh(mname, path1)\n",
    "    pts1 /= 1000 \n",
    "    cog1 = calc_cog(pts1, el1)\n",
    "\n",
    "    f0 = np.loadtxt(iou.fullfile(path0, mname+'.lon'))\n",
    "    f1 = np.loadtxt(iou.fullfile(path1, mname+'.lon'))\n",
    "\n",
    "    pts0, el0, region0 = iou.loadCarpMesh(mname, path0)\n",
    "    pts0 /= 1000 \n",
    "\n",
    "    vtku.saveCarpAsVtk(pts0, el0, path0, mname)\n",
    "    \n",
    "    l0 = iou.fullfile(path0,mname+'.vtk')\n",
    "    msh0 = vtku.readVtk(iou.fullfile(l0))\n",
    "\n",
    "    cell_loc=vtk.vtkCellLocator()\n",
    "    cell_loc.SetDataSet(msh0)\n",
    "    cell_loc.BuildLocator()\n",
    "\n",
    "    nel1 = len(el1)\n",
    "    f0v1_dot = np.zeros(nel1)\n",
    "    f0v1_dist = np.zeros(nel1)\n",
    "\n",
    "    for jx in range(nel1):\n",
    "        cellId = vtk.reference(0)\n",
    "        c = [0.0, 0.0, 0.0]\n",
    "        subId = vtk.reference(0)\n",
    "        d = vtk.reference(0.0)\n",
    "\n",
    "        cell_loc.FindClosestPoint(cog1[jx], c, cellId, subId, d)\n",
    "        f0v1_dist[jx] = norm2(cog1[jx] - c)\n",
    "        a=norm_vec(f0[cellId.get()])\n",
    "        b=norm_vec(f1[jx])\n",
    "        f0v1_dot[jx] = np.dot(a,b)\n",
    "\n",
    "    f0v1_angles = np.arccos(f0v1_dot)\n",
    "    f0v1_abs_dot = np.abs(f0v1_dot)\n",
    "    f0v1_angle_abs_dot = np.arccos(f0v1_abs_dot)\n",
    "\n",
    "    d={'region' : region1,\n",
    "        'dot_product' : f0v1_dot,\n",
    "        'angle' : f0v1_angles,\n",
    "        'distance_to_point' : f0v1_dist,\n",
    "        'abs_dot_product' : f0v1_abs_dot,\n",
    "        'angle_from_absdot' : f0v1_angle_abs_dot}\n",
    "\n",
    "    out_name = \"fibres_agree_\" + fibre_file + '_' + mode_a[ix] + \"_\" + patient + \".csv\"\n",
    "    out_df = pd.DataFrame(data=d)\n",
    "    out_df.to_csv(iou.fullfile(out_dir, out_name))\n",
    "\n"
   ]
  },
  {
   "cell_type": "code",
   "execution_count": null,
   "metadata": {},
   "outputs": [],
   "source": [
    "\n",
    "print(np.divide(f0.T*2,np.linalg.norm(f0*2, axis=1)).T)"
   ]
  }
 ],
 "metadata": {
  "kernelspec": {
   "display_name": "Python 3.8.13 ('imatools')",
   "language": "python",
   "name": "python3"
  },
  "language_info": {
   "codemirror_mode": {
    "name": "ipython",
    "version": 3
   },
   "file_extension": ".py",
   "mimetype": "text/x-python",
   "name": "python",
   "nbconvert_exporter": "python",
   "pygments_lexer": "ipython3",
   "version": "3.8.13"
  },
  "orig_nbformat": 4,
  "vscode": {
   "interpreter": {
    "hash": "7ef3cfad9850278225e497b94f7d476aa408699f40230bdd18bf3034bae757d5"
   }
  }
 },
 "nbformat": 4,
 "nbformat_minor": 2
}
