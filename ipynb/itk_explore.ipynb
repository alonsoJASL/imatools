{
 "cells": [
  {
   "cell_type": "code",
   "execution_count": null,
   "metadata": {},
   "outputs": [],
   "source": [
    "import sys\n",
    "import os\n",
    "IMATOOLS_DIR = os.getcwd()+'/..'\n",
    "sys.path.insert(1, IMATOOLS_DIR)\n"
   ]
  },
  {
   "cell_type": "code",
   "execution_count": null,
   "metadata": {},
   "outputs": [],
   "source": [
    "\n",
    "import numpy as np\n",
    "from imatools.common import itktools as itku\n",
    "import SimpleITK as sitk\n",
    "from imatools.common import vtktools as vtku\n",
    "from imatools.common import ioutils as iou\n",
    "\n",
    "p2f = '/Volumes/sandisk/09-dnav_vs_inav/umc/local/5/LGE_dNAV'\n",
    "imname = 'dcm-LGE-.nii'\n",
    "sim = sitk.ReadImage(iou.fullfile(p2f, imname))\n",
    "# im, origin, im_size = itktools.load_image_as_np(iou.fullfile(p2f, imname))\n",
    "im = sitk.GetArrayFromImage(sim)\n",
    "im_origin = sim.GetOrigin()\n",
    "im_size = sim.GetSize()\n",
    "im_spacing = sim.GetSpacing()\n",
    "\n",
    "meshname = 'OUTPUT/IIR_MaxScar-single-voxel.vtk'\n",
    "msh = vtku.readVtk(iou.fullfile(p2f, meshname))\n",
    "\n",
    "pts, el = vtku.extractPointsAndElemsFromVtk(msh)\n",
    "scar = vtku.convertCellDataToNpArray(msh, 'scalars')\n",
    "\n",
    "p2f = '/Volumes/sandisk/09-dnav_vs_inav/umc/local/5/LGE_dNAV'\n",
    "imname = 'dcm-LGE-.nii'\n",
    "sim=sitk.ReadImage(iou.fullfile(p2f, imname))\n",
    "# im, origin, im_size = itktools.load_image_as_np(iou.fullfile(p2f, imname))\n",
    "im = sitk.GetArrayFromImage(sim)\n",
    "im_origin = sim.GetOrigin()\n",
    "im_size = sim.GetSize()\n",
    "im_spacing = sim.GetSpacing()\n",
    "\n",
    "meshname = 'OUTPUT/IIR_MaxScar-single-voxel.vtk'\n",
    "msh = vtku.readVtk(iou.fullfile(p2f, meshname))\n",
    "\n",
    "pts, el = vtku.extractPointsAndElemsFromVtk(msh)\n",
    "scar = vtku.convertCellDataToNpArray(msh, 'scalars')\n"
   ]
  },
  {
   "cell_type": "code",
   "execution_count": null,
   "metadata": {},
   "outputs": [],
   "source": [
    "cog = np.zeros((len(el), 3))\n",
    "\n",
    "for ix in range(len(el)) : \n",
    "    this_el = el[ix,:]\n",
    "\n",
    "    this_pts = pts[this_el]\n",
    "    for p in this_pts : \n",
    "        cog[ix] += p\n",
    "    cog[ix] /= 3\n",
    "\n",
    "print(cog)\n"
   ]
  },
  {
   "cell_type": "code",
   "execution_count": null,
   "metadata": {},
   "outputs": [],
   "source": [
    "import matplotlib.pyplot as plt\n",
    "import matplotlib.image as mpimg\n",
    "\n",
    "im_slice = 62\n",
    "level = im_origin[2] + im_slice * im_spacing[2]\n",
    "im_extent = (im_origin[0], im_origin[0]+im_size[0],\n",
    "             im_origin[1], im_origin[1]+im_size[1])\n",
    "\n",
    "indx_near = (np.abs(cog[:, 2]-level) <= 1e-1)\n",
    "\n",
    "x = cog[indx_near, 0]\n",
    "y = cog[indx_near, 1]\n",
    "\n",
    "plt.imshow(np.squeeze(im[im_slice,:,:]), extent=im_extent)\n",
    "\n",
    "plt.plot(x,y, c='r')\n",
    "\n",
    "plt.show()\n"
   ]
  },
  {
   "cell_type": "code",
   "execution_count": null,
   "metadata": {},
   "outputs": [],
   "source": [
    "help(plt.imshow)"
   ]
  }
 ],
 "metadata": {
  "kernelspec": {
   "display_name": "Python 3.8.13 ('imatools')",
   "language": "python",
   "name": "python3"
  },
  "language_info": {
   "codemirror_mode": {
    "name": "ipython",
    "version": 3
   },
   "file_extension": ".py",
   "mimetype": "text/x-python",
   "name": "python",
   "nbconvert_exporter": "python",
   "pygments_lexer": "ipython3",
   "version": "3.8.13"
  },
  "orig_nbformat": 4,
  "vscode": {
   "interpreter": {
    "hash": "d269f9cdd2e06e56f3b53688bbf2655cca88fd34c49022fdd852160d3de00689"
   }
  }
 },
 "nbformat": 4,
 "nbformat_minor": 2
}
