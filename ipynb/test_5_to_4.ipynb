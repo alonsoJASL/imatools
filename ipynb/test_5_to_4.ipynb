{
 "cells": [
  {
   "cell_type": "code",
   "execution_count": 1,
   "metadata": {},
   "outputs": [],
   "source": [
    "import os\n",
    "import sys\n",
    "import numpy as np\n",
    "import pandas as pd\n",
    "\n",
    "IMATOOLS_DIR = os.getcwd()+'/..'\n",
    "sys.path.insert(1, IMATOOLS_DIR)\n",
    "\n",
    "from imatools.common import ioutils as iou\n",
    "from imatools.common import vtktools as vtku"
   ]
  },
  {
   "cell_type": "code",
   "execution_count": 2,
   "metadata": {},
   "outputs": [
    {
     "ename": "AttributeError",
     "evalue": "'vtkmodules.vtkIOLegacy.vtkPolyDataReader' object has no attribute 'GetFileVersion'",
     "output_type": "error",
     "traceback": [
      "\u001b[0;31m---------------------------------------------------------------------------\u001b[0m",
      "\u001b[0;31mAttributeError\u001b[0m                            Traceback (most recent call last)",
      "\u001b[1;32m/home/jsl19/dev/python/imatools/ipynb/test_5_to_4.ipynb Cell 2\u001b[0m in \u001b[0;36m<cell line: 5>\u001b[0;34m()\u001b[0m\n\u001b[1;32m      <a href='vscode-notebook-cell:/home/jsl19/dev/python/imatools/ipynb/test_5_to_4.ipynb#W1sZmlsZQ%3D%3D?line=1'>2</a>\u001b[0m imsh \u001b[39m=\u001b[39m \u001b[39m\"\u001b[39m\u001b[39mprodMVI\u001b[39m\u001b[39m\"\u001b[39m\n\u001b[1;32m      <a href='vscode-notebook-cell:/home/jsl19/dev/python/imatools/ipynb/test_5_to_4.ipynb#W1sZmlsZQ%3D%3D?line=2'>3</a>\u001b[0m omsh \u001b[39m=\u001b[39m imsh \u001b[39m+\u001b[39m \u001b[39m\"\u001b[39m\u001b[39m_ascii\u001b[39m\u001b[39m\"\u001b[39m\n\u001b[0;32m----> <a href='vscode-notebook-cell:/home/jsl19/dev/python/imatools/ipynb/test_5_to_4.ipynb#W1sZmlsZQ%3D%3D?line=4'>5</a>\u001b[0m vtku\u001b[39m.\u001b[39;49mconvert_5_to_4(iou\u001b[39m.\u001b[39;49mfullfile(p2f, imsh\u001b[39m+\u001b[39;49m\u001b[39m\"\u001b[39;49m\u001b[39m.vtk\u001b[39;49m\u001b[39m\"\u001b[39;49m), iou\u001b[39m.\u001b[39;49mfullfile(p2f, omsh\u001b[39m+\u001b[39;49m\u001b[39m\"\u001b[39;49m\u001b[39m.vtk\u001b[39;49m\u001b[39m\"\u001b[39;49m))\n",
      "File \u001b[0;32m~/dev/python/imatools/ipynb/../imatools/common/vtktools.py:565\u001b[0m, in \u001b[0;36mconvert_5_to_4\u001b[0;34m(imsh, omsh)\u001b[0m\n\u001b[1;32m    563\u001b[0m reader\u001b[39m.\u001b[39mSetFileName(imsh)\n\u001b[1;32m    564\u001b[0m reader\u001b[39m.\u001b[39mUpdate()\n\u001b[0;32m--> 565\u001b[0m \u001b[39mprint\u001b[39m(reader\u001b[39m.\u001b[39;49mGetFileVersion())\n\u001b[1;32m    567\u001b[0m \u001b[39m# Convert the file to VTK legacy format\u001b[39;00m\n\u001b[1;32m    568\u001b[0m writer \u001b[39m=\u001b[39m vtk\u001b[39m.\u001b[39mvtkPolyDataWriter()\n",
      "\u001b[0;31mAttributeError\u001b[0m: 'vtkmodules.vtkIOLegacy.vtkPolyDataReader' object has no attribute 'GetFileVersion'"
     ]
    }
   ],
   "source": [
    "p2f = \"/media/jsl19/sandisk/09-dnav_vs_inav/kcl/irum/ANALYSIS_Adv_Comp\"\n",
    "imsh = \"prodMVI\"\n",
    "omsh = imsh + \"_ascii\"\n",
    "\n",
    "vtku.convert_5_to_4(iou.fullfile(p2f, imsh+\".vtk\"), iou.fullfile(p2f, omsh+\".vtk\"))"
   ]
  }
 ],
 "metadata": {
  "kernelspec": {
   "display_name": "Python 3.8.13 ('imatools')",
   "language": "python",
   "name": "python3"
  },
  "language_info": {
   "codemirror_mode": {
    "name": "ipython",
    "version": 3
   },
   "file_extension": ".py",
   "mimetype": "text/x-python",
   "name": "python",
   "nbconvert_exporter": "python",
   "pygments_lexer": "ipython3",
   "version": "3.8.13"
  },
  "orig_nbformat": 4,
  "vscode": {
   "interpreter": {
    "hash": "7ef3cfad9850278225e497b94f7d476aa408699f40230bdd18bf3034bae757d5"
   }
  }
 },
 "nbformat": 4,
 "nbformat_minor": 2
}
