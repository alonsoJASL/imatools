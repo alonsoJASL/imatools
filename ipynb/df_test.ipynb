{
 "cells": [
  {
   "cell_type": "code",
   "execution_count": 1,
   "metadata": {},
   "outputs": [],
   "source": [
    "import sys\n",
    "import os\n",
    "IMATOOLS_DIR = os.getcwd()+'/..'\n",
    "sys.path.insert(1, IMATOOLS_DIR) \n",
    "\n",
    "\n",
    "from imatools.common import ioutils as iou\n",
    "from imatools.common import vtktools as vtku\n",
    "\n",
    "import pandas as pd \n",
    "import numpy as np\n"
   ]
  },
  {
   "cell_type": "code",
   "execution_count": 2,
   "metadata": {},
   "outputs": [],
   "source": [
    "\n",
    "# Locations of hard drive based on platform\n",
    "dirdic={'macOS'   : '/Volumes/sandisk', \n",
    "        'Linux'   : '/media/jsl19/sandisk' , \n",
    "        'Windows' : 'D:/'}\n",
    "\n",
    "p2f = iou.fullfile(dirdic[iou.chooseplatform()], '09-dnav_vs_inav/umc')\n",
    "name = 'spatial_correspondence.csv'\n",
    "\n",
    "df = pd.read_csv(iou.fullfile(p2f, 'local',name), skipinitialspace=True)\n",
    "df_stats = pd.read_csv(iou.fullfile(p2f, 'results_local', 'stats.csv'), skipinitialspace=True)"
   ]
  },
  {
   "cell_type": "code",
   "execution_count": 3,
   "metadata": {},
   "outputs": [],
   "source": [
    "def get_data_from_vtk_path(path, type='cell') : \n",
    "    msh = vtku.readVtk(path)\n",
    "    if type=='cell' : \n",
    "        dat = vtku.convertCellDataToNpArray(msh, 'scalars')\n",
    "    else : # type=='point'\n",
    "        dat = vtku.convertPointDataToNpArray(msh, 'scalars')\n",
    "    return dat \n",
    "\n",
    "CX = ['2', '5', '6', '8', '9', '11', '12', '13', '15', '16', '17', '18', '19', '21', '22', '24', '26', '7', '10', '14', '20', '23', '25']\n",
    "\n",
    "xnav = lambda x : 'LGE_{}NAV'.format(x)\n",
    "dname = 'Normalised_IIR_MaxScar-single-voxel.vtk'\n",
    "iname = 'Scalars_i_on_d.vtk'\n"
   ]
  },
  {
   "cell_type": "code",
   "execution_count": null,
   "metadata": {},
   "outputs": [],
   "source": [
    "import matplotlib.pyplot as plt\n",
    "import seaborn as sns\n",
    "import scipy.stats as sstat\n",
    "\n",
    "# cx = 0\n",
    "fig, ax = plt.subplots(4, 6, sharex=True, sharey=True,squeeze=True)\n",
    "fig.set_figwidth(18)\n",
    "fig.set_figheight(12)\n",
    "\n",
    "sns.set_palette('colorblind')\n",
    "\n",
    "corrs = np.zeros(len(CX))\n",
    "\n",
    "for cx in range(len(CX)) : \n",
    "    ddat = get_data_from_vtk_path(iou.fullfile(p2f, 'local', CX[cx], xnav('d'), 'OUTPUT', dname))\n",
    "    idat = get_data_from_vtk_path(iou.fullfile(p2f, 'local', CX[cx], iname))\n",
    "\n",
    "    df_test = pd.DataFrame({\n",
    "        'scalars': ddat.tolist() + idat.tolist(), \n",
    "        'nav': ['dNAV'] * len(ddat) + ['iNAV']*len(idat)\n",
    "        })\n",
    "\n",
    "    subs = np.unravel_index(cx, (4,6))\n",
    "    corrs[cx] = sstat.pearsonr(ddat, idat).statistic\n",
    "\n",
    "    ax[subs].set_title('Case {} (r={:.2f})'.format(CX[cx], corrs[cx]))\n",
    "    sns.histplot(ax=ax[subs], data=df_test, x='scalars', hue='nav', \n",
    "                element='step', bins=50, multiple='dodge', stat='count', \n",
    "                binrange=(0, 2.5))\n",
    "\n",
    "\n",
    "# plt.savefig(iou.fullfile(iou.fullfile(p2f, 'local', 'scalar_comparison.eps')))\n",
    "\n"
   ]
  },
  {
   "cell_type": "code",
   "execution_count": null,
   "metadata": {},
   "outputs": [],
   "source": [
    "case_mean_diff = np.zeros(len(CX))\n",
    "for cx in range(len(CX)):\n",
    "    ddat = get_data_from_vtk_path(iou.fullfile(p2f, 'local', CX[cx], xnav('d'), 'OUTPUT', dname))\n",
    "    idat = get_data_from_vtk_path(iou.fullfile(p2f, 'local', CX[cx], iname))\n",
    "\n",
    "    case_mean_diff[cx] = np.mean(np.subtract(ddat, idat))\n",
    "\n",
    "\n",
    "sns.boxplot(y=case_mean_diff)\n",
    "print(sstat.ttest_1samp(a=case_mean_diff, popmean=0))"
   ]
  },
  {
   "cell_type": "code",
   "execution_count": null,
   "metadata": {},
   "outputs": [],
   "source": [
    "# import scipy.stats as sstat\n",
    "# help(sstat.ttest_1samp)\n",
    "\n",
    "def print_stats(arr) :\n",
    "    print('{} +/- {}'.format(np.mean(arr), np.std(arr)))\n",
    "\n",
    "print_stats(case_mean_diff)\n",
    "print_stats(corrs)\n",
    "print(iou.get_boxplot_values(corrs))\n",
    "# print('{} +/- {}'.format(np.mean(case_mean_diff), np.std(case_mean_diff)))\n",
    "# print('{} +/- {}'.format(np.mean(case_mean_diff), np.std(case_mean_diff)))\n",
    "print('')\n",
    "# sns.histplot(x=case_mean_diff, bins=20)"
   ]
  },
  {
   "cell_type": "code",
   "execution_count": null,
   "metadata": {},
   "outputs": [],
   "source": [
    "# \n",
    "#print('{:.2f} +/- {:.2f}'.format(np.nanmean(corrs),np.nanstd(corrs)))\n",
    "\n",
    "np.sort(CX)"
   ]
  },
  {
   "cell_type": "code",
   "execution_count": null,
   "metadata": {},
   "outputs": [],
   "source": [
    "# import matplotlib.pyplot as plt\n",
    "\n",
    "# df_stats['LGE_TYPE']=='iNAV'], x='CASE', y='MEAN_BP', yerr='SDEV_BP', fmt='or')\n",
    "# else :\n",
    "#     sns.scatterplot(data=df_stats, x='CASE', y='FIB_SCORE ', hue='LGE_TYPE')"
   ]
  },
  {
   "cell_type": "code",
   "execution_count": null,
   "metadata": {},
   "outputs": [],
   "source": [
    "import matplotlib as mpl\n",
    "import matplotlib.pyplot as plt\n",
    "import seaborn as sns\n",
    "\n",
    "x=np.linspace(0, 0.7, 10)\n",
    "y=x\n",
    "\n",
    "sns.set_palette(palette='Pastel1')\n",
    "sns.scatterplot(data=df, x='fibrosis_d', y='fibrosis_i', hue='th_inav', hue_order=[1.1205, 1.13, 1.1367, 1.1504, 1.2, 1.265])\n",
    "plt.plot(x,y)\n"
   ]
  },
  {
   "cell_type": "code",
   "execution_count": null,
   "metadata": {},
   "outputs": [],
   "source": [
    "fig, ax = plt.subplots(1,2)\n",
    "fig.set_figheight(5)\n",
    "fig.set_figwidth(15)\n",
    "sns.set_palette('Pastel1')\n",
    "\n",
    "sns.boxplot(ax=ax[0], x=df['th_inav'], y=(df['fibrosis_d']-df['fibrosis_i'])\n",
    "            ** 2, order=[1.1205, 1.13, 1.1367, 1.1504, 1.2, 1.265], \n",
    "            whis=1)\n",
    "sns.scatterplot(ax=ax[1], data=df, x='fibrosis_d', y='fibrosis_i', hue='th_inav', hue_order=[1.1205, 1.13, 1.1367, 1.1504, 1.2, 1.265])\n",
    "plt.plot()\n",
    "\n",
    "ax[0].set_xlabel('iNAV IIR Threshold')\n",
    "ax[0].set_ylabel('Mean Squared Error')\n",
    "ax[1].set_xlabel('dNAV Fibrosis %')\n",
    "ax[1].set_ylabel('iNAV Fibrosis %')\n",
    "\n",
    "# sns.lmplot( data=df, x='fibrosis_d', y='fibrosis_i', col='th_inav', col_order=[1.1205, 1.13, 1.1367, 1.1504, 1.2, 1.265])"
   ]
  },
  {
   "cell_type": "code",
   "execution_count": null,
   "metadata": {},
   "outputs": [],
   "source": [
    "\n",
    "fig, ax = plt.subplots(1)\n",
    "fig.set_figheight(5)\n",
    "fig.set_figwidth(15)\n",
    "sns.set_palette('Pastel1')\n",
    "sns.boxplot(ax=ax, data=df, \n",
    "    x='perf_name', y='performance', hue='th_inav', whis=1,\n",
    "    hue_order=[1.1205, 1.13, 1.1367, 1.1504, 1.2, 1.265])\n",
    "\n",
    "plt.savefig(iou.fullfile(p2f, 'performance.eps'))\n"
   ]
  },
  {
   "cell_type": "code",
   "execution_count": null,
   "metadata": {},
   "outputs": [],
   "source": [
    "metric_name = 'dice'\n",
    "th = [1.1205, 1.13, 1.1367, 1.1504, 1.2, 1.265]\n",
    "\n",
    "print(metric_name)\n",
    "for threshold in th :\n",
    "    # threshold = 1.1205\n",
    "    metric = df['performance']\n",
    "    thresh = df['th_inav']\n",
    "\n",
    "    metric = metric[df['perf_name']==metric_name]\n",
    "    thresh = thresh[df['perf_name']==metric_name]\n",
    "\n",
    "    metric = metric[thresh==threshold]\n",
    "\n",
    "    print('{:.3f} (+/-{:.3f})'.format(np.mean(metric), np.std(metric)))\n"
   ]
  },
  {
   "cell_type": "markdown",
   "metadata": {},
   "source": [
    "# Point analysis \n",
    "\n",
    "+ Load a case \n",
    "+ Move cell data to point data \n",
    "+ Explore"
   ]
  },
  {
   "cell_type": "markdown",
   "metadata": {},
   "source": [
    "**Sanity check**: check that the correct data are being retrieved - _PASSED_\n",
    "\n",
    "Compare the point data coming out of the mesh to the point data after converting cell to point."
   ]
  },
  {
   "cell_type": "code",
   "execution_count": null,
   "metadata": {},
   "outputs": [],
   "source": [
    "cx = 2\n",
    "\n",
    "dpath = iou.fullfile(p2f, 'local', CX[cx], xnav('d'), 'OUTPUT', dname)\n",
    "ipath = iou.fullfile(p2f, 'local', CX[cx], iname) \n",
    "\n",
    "dmsh = vtku.readVtk(dpath)\n",
    "imsh = vtku.readVtk(ipath)\n",
    "ddat = vtku.convertPointDataToNpArray(dmsh, 'scalars')\n",
    "idat = vtku.convertPointDataToNpArray(imsh, 'scalars')\n",
    "\n",
    "dmsh_pts = vtku.set_cell_to_point_data(dmsh, 'scalars')\n",
    "imsh_pts = vtku.set_cell_to_point_data(imsh, 'scalars')\n",
    "ddat_pts = vtku.convertPointDataToNpArray(dmsh_pts, 'scalars')\n",
    "idat_pts = vtku.convertPointDataToNpArray(imsh_pts, 'scalars')\n",
    "\n",
    "print('len idat: {}, len idat_pts: {}'.format(len(idat), len(idat_pts)))\n",
    "print('idat - idat_pts : {}'.format(np.mean(np.subtract(idat, idat_pts))))\n",
    "# ddat = get_data_from_vtk_path(dpath)\n",
    "# idat = get_data_from_vtk_path(ipath)\n"
   ]
  },
  {
   "cell_type": "markdown",
   "metadata": {},
   "source": [
    "Create all point-based `scalars_i_on_d` files. \n",
    "\n",
    "> NOTE: dNAV normalised scalars already have the point data saved in them."
   ]
  },
  {
   "cell_type": "code",
   "execution_count": null,
   "metadata": {},
   "outputs": [],
   "source": [
    "# dpath = iou.fullfile(p2f, 'local', CX[cx], xnav('d'), 'OUTPUT', dname)\n",
    "# cx = 2\n",
    "def fileparts(pth):\n",
    "    directory = os.path.dirname(pth)\n",
    "    fname_ext = os.path.basename(pth)\n",
    "    aux = os.path.splitext(fname_ext)\n",
    "    fname = aux[0]\n",
    "    ext = aux[1]\n",
    "\n",
    "    return directory, fname, ext\n",
    "\n",
    "\n",
    "for cx in range(len(CX)) : \n",
    "    \n",
    "    ipath = iou.fullfile(p2f, 'local', CX[cx], iname)\n",
    "    imsh = vtku.readVtk(ipath)\n",
    "    imsh_pts = vtku.set_cell_to_point_data(imsh, 'scalars')\n",
    "\n",
    "    di, fn, xt = fileparts(ipath)\n",
    "    iname_pts = fn + \"_pts\"\n",
    "    vtku.writeVtk(imsh_pts, di, iname_pts)\n"
   ]
  },
  {
   "cell_type": "markdown",
   "metadata": {},
   "source": [
    "+ We ran the `10_project_inav_on_dnav.sh` script, commenting the projection (as we do not need to create the `scalars_i_on_d` files). \n",
    "+ Once done, we rerun some of the calculations done before\n",
    "+ see below"
   ]
  },
  {
   "cell_type": "code",
   "execution_count": 4,
   "metadata": {},
   "outputs": [
    {
     "data": {
      "text/html": [
       "<div>\n",
       "<style scoped>\n",
       "    .dataframe tbody tr th:only-of-type {\n",
       "        vertical-align: middle;\n",
       "    }\n",
       "\n",
       "    .dataframe tbody tr th {\n",
       "        vertical-align: top;\n",
       "    }\n",
       "\n",
       "    .dataframe thead th {\n",
       "        text-align: right;\n",
       "    }\n",
       "</style>\n",
       "<table border=\"1\" class=\"dataframe\">\n",
       "  <thead>\n",
       "    <tr style=\"text-align: right;\">\n",
       "      <th></th>\n",
       "      <th>th_dnav</th>\n",
       "      <th>th_inav</th>\n",
       "      <th>fibrosis_d</th>\n",
       "      <th>fibrosis_i</th>\n",
       "      <th>performance</th>\n",
       "      <th>perf_name</th>\n",
       "    </tr>\n",
       "  </thead>\n",
       "  <tbody>\n",
       "    <tr>\n",
       "      <th>0</th>\n",
       "      <td>1.2</td>\n",
       "      <td>1.2000</td>\n",
       "      <td>0.242276</td>\n",
       "      <td>0.170156</td>\n",
       "      <td>0.229543</td>\n",
       "      <td>jaccard</td>\n",
       "    </tr>\n",
       "    <tr>\n",
       "      <th>1</th>\n",
       "      <td>1.2</td>\n",
       "      <td>1.2000</td>\n",
       "      <td>0.242276</td>\n",
       "      <td>0.170156</td>\n",
       "      <td>0.442933</td>\n",
       "      <td>precision</td>\n",
       "    </tr>\n",
       "    <tr>\n",
       "      <th>2</th>\n",
       "      <td>1.2</td>\n",
       "      <td>1.2000</td>\n",
       "      <td>0.242276</td>\n",
       "      <td>0.170156</td>\n",
       "      <td>0.322706</td>\n",
       "      <td>recall</td>\n",
       "    </tr>\n",
       "    <tr>\n",
       "      <th>3</th>\n",
       "      <td>1.2</td>\n",
       "      <td>1.2000</td>\n",
       "      <td>0.242276</td>\n",
       "      <td>0.170156</td>\n",
       "      <td>0.736644</td>\n",
       "      <td>accuracy</td>\n",
       "    </tr>\n",
       "    <tr>\n",
       "      <th>4</th>\n",
       "      <td>1.2</td>\n",
       "      <td>1.2000</td>\n",
       "      <td>0.242276</td>\n",
       "      <td>0.170156</td>\n",
       "      <td>0.373380</td>\n",
       "      <td>dice</td>\n",
       "    </tr>\n",
       "    <tr>\n",
       "      <th>...</th>\n",
       "      <td>...</td>\n",
       "      <td>...</td>\n",
       "      <td>...</td>\n",
       "      <td>...</td>\n",
       "      <td>...</td>\n",
       "      <td>...</td>\n",
       "    </tr>\n",
       "    <tr>\n",
       "      <th>685</th>\n",
       "      <td>1.2</td>\n",
       "      <td>1.1367</td>\n",
       "      <td>0.639512</td>\n",
       "      <td>0.580759</td>\n",
       "      <td>0.644086</td>\n",
       "      <td>jaccard</td>\n",
       "    </tr>\n",
       "    <tr>\n",
       "      <th>686</th>\n",
       "      <td>1.2</td>\n",
       "      <td>1.1367</td>\n",
       "      <td>0.639512</td>\n",
       "      <td>0.580759</td>\n",
       "      <td>0.812426</td>\n",
       "      <td>precision</td>\n",
       "    </tr>\n",
       "    <tr>\n",
       "      <th>687</th>\n",
       "      <td>1.2</td>\n",
       "      <td>1.1367</td>\n",
       "      <td>0.639512</td>\n",
       "      <td>0.580759</td>\n",
       "      <td>0.756597</td>\n",
       "      <td>recall</td>\n",
       "    </tr>\n",
       "    <tr>\n",
       "      <th>688</th>\n",
       "      <td>1.2</td>\n",
       "      <td>1.1367</td>\n",
       "      <td>0.639512</td>\n",
       "      <td>0.580759</td>\n",
       "      <td>0.731082</td>\n",
       "      <td>accuracy</td>\n",
       "    </tr>\n",
       "    <tr>\n",
       "      <th>689</th>\n",
       "      <td>1.2</td>\n",
       "      <td>1.1367</td>\n",
       "      <td>0.639512</td>\n",
       "      <td>0.580759</td>\n",
       "      <td>0.783518</td>\n",
       "      <td>dice</td>\n",
       "    </tr>\n",
       "  </tbody>\n",
       "</table>\n",
       "<p>690 rows × 6 columns</p>\n",
       "</div>"
      ],
      "text/plain": [
       "     th_dnav  th_inav  fibrosis_d  fibrosis_i  performance  perf_name\n",
       "0        1.2   1.2000    0.242276    0.170156     0.229543    jaccard\n",
       "1        1.2   1.2000    0.242276    0.170156     0.442933  precision\n",
       "2        1.2   1.2000    0.242276    0.170156     0.322706     recall\n",
       "3        1.2   1.2000    0.242276    0.170156     0.736644   accuracy\n",
       "4        1.2   1.2000    0.242276    0.170156     0.373380       dice\n",
       "..       ...      ...         ...         ...          ...        ...\n",
       "685      1.2   1.1367    0.639512    0.580759     0.644086    jaccard\n",
       "686      1.2   1.1367    0.639512    0.580759     0.812426  precision\n",
       "687      1.2   1.1367    0.639512    0.580759     0.756597     recall\n",
       "688      1.2   1.1367    0.639512    0.580759     0.731082   accuracy\n",
       "689      1.2   1.1367    0.639512    0.580759     0.783518       dice\n",
       "\n",
       "[690 rows x 6 columns]"
      ]
     },
     "execution_count": 4,
     "metadata": {},
     "output_type": "execute_result"
    }
   ],
   "source": [
    "p2f = iou.fullfile(dirdic[iou.chooseplatform()], '09-dnav_vs_inav/umc')\n",
    "name = 'spatial_correspondence_pts.csv'\n",
    "\n",
    "df_pts = pd.read_csv(iou.fullfile(p2f, 'local', name), skipinitialspace=True)\n",
    "\n",
    "df_pts\n"
   ]
  },
  {
   "cell_type": "code",
   "execution_count": null,
   "metadata": {},
   "outputs": [],
   "source": [
    "\n",
    "import matplotlib as mpl\n",
    "import matplotlib.pyplot as plt\n",
    "import seaborn as sns\n",
    "\n",
    "x=np.linspace(0, 0.7, 10)\n",
    "y=x\n",
    "\n",
    "sns.set_palette(palette='Pastel1')\n",
    "sns.scatterplot(data=df_pts, x='fibrosis_d', y='fibrosis_i', hue='th_inav', hue_order=[1.1205, 1.13, 1.1367, 1.1504, 1.2, 1.265])\n",
    "plt.plot(x,y)"
   ]
  },
  {
   "cell_type": "code",
   "execution_count": null,
   "metadata": {},
   "outputs": [],
   "source": [
    "fig, ax = plt.subplots(1)\n",
    "fig.set_figheight(5)\n",
    "fig.set_figwidth(15)\n",
    "sns.set_palette('Pastel1')\n",
    "sns.boxplot(ax=ax, data=df_pts,\n",
    "            x='perf_name', y='performance', hue='th_inav', whis=1,\n",
    "            hue_order=[1.1205, 1.13, 1.1367, 1.1504, 1.2, 1.265])\n",
    "\n",
    "# plt.savefig(iou.fullfile(p2f, 'performance.eps'))\n"
   ]
  },
  {
   "cell_type": "code",
   "execution_count": null,
   "metadata": {},
   "outputs": [],
   "source": [
    "metric_name = 'dice'\n",
    "th = [1.1205,1.13, 1.1367, 1.1504, 1.2, 1.265]\n",
    "\n",
    "print(metric_name)\n",
    "for threshold in th:\n",
    "    # threshold = 1.1205\n",
    "    metric = df_pts['performance']\n",
    "    thresh = df_pts['th_inav']\n",
    "\n",
    "    metric = metric[df_pts['perf_name'] == metric_name]\n",
    "    thresh = thresh[df_pts['perf_name'] == metric_name]\n",
    "\n",
    "    metric = metric[thresh == threshold]\n",
    "\n",
    "    print('{:.3f} (+/-{:.3f})'.format(np.mean(metric), np.std(metric)))\n"
   ]
  },
  {
   "cell_type": "markdown",
   "metadata": {},
   "source": [
    "# Sweep thresholds - get fibrosis scores \n",
    "\n",
    "First get the point fibrosis scores from all dnavs"
   ]
  },
  {
   "cell_type": "code",
   "execution_count": 5,
   "metadata": {},
   "outputs": [],
   "source": [
    "import numpy as np\n",
    "dname = 'Normalised_IIR_MaxScar-single-voxel.vtk'\n",
    "iname_pts = 'Scalars_i_on_d_pts.vtk'\n",
    "\n",
    "sweep = np.arange(0.7, 1.59, 0.01)\n",
    "len_sweep = len(sweep)\n",
    "\n",
    "args_min = np.zeros((len(sweep), 1), dtype=int)\n",
    "\n",
    "dfib_scores = np.zeros((len(CX), 1))\n",
    "ifib_best_scores = np.zeros_like(dfib_scores)\n",
    "ifib_best_thresholds = np.zeros_like(dfib_scores)\n",
    "ifib_scores_1d2 = np.zeros_like(ifib_best_scores)\n",
    "\n",
    "sq_err_1d2 = np.zeros_like(dfib_scores)\n",
    "sq_err_best = np.zeros_like(dfib_scores)\n",
    "for cx in range(len(CX)):\n",
    "    dpath = iou.fullfile(p2f, 'local', CX[cx], xnav('d'), 'OUTPUT', dname)\n",
    "    dmsh = vtku.readVtk(dpath)\n",
    "\n",
    "    dfib_scores[cx] = vtku.fibrosis_score_point(dmsh, 1.2)\n",
    "\n",
    "    ipath_pts = iou.fullfile(p2f, 'local', CX[cx], iname_pts)\n",
    "    imsh_pts = vtku.readVtk(ipath_pts)\n",
    "\n",
    "    sweep_scores = np.zeros((len_sweep, 1))\n",
    "    for ix in range(len_sweep):\n",
    "        sweep_scores[ix] = vtku.fibrosis_score_point(imsh_pts, sweep[ix])\n",
    "\n",
    "    sq_err = np.power(sweep_scores-dfib_scores[cx], 2)\n",
    "    args_min[cx] = np.argmin(sq_err)\n",
    "    \n",
    "    ifib_scores_1d2[cx] = sweep_scores[50] \n",
    "    sq_err_1d2[cx] = sq_err[50]\n",
    "\n",
    "    ifib_best_thresholds[cx] = sweep[args_min[cx]]\n",
    "    ifib_best_scores[cx] = sweep_scores[args_min[cx]]\n",
    "    sq_err_best[cx] = sq_err[args_min[cx]]\n"
   ]
  },
  {
   "attachments": {},
   "cell_type": "markdown",
   "metadata": {},
   "source": [
    "Wilcoxon test on new fibrosis values"
   ]
  },
  {
   "cell_type": "code",
   "execution_count": 13,
   "metadata": {},
   "outputs": [
    {
     "name": "stdout",
     "output_type": "stream",
     "text": [
      "Ranksum\n",
      "RanksumsResult(statistic=array([2.22987183]), pvalue=array([0.02575595]))\n",
      "Ttest\n",
      "Ttest_1sampResult(statistic=array([4.08791504]), pvalue=array([0.00048674]))\n",
      "Like before, we reject the null hypothesis that the fibrosis scores are equal\n"
     ]
    }
   ],
   "source": [
    "import scipy.stats as sstat\n",
    "print('Ranksum')\n",
    "print(sstat.ranksums(x=dfib_scores, y=ifib_scores_1d2))\n",
    "print(\"Ttest\")\n",
    "print(sstat.ttest_1samp(a=dfib_scores-ifib_scores_1d2, popmean=0))\n",
    "print(\"Like before, we reject the null hypothesis that the fibrosis scores are equal\")\n"
   ]
  },
  {
   "attachments": {},
   "cell_type": "markdown",
   "metadata": {},
   "source": [
    "## Best thresholds: "
   ]
  },
  {
   "cell_type": "code",
   "execution_count": 16,
   "metadata": {},
   "outputs": [
    {
     "name": "stdout",
     "output_type": "stream",
     "text": [
      "mean = 1.1500000000000004\n",
      "median = 1.1400000000000003\n",
      "{'min': 1.0300000000000002, 'low_whisker': 1.0300000000000002, 'low_quartile': 1.1000000000000003, 'median': 1.1400000000000003, 'high_quartile': 1.1800000000000004, 'high_whisker': 1.3000000000000005, 'max': 1.3500000000000005}\n"
     ]
    }
   ],
   "source": [
    "print('mean = {}'.format(np.mean(ifib_best_thresholds)))\n",
    "print('median = {}'.format(np.median(ifib_best_thresholds)))\n",
    "\n",
    "print(iou.get_boxplot_values(ifib_best_thresholds))"
   ]
  },
  {
   "attachments": {},
   "cell_type": "markdown",
   "metadata": {},
   "source": [
    "## Refined search\n",
    "\n",
    "Sweep range = `1.05:0.0001:1.35`\n",
    "\n",
    "Mean threshold = 1.15\n",
    "Median threshold = 1.14 "
   ]
  },
  {
   "cell_type": "code",
   "execution_count": 26,
   "metadata": {},
   "outputs": [
    {
     "name": "stdout",
     "output_type": "stream",
     "text": [
      "321\n",
      "0\n",
      "1\n",
      "2\n",
      "3\n",
      "4\n",
      "5\n",
      "6\n",
      "7\n",
      "8\n",
      "9\n",
      "10\n",
      "11\n",
      "12\n",
      "13\n",
      "14\n",
      "15\n",
      "16\n",
      "17\n",
      "18\n",
      "19\n",
      "20\n",
      "21\n",
      "22\n"
     ]
    }
   ],
   "source": [
    "dname = 'Normalised_IIR_MaxScar-single-voxel.vtk'\n",
    "iname_pts = 'Scalars_i_on_d_pts.vtk'\n",
    "\n",
    "rsweep = np.arange(1.03, 1.35, 0.001)\n",
    "len_rsweep = len(rsweep)\n",
    "\n",
    "args_min = np.zeros((len(CX), 1), dtype=int)\n",
    "\n",
    "ifib_rsweep_scores = np.zeros((len(CX), len_rsweep))\n",
    "print(len(rsweep))\n",
    "for cx in range(len(CX)):\n",
    "    print(cx)\n",
    "    ipath_pts = iou.fullfile(p2f, 'local', CX[cx], iname_pts)\n",
    "    imsh_pts = vtku.readVtk(ipath_pts)\n",
    "\n",
    "    rsweep_scores = np.zeros((len_rsweep, 1))\n",
    "    for ix in range(len_rsweep):\n",
    "        ifib_rsweep_scores[cx, ix] = vtku.fibrosis_score_point(imsh_pts, rsweep[ix])\n",
    "\n",
    "    args_min[cx] = np.argmin(np.power(ifib_rsweep_scores[cx, :] - dfib_scores[cx], 2))\n",
    "\n"
   ]
  },
  {
   "attachments": {},
   "cell_type": "markdown",
   "metadata": {},
   "source": [
    "## specialised threshold\n",
    "\n",
    "+ Get a random permutation of 18 cases for 'training', the remaining 5 will be for testing\n",
    "+ Find which threshold minimises across all cases (sum columns and pick minimum)\n",
    "+ Do this 100 times with different permutations\n",
    "+ Keep the 3 thresholds that perform best."
   ]
  },
  {
   "cell_type": "code",
   "execution_count": 33,
   "metadata": {},
   "outputs": [
    {
     "data": {
      "text/plain": [
       "array([[1.67628982e-01, 1.66534722e-01, 1.65394554e-01, ...,\n",
       "        8.80975323e-03, 9.00498522e-03, 9.08599676e-03],\n",
       "       [1.17867755e-01, 1.15261569e-01, 1.14278858e-01, ...,\n",
       "        4.73818089e-02, 4.77147177e-02, 4.77814394e-02],\n",
       "       [8.04239062e-02, 7.97090748e-02, 7.97090748e-02, ...,\n",
       "        5.25515280e-02, 5.25778551e-02, 5.27359564e-02],\n",
       "       ...,\n",
       "       [1.74371805e-01, 1.71485341e-01, 1.71166110e-01, ...,\n",
       "        1.61289050e-02, 1.63451107e-02, 1.64240879e-02],\n",
       "       [3.17193867e-05, 6.34914183e-05, 1.33797560e-04, ...,\n",
       "        2.48814363e-01, 2.49381590e-01, 2.50012600e-01],\n",
       "       [1.66194280e-02, 1.58606713e-02, 1.48489178e-02, ...,\n",
       "        1.61026429e-01, 1.61094705e-01, 1.61436300e-01]])"
      ]
     },
     "execution_count": 33,
     "metadata": {},
     "output_type": "execute_result"
    }
   ],
   "source": [
    "np.power(ifib_rsweep_scores-dfib_scores,2)"
   ]
  }
 ],
 "metadata": {
  "kernelspec": {
   "display_name": "imatools",
   "language": "python",
   "name": "python3"
  },
  "language_info": {
   "codemirror_mode": {
    "name": "ipython",
    "version": 3
   },
   "file_extension": ".py",
   "mimetype": "text/x-python",
   "name": "python",
   "nbconvert_exporter": "python",
   "pygments_lexer": "ipython3",
   "version": "3.8.13"
  },
  "orig_nbformat": 4,
  "vscode": {
   "interpreter": {
    "hash": "d269f9cdd2e06e56f3b53688bbf2655cca88fd34c49022fdd852160d3de00689"
   }
  }
 },
 "nbformat": 4,
 "nbformat_minor": 2
}
