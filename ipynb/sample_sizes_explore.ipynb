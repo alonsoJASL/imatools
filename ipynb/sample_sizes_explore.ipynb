{
 "cells": [
  {
   "cell_type": "code",
   "execution_count": 8,
   "metadata": {},
   "outputs": [
    {
     "name": "stdout",
     "output_type": "stream",
     "text": [
      "n_infinite: 1664100.0 n_finite: 499.85011405149226\n"
     ]
    }
   ],
   "source": [
    "import numpy as np\n",
    "\n",
    "\n",
    "N = 1000\n",
    "q = -3.29\n",
    "sigma = np.sqrt(0.5*0.5)\n",
    "\n",
    "\n",
    "def sample_size(N, zscore, p, delta=0.001):\n",
    "    sigma = np.sqrt(p*(1-p))\n",
    "    n_infinite = (sigma * zscore / delta)**2\n",
    "    n_finite = n_infinite * N / (N-1 + n_infinite)\n",
    "    print(\"n_infinite:\", n_infinite, \"n_finite:\", n_finite)\n",
    "\n",
    "\n",
    "sample_size(500, 2.58, 0.5)\n"
   ]
  }
 ],
 "metadata": {
  "kernelspec": {
   "display_name": "imatools",
   "language": "python",
   "name": "python3"
  },
  "language_info": {
   "codemirror_mode": {
    "name": "ipython",
    "version": 3
   },
   "file_extension": ".py",
   "mimetype": "text/x-python",
   "name": "python",
   "nbconvert_exporter": "python",
   "pygments_lexer": "ipython3",
   "version": "3.9.16"
  },
  "orig_nbformat": 4
 },
 "nbformat": 4,
 "nbformat_minor": 2
}
