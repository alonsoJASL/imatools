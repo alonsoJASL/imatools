{
 "cells": [
  {
   "cell_type": "code",
   "execution_count": 1,
   "metadata": {},
   "outputs": [
    {
     "name": "stdout",
     "output_type": "stream",
     "text": [
      "['M1', 'M2']\n"
     ]
    }
   ],
   "source": [
    "import os\n",
    "import sys\n",
    "import numpy as np\n",
    "import pandas as pd\n",
    "\n",
    "IMATOOLS_DIR = os.getcwd()+'/..'\n",
    "sys.path.insert(1, IMATOOLS_DIR)\n",
    "\n",
    "from imatools.common import vtktools as vtku\n",
    "from imatools.common import ioutils as iou\n",
    "\n",
    "def calc_cog(pts, el):\n",
    "    return [np.mean(pts[ee], 0) for ee in el]\n",
    "\n",
    "\n",
    "def norm2(a): return np.linalg.norm(a)\n",
    "def norm_vec(a): return a/norm2(a)\n",
    "\n",
    "\n",
    "def remove_from_dirlist(dir_list, name_to_rm):\n",
    "    if name_to_rm in dir_list:\n",
    "        dir_list.remove(name_to_rm)\n",
    "\n",
    "    return dir_list\n",
    "\n",
    "def perc_above(arr, th) : \n",
    "    return np.sum(arr>th) / len(arr)\n",
    "\n",
    "def perc_below(arr, th) : \n",
    "    return np.sum(arr<th) / len(arr)\n",
    "\n",
    "\n",
    "# Locations of hard drive based on platform\n",
    "dirdic = {'macOS': '/Volumes/sandisk',\n",
    "          'Linux': '/media/jsl19/sandisk',\n",
    "          'Windows': 'D:/'}\n",
    "\n",
    "tex_dic = {'macOS': '/Users/jsolislemus/Documents/TEX',\n",
    "           'Linux': '/home/jsl19/Documents/tex'}\n",
    "\n",
    "base_dir = iou.fullfile(dirdic[iou.chooseplatform()], '01_atrialfibres/06_Reproducibility/05_UserProjects')\n",
    "comp_dir = iou.fullfile(base_dir, '011_comparisons')\n",
    "\n",
    "ld = remove_from_dirlist(os.listdir(iou.fullfile(comp_dir,'C0')), 'COMPARISONS')\n",
    "ld = remove_from_dirlist(ld, 'MAPPING')\n",
    "\n",
    "CX = ['C' + str(n) for n in np.linspace(0,49,num=50, dtype=int)]\n",
    "\n",
    "print(ld)"
   ]
  },
  {
   "cell_type": "markdown",
   "metadata": {},
   "source": [
    "# Preliminaries: \n",
    "+ Get comparison paths and create the `processing` and `mode` lists\n",
    "+ Create local_cv files using the `gradlat` files "
   ]
  },
  {
   "cell_type": "code",
   "execution_count": 77,
   "metadata": {},
   "outputs": [
    {
     "data": {
      "text/plain": [
       "['mixed',\n",
       " 'automatic',\n",
       " 'automatic',\n",
       " 'automatic',\n",
       " 'automatic',\n",
       " 'mixed',\n",
       " 'manual',\n",
       " 'manual',\n",
       " 'manual',\n",
       " 'manual',\n",
       " 'mixed',\n",
       " 'automatic',\n",
       " 'automatic',\n",
       " 'automatic',\n",
       " 'mixed',\n",
       " 'mixed',\n",
       " 'automatic',\n",
       " 'automatic',\n",
       " 'automatic',\n",
       " 'mixed',\n",
       " 'manual',\n",
       " 'manual',\n",
       " 'manual',\n",
       " 'manual',\n",
       " 'manual',\n",
       " 'manual',\n",
       " 'manual',\n",
       " 'mixed',\n",
       " 'mixed',\n",
       " 'manual',\n",
       " 'manual',\n",
       " 'manual',\n",
       " 'manual',\n",
       " 'mixed',\n",
       " 'automatic',\n",
       " 'automatic',\n",
       " 'automatic',\n",
       " 'automatic',\n",
       " 'automatic',\n",
       " 'mixed',\n",
       " 'manual',\n",
       " 'manual',\n",
       " 'manual',\n",
       " 'manual',\n",
       " 'manual',\n",
       " 'mixed',\n",
       " 'automatic',\n",
       " 'automatic',\n",
       " 'automatic',\n",
       " 'mixed']"
      ]
     },
     "execution_count": 77,
     "metadata": {},
     "output_type": "execute_result"
    }
   ],
   "source": [
    "df_comp = pd.read_csv(iou.fullfile(comp_dir, 'comparisons_path.csv'))\n",
    "mode = df_comp['mode']\n",
    "mode = mode[np.linspace(0,98,num=50, dtype=int)]\n",
    "\n",
    "processing_raw = df_comp['processing'].tolist()\n",
    "processing_raw = [processing_raw[ix] + processing_raw[ix+1] for ix in range(50)]\n",
    "\n",
    "a='automatic'\n",
    "m='manual'\n",
    "\n",
    "processing = [p.replace(a+a, a) for p in processing_raw]\n",
    "processing = [p.replace(m+m, m) for p in processing]\n",
    "processing = [p.replace(a+m, 'mixed') for p in processing]\n",
    "processing = [p.replace(m+a, 'mixed') for p in processing]\n",
    "\n",
    "files_and_mapping = {\n",
    "    'lat': ('LAT_RSPV_X.dat', 'fibre_X_pts.csv'),\n",
    "    'cv': ('local_cv_X.dat', 'fibre_X_pts.csv'),\n",
    "    'gradlat': ('lat_X.gradmag.dat', 'fibre_X_pts.csv'),\n",
    "    'ps': ('PSNodeSmooth.dat', 'input_pts.csv'),\n",
    "    'f_endo': ('fibre_X_endo.lon', 'fibre_X_endo_elem.csv'),\n",
    "    'f_epi': ('fibre_X_epi.lon', 'fibre_X_epi_elem.csv')\n",
    "}\n",
    "\n",
    "print(len(mode))\n",
    "print(len(processing))"
   ]
  },
  {
   "cell_type": "markdown",
   "metadata": {},
   "source": [
    "Create comparison list"
   ]
  },
  {
   "cell_type": "code",
   "execution_count": 3,
   "metadata": {},
   "outputs": [],
   "source": [
    "if iou.chooseplatform() == 'Linux':\n",
    "    comparison_list = [c.replace('/Volumes', '/media/jsl19')\n",
    "                       for c in df_comp['comparison_path'].tolist()]\n",
    "else:\n",
    "    comparison_list = df_comp['comparison_path'].tolist()\n",
    "cx = 0  # go in even numbers!\n",
    "import scipy.stats as sstat\n",
    "\n",
    "def cname(dx, mx) : \n",
    "    return dx + '_' + mx + '.csv' \n",
    "comp_a = comparison_list[cx]\n",
    "comp_b = comparison_list[cx+1]\n"
   ]
  },
  {
   "cell_type": "markdown",
   "metadata": {},
   "source": [
    "## Create local cv\n",
    "Create `local_cv_X.dat` files with the reciprocal of each `gradlat_X.dat`"
   ]
  },
  {
   "cell_type": "code",
   "execution_count": 4,
   "metadata": {},
   "outputs": [
    {
     "name": "stdout",
     "output_type": "stream",
     "text": [
      "[INFO] Finished\n"
     ]
    }
   ],
   "source": [
    "dx = 'gradlat'\n",
    "mmxx = ['1', 'l'] \n",
    "\n",
    "mx = mmxx[0]\n",
    "\n",
    "for c in comparison_list : \n",
    "    for mx in mmxx : \n",
    "        fname = files_and_mapping[dx][0].replace('X', mx)\n",
    "        gradlat = np.loadtxt(iou.fullfile(c, fname))\n",
    "        qrts = iou.get_boxplot_values(gradlat)\n",
    "        gradlat[gradlat < qrts['low_whisker']] = np.nan\n",
    "        lcv = 1/gradlat\n",
    "        \n",
    "        np.savetxt(iou.fullfile(c, 'local_cv_' + mx + '.dat'), lcv)\n",
    "\n",
    "iou.cout('Finished')"
   ]
  },
  {
   "cell_type": "code",
   "execution_count": 93,
   "metadata": {},
   "outputs": [
    {
     "data": {
      "text/plain": [
       "'/media/jsl19/sandisk/01_atrialfibres/06_Reproducibility/05_UserProjects/011_comparisons/C0/M2/local_cv_l.dat'"
      ]
     },
     "execution_count": 93,
     "metadata": {},
     "output_type": "execute_result"
    }
   ],
   "source": [
    "cx = 0\n",
    "dx = 'cv'\n",
    "mx = 'l'\n",
    "\n",
    "iou.fullfile(comparison_list[cx+1], files_and_mapping[dx][0].replace('X', mx))\n"
   ]
  },
  {
   "cell_type": "code",
   "execution_count": 6,
   "metadata": {},
   "outputs": [
    {
     "name": "stdout",
     "output_type": "stream",
     "text": [
      "{'min': 239.8305836756915, 'low_whisker': 239.8305836756915, 'low_quartile': 619.248727443865, 'median': 730.7163943530237, 'high_quartile': 876.3704242509223, 'high_whisker': 1262.0529694615082, 'max': 2344.94628900525}\n"
     ]
    },
    {
     "data": {
      "text/plain": [
       "<AxesSubplot:>"
      ]
     },
     "execution_count": 6,
     "metadata": {},
     "output_type": "execute_result"
    },
    {
     "data": {
      "image/png": "[encoded data removed]",
      "text/plain": [
       "<Figure size 640x480 with 1 Axes>"
      ]
     },
     "metadata": {},
     "output_type": "display_data"
    }
   ],
   "source": [
    "import seaborn as sns\n",
    "\n",
    "dx = 'cv'\n",
    "mx = 'l'\n",
    "\n",
    "cx = 4\n",
    "comp_a = iou.fullfile(comparison_list[cx], files_and_mapping[dx][0].replace('X', mx))\n",
    "comp_b = iou.fullfile(comparison_list[cx+1], files_and_mapping[dx][0].replace('X', mx))\n",
    "\n",
    "f_a = np.loadtxt(comp_a)\n",
    "f_b = np.loadtxt(comp_b)\n",
    "\n",
    "print(iou.get_boxplot_values(f_a))\n",
    "sns.boxplot(y=f_a)\n"
   ]
  },
  {
   "cell_type": "code",
   "execution_count": 18,
   "metadata": {},
   "outputs": [
    {
     "name": "stdout",
     "output_type": "stream",
     "text": [
      "A: 143.6578, B: 137.4167, diff : 6.241100000000017\n",
      "[[1.         0.96529684]\n",
      " [0.96529684 1.        ]]\n"
     ]
    },
    {
     "data": {
      "text/html": [
       "<div>\n",
       "<style scoped>\n",
       "    .dataframe tbody tr th:only-of-type {\n",
       "        vertical-align: middle;\n",
       "    }\n",
       "\n",
       "    .dataframe tbody tr th {\n",
       "        vertical-align: top;\n",
       "    }\n",
       "\n",
       "    .dataframe thead th {\n",
       "        text-align: right;\n",
       "    }\n",
       "</style>\n",
       "<table border=\"1\" class=\"dataframe\">\n",
       "  <thead>\n",
       "    <tr style=\"text-align: right;\">\n",
       "      <th></th>\n",
       "      <th>diff_square</th>\n",
       "      <th>diff_abs</th>\n",
       "      <th>lat_0</th>\n",
       "      <th>lat_1</th>\n",
       "      <th>distance</th>\n",
       "    </tr>\n",
       "  </thead>\n",
       "  <tbody>\n",
       "    <tr>\n",
       "      <th>0</th>\n",
       "      <td>576.148810</td>\n",
       "      <td>24.0031</td>\n",
       "      <td>104.6860</td>\n",
       "      <td>80.6829</td>\n",
       "      <td>0.061969</td>\n",
       "    </tr>\n",
       "    <tr>\n",
       "      <th>1</th>\n",
       "      <td>588.702874</td>\n",
       "      <td>24.2632</td>\n",
       "      <td>104.5950</td>\n",
       "      <td>80.3318</td>\n",
       "      <td>0.190832</td>\n",
       "    </tr>\n",
       "    <tr>\n",
       "      <th>2</th>\n",
       "      <td>590.694138</td>\n",
       "      <td>24.3042</td>\n",
       "      <td>104.7080</td>\n",
       "      <td>80.4038</td>\n",
       "      <td>0.172751</td>\n",
       "    </tr>\n",
       "    <tr>\n",
       "      <th>3</th>\n",
       "      <td>583.029316</td>\n",
       "      <td>24.1460</td>\n",
       "      <td>104.7450</td>\n",
       "      <td>80.5990</td>\n",
       "      <td>0.114740</td>\n",
       "    </tr>\n",
       "    <tr>\n",
       "      <th>4</th>\n",
       "      <td>580.916045</td>\n",
       "      <td>24.1022</td>\n",
       "      <td>104.7820</td>\n",
       "      <td>80.6798</td>\n",
       "      <td>0.135512</td>\n",
       "    </tr>\n",
       "    <tr>\n",
       "      <th>...</th>\n",
       "      <td>...</td>\n",
       "      <td>...</td>\n",
       "      <td>...</td>\n",
       "      <td>...</td>\n",
       "      <td>...</td>\n",
       "    </tr>\n",
       "    <tr>\n",
       "      <th>262876</th>\n",
       "      <td>275.261281</td>\n",
       "      <td>16.5910</td>\n",
       "      <td>130.4290</td>\n",
       "      <td>113.8380</td>\n",
       "      <td>0.453934</td>\n",
       "    </tr>\n",
       "    <tr>\n",
       "      <th>262877</th>\n",
       "      <td>284.195536</td>\n",
       "      <td>16.8581</td>\n",
       "      <td>108.1070</td>\n",
       "      <td>91.2489</td>\n",
       "      <td>0.210283</td>\n",
       "    </tr>\n",
       "    <tr>\n",
       "      <th>262878</th>\n",
       "      <td>412.455481</td>\n",
       "      <td>20.3090</td>\n",
       "      <td>133.6850</td>\n",
       "      <td>113.3760</td>\n",
       "      <td>0.356253</td>\n",
       "    </tr>\n",
       "    <tr>\n",
       "      <th>262879</th>\n",
       "      <td>296.869454</td>\n",
       "      <td>17.2299</td>\n",
       "      <td>111.1130</td>\n",
       "      <td>93.8831</td>\n",
       "      <td>0.097240</td>\n",
       "    </tr>\n",
       "    <tr>\n",
       "      <th>262880</th>\n",
       "      <td>3.414365</td>\n",
       "      <td>1.8478</td>\n",
       "      <td>59.2348</td>\n",
       "      <td>57.3870</td>\n",
       "      <td>0.005247</td>\n",
       "    </tr>\n",
       "  </tbody>\n",
       "</table>\n",
       "<p>262881 rows × 5 columns</p>\n",
       "</div>"
      ],
      "text/plain": [
       "        diff_square  diff_abs     lat_0     lat_1  distance\n",
       "0        576.148810   24.0031  104.6860   80.6829  0.061969\n",
       "1        588.702874   24.2632  104.5950   80.3318  0.190832\n",
       "2        590.694138   24.3042  104.7080   80.4038  0.172751\n",
       "3        583.029316   24.1460  104.7450   80.5990  0.114740\n",
       "4        580.916045   24.1022  104.7820   80.6798  0.135512\n",
       "...             ...       ...       ...       ...       ...\n",
       "262876   275.261281   16.5910  130.4290  113.8380  0.453934\n",
       "262877   284.195536   16.8581  108.1070   91.2489  0.210283\n",
       "262878   412.455481   20.3090  133.6850  113.3760  0.356253\n",
       "262879   296.869454   17.2299  111.1130   93.8831  0.097240\n",
       "262880     3.414365    1.8478   59.2348   57.3870  0.005247\n",
       "\n",
       "[262881 rows x 5 columns]"
      ]
     },
     "execution_count": 18,
     "metadata": {},
     "output_type": "execute_result"
    }
   ],
   "source": [
    "import scipy.stats as sstat\n",
    "\n",
    "def cname(dx, mx) : \n",
    "    return dx + '_' + mx + '.csv' \n",
    "\n",
    "dx = 'lat'\n",
    "mx = 'l'\n",
    "\n",
    "cx = 0\n",
    "comparison_file = iou.fullfile(comp_dir, CX[cx], 'COMPARISONS', cname(dx, mx))\n",
    "\n",
    "df = pd.read_csv(comparison_file, skipinitialspace=True)\n",
    "\n",
    "\n",
    "\n",
    "comp_a = iou.fullfile(comparison_list[cx], files_and_mapping[dx][0].replace('X', mx))\n",
    "comp_b = iou.fullfile(comparison_list[cx+1], files_and_mapping[dx][0].replace('X', mx))\n",
    "\n",
    "f_a = np.loadtxt(comp_a)\n",
    "f_b = np.loadtxt(comp_b)\n",
    "\n",
    "TAT = lambda x : np.nanmax(x) - np.nanmin(x)\n",
    "print('A: {}, B: {}, diff : {}'.format(TAT(f_a), TAT(f_b), TAT(f_a)-TAT(f_b)))\n",
    "\n",
    "print(np.corrcoef(df['lat_0'], df['lat_1']))\n",
    "\n",
    "ss = sstat.pearsonr(df['lat_0'], df['lat_1'])\n",
    "\n",
    "# ss.statistic\n",
    "# sns.lmplot(data=df.sample(1000), x='lat_0', y='lat_1')\n",
    "\n",
    "df"
   ]
  },
  {
   "cell_type": "markdown",
   "metadata": {},
   "source": [
    "### LAT Comparisons\n",
    "1. Pairwise correlation coefficient (from mapping data)\n",
    "2. Total activation time for each, then ranksum or ttest \n",
    "\n",
    "|     | Correlation | p-val | total activation (MX) | total activation (MY) | abs(diff) | mode  | processing |    fibre   |\n",
    "|-----|-------------|-------|-----------------------|-----------------------|-----------|-------|------------|------------|\n",
    "| C0  |             |       |                       |                       |           | inter | mixed      |      1     |\n",
    "| C0  |             |       |                       |                       |           | inter | automatic  |      l     |\n",
    "| C1  |             |       |                       |                       |           | inter | automatic  |      1     | \n",
    "| ... |             |       |                       |                       |           | ...   | ...        |     ...    |\n",
    "| C49 |             |       |                       |                       |           | intra | manual     |      l     | "
   ]
  },
  {
   "cell_type": "code",
   "execution_count": 78,
   "metadata": {},
   "outputs": [],
   "source": [
    "import scipy.stats as sstat\n",
    "\n",
    "def cname(dx, mx) : \n",
    "    return dx + '_' + mx + '.csv' \n",
    "\n",
    "TAT = lambda x : np.nanmax(x) - np.nanmin(x)\n",
    "\n",
    "subsample = 0.30\n",
    "\n",
    "dx = 'lat'\n",
    "fibre_files = ['1', 'l']\n",
    "keys = ['correlation', 'corr_p_val', 'tat_a', 'tat_b', 'abs_diff', 'mode', 'processing', 'fibre' ]\n",
    "midic = dict.fromkeys(keys)\n",
    "\n",
    "midic['correlation'] = np.zeros(len(CX)*2)\n",
    "midic['corr_p_val'] = np.zeros(len(CX)*2)\n",
    "midic['tat_a'] = np.zeros(len(CX)*2)\n",
    "midic['tat_b'] = np.zeros(len(CX)*2)\n",
    "midic['fibre'] = ['1', 'l']*50\n",
    "midic['mode'] = df_comp['mode'].tolist()\n",
    "midic['processing'] = np.repeat(processing,2)\n",
    "\n",
    "\n",
    "for cx in range(len(CX)) : \n",
    "    for fx in range(len(fibre_files)) :\n",
    "        \n",
    "        comparison_file = iou.fullfile(comp_dir, CX[cx], 'COMPARISONS', cname(dx, fibre_files[fx]))\n",
    "        df = pd.read_csv(comparison_file, skipinitialspace=True).sample(frac=subsample)\n",
    "        A = df[dx+'_0']\n",
    "        B = df[dx+'_1']\n",
    "        ss = sstat.pearsonr(x=A, y=B)\n",
    "\n",
    "        idx = 2*cx + fx \n",
    "\n",
    "        midic['correlation'][idx] = ss.statistic\n",
    "        midic['corr_p_val'][idx] = ss.pvalue\n",
    "        midic['tat_a'][idx] = TAT(A)\n",
    "        midic['tat_b'][idx] = TAT(B)\n",
    "\n",
    "midic['abs_diff'] = np.abs(midic['tat_a'] - midic['tat_b'])\n",
    "\n",
    "\n",
    "df_lat = pd.DataFrame(midic)\n"
   ]
  },
  {
   "cell_type": "code",
   "execution_count": 91,
   "metadata": {},
   "outputs": [
    {
     "data": {
      "text/plain": [
       "<AxesSubplot:xlabel='mode', ylabel='correlation'>"
      ]
     },
     "execution_count": 91,
     "metadata": {},
     "output_type": "execute_result"
    },
    {
     "data": {
      "image/png": "[encoded data removed]",
      "text/plain": [
       "<Figure size 640x480 with 1 Axes>"
      ]
     },
     "metadata": {},
     "output_type": "display_data"
    }
   ],
   "source": [
    "import statsmodels.api as sm\n",
    "import matplotlib.pyplot as plt\n",
    "\n",
    "# sm.graphics.mean_diff_plot(df_lat['tat_a'], df_lat['tat_b'])\n",
    "sns.set_palette('Pastel1')\n",
    "sns.boxplot(data=df_lat, x='mode', y='correlation', hue='fibre')\n"
   ]
  },
  {
   "cell_type": "markdown",
   "metadata": {},
   "source": [
    "### CV Comparisons\n",
    "1. Get boxplot quartiles per observation\n",
    "2. Include \n",
    "3. Build table \n",
    "   \n",
    "|     | Corr (p-val) | A: median (+/- IQR) | B: median (+/- IQR) | ranksum p-val | mode  | processing |    fibre   |\n",
    "|-----|--------------|---------------------|---------------------|---------------|-------|------------|------------|\n",
    "| C0  | corr (p)     | m (+/- IQR)         | m (+/- IQR)         | p             | inter | mixed      |      1     |\n",
    "| C0  | corr (p)     | m (+/- IQR)         | m (+/- IQR)         | p             | inter | mixed      |      l     |\n",
    "| ... | ...          | ...                 | ...                 | ...           | ...   | ...        |     ...    |\n",
    "| C30 | corr (p)     | m (+/- IQR)         | m (+/- IQR)         | p             | intra | automatic  |      1     |\n",
    "| ... | ...          | ...                 | ...                 | ...           | ...   | ...        |     ...    |"
   ]
  },
  {
   "cell_type": "code",
   "execution_count": 133,
   "metadata": {},
   "outputs": [],
   "source": [
    "import scipy.stats as sstat\n",
    "\n",
    "\n",
    "def cname(dx, mx):\n",
    "    return dx + '_' + mx + '.csv'\n",
    "\n",
    "\n",
    "def TAT(x): return np.nanmax(x) - np.nanmin(x)\n",
    "\n",
    "\n",
    "subsample = 0.30\n",
    "\n",
    "dx = 'gradlat'\n",
    "fibre_files = ['1', 'l']\n",
    "keys = ['correlation', 'corr_p_val', 'median_a', 'iqr_a',\n",
    "        'median_b', 'iqr_b', 'ranksum_p_val', \n",
    "        'mode', 'processing', 'fibre']\n",
    "midic = dict.fromkeys(keys)\n",
    "\n",
    "midic['correlation'] = np.zeros(len(CX)*2)\n",
    "midic['corr_p_val'] = np.zeros(len(CX)*2)\n",
    "midic['median_a'] = np.zeros(len(CX)*2)\n",
    "midic['iqr_a'] = np.zeros(len(CX)*2)\n",
    "midic['median_b'] = np.zeros(len(CX)*2)\n",
    "midic['iqr_b'] = np.zeros(len(CX)*2)\n",
    "midic['ranksum_p_val'] = np.zeros(len(CX)*2)\n",
    "midic['fibre'] = ['1', 'l']*50\n",
    "midic['mode'] = df_comp['mode'].tolist()\n",
    "midic['processing'] = np.repeat(processing, 2)\n",
    "\n",
    "\n",
    "for cx in range(len(CX)):\n",
    "    for fx in range(len(fibre_files)):\n",
    "\n",
    "        comparison_file = iou.fullfile(\n",
    "            comp_dir, CX[cx], 'COMPARISONS', cname(dx, fibre_files[fx]))\n",
    "        df = pd.read_csv(comparison_file, skipinitialspace=True).sample(frac=subsample).reset_index()\n",
    "        A = 1/df[dx+'_0']\n",
    "        B = 1/df[dx+'_1']\n",
    "\n",
    "        ix_a = A[A < iou.get_boxplot_values(A)['low_whisker']].index\n",
    "        ix_b = B[B < iou.get_boxplot_values(B)['low_whisker']].index\n",
    "\n",
    "        drop_indx = np.unique(ix_a.append(ix_b))\n",
    "\n",
    "        A = 1/A.drop(drop_indx)\n",
    "        B = 1/B.drop(drop_indx)\n",
    "\n",
    "        ss = sstat.pearsonr(x=A, y=B)\n",
    "\n",
    "        quarts_a = iou.get_boxplot_values(A)\n",
    "        quarts_b = iou.get_boxplot_values(B)\n",
    "\n",
    "        idx = 2*cx + fx\n",
    "\n",
    "        midic['correlation'][idx] = ss.statistic\n",
    "        midic['corr_p_val'][idx] = ss.pvalue\n",
    "\n",
    "        midic['median_a'][idx] = quarts_a['median']\n",
    "        midic['iqr_a'][idx] = quarts_a['high_quartile'] - quarts_a['low_quartile']\n",
    "        midic['median_b'][idx] = quarts_b['median']\n",
    "        midic['iqr_b'][idx] = quarts_b['high_quartile'] - quarts_b['low_quartile']\n",
    "        midic['ranksum_p_val'][idx] = sstat.ranksums(A, B).pvalue\n",
    "\n",
    "df_cv = pd.DataFrame(midic)\n",
    "\n"
   ]
  },
  {
   "cell_type": "code",
   "execution_count": 136,
   "metadata": {},
   "outputs": [
    {
     "data": {
      "text/plain": [
       "<AxesSubplot:xlabel='median_a', ylabel='median_b'>"
      ]
     },
     "execution_count": 136,
     "metadata": {},
     "output_type": "execute_result"
    },
    {
     "data": {
      "image/png": "[encoded data removed]",
      "text/plain": [
       "<Figure size 640x480 with 1 Axes>"
      ]
     },
     "metadata": {},
     "output_type": "display_data"
    }
   ],
   "source": [
    "sns.histplot(data=df_cv, x='median_a', y='median_b', bins=30)"
   ]
  },
  {
   "cell_type": "code",
   "execution_count": 132,
   "metadata": {},
   "outputs": [
    {
     "name": "stdout",
     "output_type": "stream",
     "text": [
      "0        0.001102\n",
      "1        0.001273\n",
      "2        0.001844\n",
      "3        0.001253\n",
      "4        0.001384\n",
      "           ...   \n",
      "88296    0.001864\n",
      "88297    0.001520\n",
      "88298    0.001486\n",
      "88299    0.000973\n",
      "88300    0.001418\n",
      "Name: gradlat_0, Length: 88183, dtype: float64\n",
      "0        0.001281\n",
      "1        0.001141\n",
      "2        0.001837\n",
      "3        0.000994\n",
      "4        0.001355\n",
      "           ...   \n",
      "88296    0.001790\n",
      "88297    0.001242\n",
      "88298    0.001449\n",
      "88299    0.000987\n",
      "88300    0.000937\n",
      "Name: gradlat_1, Length: 88183, dtype: float64\n"
     ]
    }
   ],
   "source": [
    "# wh = A\n",
    "\n",
    "# bpv = iou.get_boxplot_values(wh)\n",
    "# wh = wh.drop(wh[wh<=bpv['low_whisker']].index)\n",
    "\n",
    "ix_a = A[A<iou.get_boxplot_values(A)['low_whisker']].index\n",
    "ix_b = B[B<iou.get_boxplot_values(B)['low_whisker']].index\n",
    "\n",
    "drop_indx = np.unique(ix_a.append(ix_b))\n",
    "\n",
    "A = A.drop(drop_indx) \n",
    "B = B.drop(drop_indx) \n",
    "\n",
    "print(A)\n",
    "print(B)\n"
   ]
  },
  {
   "cell_type": "markdown",
   "metadata": {},
   "source": [
    "### LAT/CV visualisations \n",
    "|            | Observation A | Observation B | Comparison together | CV histograms              |\n",
    "|------------|---------------|---------------|---------------------|----------------------------|\n",
    "| Intra (X)  | Map A         | Map B         | Map - Both          | overlapped histogram (A/B) |\n",
    "| Intra (Y)  | Map A         | Map B         | Map - Both          | overlapped hist            |\n",
    "| Inter (X)  | ...           | ...           | ...                 | ...                        |\n",
    "| Inter (Y)  | ...           | ...           | ...                 | ...                        |\n",
    "\n",
    "1. Get mapping file\n",
    "2. Create vtk files for A, B observations using Mapping information\n",
    "3. Create 10 thresholds per case \n",
    "4. Create images \n",
    "   1. Manually on paraview, or \n",
    "   2. automatically (`vtkContourFilter`) \n",
    "> then, for the last column try \n",
    "5. Load CV for both cases \n",
    "6. use `sns.histplot()` to create overlapping histogram representations, could be 2D histogram\n",
    "7. Assemble in graphic "
   ]
  },
  {
   "cell_type": "code",
   "execution_count": null,
   "metadata": {},
   "outputs": [],
   "source": [
    "intra_comparisons = "
   ]
  }
 ],
 "metadata": {
  "kernelspec": {
   "display_name": "Python 3.8.13 ('imatools')",
   "language": "python",
   "name": "python3"
  },
  "language_info": {
   "codemirror_mode": {
    "name": "ipython",
    "version": 3
   },
   "file_extension": ".py",
   "mimetype": "text/x-python",
   "name": "python",
   "nbconvert_exporter": "python",
   "pygments_lexer": "ipython3",
   "version": "3.8.13"
  },
  "orig_nbformat": 4,
  "vscode": {
   "interpreter": {
    "hash": "7ef3cfad9850278225e497b94f7d476aa408699f40230bdd18bf3034bae757d5"
   }
  }
 },
 "nbformat": 4,
 "nbformat_minor": 2
}
