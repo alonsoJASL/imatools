{
 "cells": [
  {
   "cell_type": "code",
   "execution_count": 1,
   "metadata": {},
   "outputs": [
    {
     "name": "stdout",
     "output_type": "stream",
     "text": [
      "['M1', 'M2']\n"
     ]
    }
   ],
   "source": [
    "import os\n",
    "import sys\n",
    "import numpy as np\n",
    "import pandas as pd\n",
    "\n",
    "IMATOOLS_DIR = os.getcwd()+'/..'\n",
    "sys.path.insert(1, IMATOOLS_DIR)\n",
    "\n",
    "from imatools.common import vtktools as vtku\n",
    "from imatools.common import ioutils as iou\n",
    "\n",
    "def calc_cog(pts, el):\n",
    "    return [np.mean(pts[ee], 0) for ee in el]\n",
    "\n",
    "\n",
    "def norm2(a): return np.linalg.norm(a)\n",
    "def norm_vec(a): return a/norm2(a)\n",
    "\n",
    "\n",
    "def remove_from_dirlist(dir_list, name_to_rm):\n",
    "    if name_to_rm in dir_list:\n",
    "        dir_list.remove(name_to_rm)\n",
    "\n",
    "    return dir_list\n",
    "\n",
    "def perc_above(arr, th) : \n",
    "    return np.sum(arr>th) / len(arr)\n",
    "\n",
    "def perc_below(arr, th) : \n",
    "    return np.sum(arr<th) / len(arr)\n",
    "\n",
    "\n",
    "# Locations of hard drive based on platform\n",
    "dirdic = {'macOS': '/Volumes/sandisk',\n",
    "          'Linux': '/media/jsl19/sandisk',\n",
    "          'Windows': 'D:/'}\n",
    "\n",
    "tex_dic = {'macOS': '/Users/jsolislemus/Documents/TEX',\n",
    "           'Linux': '/home/jsl19/Documents/tex'}\n",
    "\n",
    "base_dir = iou.fullfile(dirdic[iou.chooseplatform()], '01_atrialfibres/06_Reproducibility/05_UserProjects')\n",
    "comp_dir = iou.fullfile(base_dir, '011_comparisons')\n",
    "\n",
    "ld = remove_from_dirlist(os.listdir(iou.fullfile(comp_dir,'C0')), 'COMPARISONS')\n",
    "ld = remove_from_dirlist(ld, 'MAPPING')\n",
    "\n",
    "CX = ['C' + str(n) for n in np.linspace(0,49,num=50, dtype=int)]\n",
    "\n",
    "print(ld)"
   ]
  },
  {
   "cell_type": "markdown",
   "metadata": {},
   "source": [
    "# Preliminaries: \n",
    "+ Get comparison paths and create the `processing` and `mode` lists\n",
    "+ Create local_cv files using the `gradlat` files "
   ]
  },
  {
   "cell_type": "code",
   "execution_count": 2,
   "metadata": {},
   "outputs": [],
   "source": [
    "df_comp = pd.read_csv(iou.fullfile(comp_dir, 'comparisons_path.csv'))\n",
    "mode = df_comp['mode']\n",
    "mode = mode[np.linspace(0,98,num=50, dtype=int)]\n",
    "\n",
    "processing_raw = df_comp['processing'].tolist()\n",
    "processing_raw = [processing_raw[ix] + processing_raw[ix+1] for ix in range(50)]\n",
    "\n",
    "a='automatic'\n",
    "m='manual'\n",
    "\n",
    "processing = [p.replace(a+a, a) for p in processing_raw]\n",
    "processing = [p.replace(m+m, m) for p in processing]\n",
    "processing = [p.replace(a+m, 'mixed') for p in processing]\n",
    "processing = [p.replace(m+a, 'mixed') for p in processing]\n",
    "\n",
    "files_and_mapping = {\n",
    "    'lat': ('LAT_RSPV_X.dat', 'fibre_X_pts.csv'),\n",
    "    'cv': ('local_cv_X.dat', 'fibre_X_pts.csv'),\n",
    "    'gradlat': ('lat_X.gradmag.dat', 'fibre_X_pts.csv'),\n",
    "    'ps': ('PSNodeSmooth.dat', 'input_pts.csv'),\n",
    "    'f_endo': ('fibre_X_endo.lon', 'fibre_X_endo_elem.csv'),\n",
    "    'f_epi': ('fibre_X_epi.lon', 'fibre_X_epi_elem.csv')\n",
    "}\n",
    "\n"
   ]
  },
  {
   "cell_type": "markdown",
   "metadata": {},
   "source": [
    "Create comparison list"
   ]
  },
  {
   "cell_type": "code",
   "execution_count": 3,
   "metadata": {},
   "outputs": [],
   "source": [
    "if iou.chooseplatform() == 'Linux':\n",
    "    comparison_list = [c.replace('/Volumes', '/media/jsl19')\n",
    "                       for c in df_comp['comparison_path'].tolist()]\n",
    "else:\n",
    "    comparison_list = df_comp['comparison_path'].tolist()\n",
    "cx = 0  # go in even numbers!\n",
    "\n",
    "comp_a = comparison_list[cx]\n",
    "comp_b = comparison_list[cx+1]\n"
   ]
  },
  {
   "cell_type": "markdown",
   "metadata": {},
   "source": [
    "## Create local cv\n",
    "Create `local_cv_X.dat` files with the reciprocal of each `gradlat_X.dat`"
   ]
  },
  {
   "cell_type": "code",
   "execution_count": 4,
   "metadata": {},
   "outputs": [
    {
     "name": "stdout",
     "output_type": "stream",
     "text": [
      "[INFO] Finished\n"
     ]
    }
   ],
   "source": [
    "dx = 'gradlat'\n",
    "mmxx = ['1', 'l'] \n",
    "\n",
    "mx = mmxx[0]\n",
    "\n",
    "for c in comparison_list : \n",
    "    for mx in mmxx : \n",
    "        fname = files_and_mapping[dx][0].replace('X', mx)\n",
    "        gradlat = np.loadtxt(iou.fullfile(c, fname))\n",
    "        qrts = iou.get_boxplot_values(gradlat)\n",
    "        gradlat[gradlat < qrts['low_whisker']] = np.nan\n",
    "        lcv = 1/gradlat\n",
    "        \n",
    "        np.savetxt(iou.fullfile(c, 'local_cv_' + mx + '.dat'), lcv)\n",
    "\n",
    "iou.cout('Finished')"
   ]
  },
  {
   "cell_type": "code",
   "execution_count": 5,
   "metadata": {},
   "outputs": [
    {
     "name": "stdout",
     "output_type": "stream",
     "text": [
      "{'min': 239.7943523634131, 'low_whisker': 239.7943523634131, 'low_quartile': 583.7234551758759, 'median': 678.8290199484227, 'high_quartile': 835.7360745476578, 'high_whisker': 1213.7550036053308, 'max': 2401.9811540558653}\n"
     ]
    },
    {
     "data": {
      "text/plain": [
       "<AxesSubplot:>"
      ]
     },
     "execution_count": 5,
     "metadata": {},
     "output_type": "execute_result"
    },
    {
     "data": {
      "image/png": "[encoded data removed]",
      "text/plain": [
       "<Figure size 640x480 with 1 Axes>"
      ]
     },
     "metadata": {},
     "output_type": "display_data"
    }
   ],
   "source": [
    "import seaborn as sns\n",
    "\n",
    "dx = 'cv'\n",
    "mx = 'l'\n",
    "\n",
    "cx = 0\n",
    "comp_a = iou.fullfile(comparison_list[cx], files_and_mapping[dx][0].replace('X', mx))\n",
    "comp_b = iou.fullfile(comparison_list[cx+1], files_and_mapping[dx][0].replace('X', mx))\n",
    "\n",
    "f_a = np.loadtxt(comp_a)\n",
    "f_b = np.loadtxt(comp_b)\n",
    "\n",
    "print(iou.get_boxplot_values(f_a))\n",
    "sns.boxplot(y=f_a)\n"
   ]
  },
  {
   "cell_type": "code",
   "execution_count": 21,
   "metadata": {},
   "outputs": [
    {
     "name": "stdout",
     "output_type": "stream",
     "text": [
      "A: 143.6578, B: 137.4167, diff : 6.241100000000017\n"
     ]
    },
    {
     "data": {
      "text/plain": [
       "PearsonRResult(statistic=0.9652968420564989, pvalue=0.0)"
      ]
     },
     "execution_count": 21,
     "metadata": {},
     "output_type": "execute_result"
    }
   ],
   "source": [
    "import scipy.stats as sstat\n",
    "\n",
    "def cname(dx, mx) : \n",
    "    return dx + '_' + mx + '.csv' \n",
    "\n",
    "dx = 'lat'\n",
    "mx = 'l'\n",
    "\n",
    "cx = 0\n",
    "comparison_file = iou.fullfile(comp_dir, CX[cx], 'COMPARISONS', cname(dx, mx))\n",
    "\n",
    "df = pd.read_csv(comparison_file, skipinitialspace=True)\n",
    "\n",
    "\n",
    "\n",
    "comp_a = iou.fullfile(comparison_list[cx], files_and_mapping[dx][0].replace('X', mx))\n",
    "comp_b = iou.fullfile(comparison_list[cx+1], files_and_mapping[dx][0].replace('X', mx))\n",
    "\n",
    "f_a = np.loadtxt(comp_a)\n",
    "f_b = np.loadtxt(comp_b)\n",
    "\n",
    "TAT = lambda x : np.nanmax(x) - np.nanmin(x)\n",
    "print('A: {}, B: {}, diff : {}'.format(TAT(f_a), TAT(f_b), TAT(f_a)-TAT(f_b)))\n",
    "\n",
    "# np.corrcoef(df['lat_0'], df['lat_1'])\n",
    "sstat.pearsonr(df['lat_0'], df['lat_1'])\n"
   ]
  },
  {
   "cell_type": "code",
   "execution_count": 11,
   "metadata": {},
   "outputs": [
    {
     "data": {
      "text/plain": [
       "<AxesSubplot:>"
      ]
     },
     "execution_count": 11,
     "metadata": {},
     "output_type": "execute_result"
    },
    {
     "data": {
      "image/png": "[encoded data removed]",
      "text/plain": [
       "<Figure size 640x480 with 2 Axes>"
      ]
     },
     "metadata": {},
     "output_type": "display_data"
    }
   ],
   "source": [
    "import matplotlib.pyplot as plt \n",
    "import seaborn as sns\n",
    "\n",
    "f_a\n",
    "\n",
    "fig, ax = plt.subplots(1,2)\n",
    "# sns.histplot(ax=ax[0], x=f_a, bins=50, stat='percent')\n",
    "# sns.histplot(ax=ax[1], x=f_b, bins=50, stat='percent')\n",
    "\n",
    "sns.violinplot(ax=ax[0], y=f_a)\n",
    "sns.violinplot(ax=ax[1], y=f_b)"
   ]
  },
  {
   "cell_type": "code",
   "execution_count": 38,
   "metadata": {},
   "outputs": [
    {
     "data": {
      "text/plain": [
       "0.9968230853383758"
      ]
     },
     "execution_count": 38,
     "metadata": {},
     "output_type": "execute_result"
    },
    {
     "data": {
      "image/png": "[encoded data removed]",
      "text/plain": [
       "<Figure size 640x480 with 1 Axes>"
      ]
     },
     "metadata": {},
     "output_type": "display_data"
    }
   ],
   "source": [
    "\n",
    "def get_boxplot_values(data) : \n",
    "    B = plt.boxplot(data)\n",
    "    whis = [item.get_ydata()[1] for item in B['whiskers']]\n",
    "    midic = {\n",
    "        'min' : np.min(data), \n",
    "        'low_whisker' : whis[0],\n",
    "        'low_box' : np.percentile(data, 25), \n",
    "        'median' : np.median(data), \n",
    "        'high_box' : np.percentile(data, 75), \n",
    "        'high_whisker' : whis[1], \n",
    "        'max' : np.max(data)\n",
    "    }\n",
    "    return midic\n",
    "    \n",
    "\n",
    "d = get_boxplot_values(1/f_a)\n",
    "perc_above(1/f_a, d['low_whisker'])"
   ]
  }
 ],
 "metadata": {
  "kernelspec": {
   "display_name": "Python 3.8.13 ('imatools')",
   "language": "python",
   "name": "python3"
  },
  "language_info": {
   "codemirror_mode": {
    "name": "ipython",
    "version": 3
   },
   "file_extension": ".py",
   "mimetype": "text/x-python",
   "name": "python",
   "nbconvert_exporter": "python",
   "pygments_lexer": "ipython3",
   "version": "3.8.13"
  },
  "orig_nbformat": 4,
  "vscode": {
   "interpreter": {
    "hash": "d269f9cdd2e06e56f3b53688bbf2655cca88fd34c49022fdd852160d3de00689"
   }
  }
 },
 "nbformat": 4,
 "nbformat_minor": 2
}
