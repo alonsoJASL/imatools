{
 "cells": [
  {
   "cell_type": "code",
   "execution_count": null,
   "metadata": {},
   "outputs": [],
   "source": [
    "import sys\n",
    "import os\n",
    "IMATOOLS_DIR = os.getcwd()+'/..'\n",
    "sys.path.insert(1, IMATOOLS_DIR)\n"
   ]
  },
  {
   "cell_type": "code",
   "execution_count": null,
   "metadata": {},
   "outputs": [],
   "source": [
    "\n",
    "import numpy as np\n",
    "from imatools.common import itktools as itku\n",
    "import SimpleITK as sitk\n",
    "from imatools.common import vtktools as vtku\n",
    "from imatools.common import ioutils as iou\n",
    "\n",
    "p2f = '/Volumes/sandisk/09-dnav_vs_inav/umc/local/5/LGE_dNAV'\n",
    "imname = 'dcm-LGE-.nii'\n",
    "meshname = 'OUTPUT/IIR_MaxScar-single-voxel.vtk'\n",
    "\n",
    "msh = vtku.readVtk(iou.fullfile(p2f, meshname))\n",
    "\n",
    "pts, el = vtku.extractPointsAndElemsFromVtk(msh)\n",
    "scar = vtku.convertCellDataToNpArray(msh, 'scalars')\n"
   ]
  }
 ],
 "metadata": {
  "kernelspec": {
   "display_name": "Python 3.8.13 ('imatools')",
   "language": "python",
   "name": "python3"
  },
  "language_info": {
   "name": "python",
   "version": "3.8.13"
  },
  "orig_nbformat": 4,
  "vscode": {
   "interpreter": {
    "hash": "7ef3cfad9850278225e497b94f7d476aa408699f40230bdd18bf3034bae757d5"
   }
  }
 },
 "nbformat": 4,
 "nbformat_minor": 2
}
