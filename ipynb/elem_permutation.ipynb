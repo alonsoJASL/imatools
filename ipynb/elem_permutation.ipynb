{
 "cells": [
  {
   "cell_type": "code",
   "execution_count": null,
   "metadata": {},
   "outputs": [],
   "source": [
    "import sys\n",
    "import os\n",
    "IMATOOLS_DIR = os.getcwd()+'/..'\n",
    "sys.path.insert(1, IMATOOLS_DIR)\n"
   ]
  },
  {
   "cell_type": "code",
   "execution_count": null,
   "metadata": {},
   "outputs": [],
   "source": [
    "\n",
    "import numpy as np\n",
    "import imatools.itktools as itktools\n",
    "import SimpleITK as sitk\n",
    "import imatools.vtktools as vtktools\n",
    "import imatools.ioutils as ioutils\n",
    "\n",
    "p2f = '/Volumes/sandisk/09-dnav_vs_inav/umc/local/5/LGE_dNAV'\n",
    "imname = 'dcm-LGE-.nii'\n",
    "meshname = 'OUTPUT/IIR_MaxScar-single-voxel.vtk'\n",
    "\n",
    "msh = vtktools.readVtk(ioutils.fullfile(p2f, meshname))\n",
    "\n",
    "pts, el = vtktools.extractPointsAndElemsFromVtk(msh)\n",
    "scar = vtktools.convertCellDataToNpArray(msh, 'scalars')\n"
   ]
  }
 ],
 "metadata": {
  "kernelspec": {
   "display_name": "Python 3.9.13 64-bit",
   "language": "python",
   "name": "python3"
  },
  "language_info": {
   "name": "python",
   "version": "3.9.13"
  },
  "orig_nbformat": 4,
  "vscode": {
   "interpreter": {
    "hash": "aee8b7b246df8f9039afb4144a1f6fd8d2ca17a180786b69acc140d282b71a49"
   }
  }
 },
 "nbformat": 4,
 "nbformat_minor": 2
}
