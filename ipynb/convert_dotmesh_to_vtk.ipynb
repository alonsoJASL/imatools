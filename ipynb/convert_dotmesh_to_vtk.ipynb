{
 "cells": [
  {
   "cell_type": "code",
   "execution_count": null,
   "metadata": {},
   "outputs": [],
   "source": [
    "from imatools.common import vtktools as vtku \n",
    "\n",
    "fname = '/home/jsolisle/Downloads/1-AD.mesh' \n",
    "\n",
    "gen_attr, pts_attr, elem_attr = vtku.parse_dotmesh_file(fname, 'iso-8859-1')\n",
    "\n",
    "print(gen_attr)"
   ]
  }
 ],
 "metadata": {
  "kernelspec": {
   "display_name": "imatools",
   "language": "python",
   "name": "python3"
  },
  "language_info": {
   "codemirror_mode": {
    "name": "ipython",
    "version": 3
   },
   "file_extension": ".py",
   "mimetype": "text/x-python",
   "name": "python",
   "nbconvert_exporter": "python",
   "pygments_lexer": "ipython3",
   "version": "3.9.16"
  }
 },
 "nbformat": 4,
 "nbformat_minor": 2
}
